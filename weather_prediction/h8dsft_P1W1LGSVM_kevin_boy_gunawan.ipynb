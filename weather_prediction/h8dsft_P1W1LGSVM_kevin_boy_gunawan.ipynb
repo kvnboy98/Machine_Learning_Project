{
  "cells": [
    {
      "cell_type": "markdown",
      "metadata": {
        "id": "uP0ZG7cFZyCl"
      },
      "source": [
        "# GRADED CHALLENGE 2 PHASE 1\n",
        "`Kevin Boy Gunawan`\n",
        "<br>\n",
        "\n",
        "`FTDS-009`"
      ]
    },
    {
      "cell_type": "markdown",
      "metadata": {
        "id": "dc4f7kc5ZyCy"
      },
      "source": [
        "## 1. Introduction"
      ]
    },
    {
      "cell_type": "markdown",
      "metadata": {
        "id": "Qnv4nSApddYK"
      },
      "source": [
        "**Dataset Description**\n",
        "<br>\n",
        "* dataset berisi data observasi cuaca sepanjang 10 tahun yang diambil dari berbagai lokasi di Australia.\n",
        "<br>\n",
        "* observasi diperoleh dari berbagai macam stasiun cuaca. untuk observasi harian dapat dilihat di website berikut : http://www.bom.gov.au/climate/data.\n",
        "<br>\n",
        "* Definisi atribut dapat dibaca dan diperoleh dari http://www.bom.gov.au/climate/dwo/IDCJDW0000.shtml\n",
        "<br>\n",
        "* sumber data: http://www.bom.gov.au/climate/dwo/ and http://www.bom.gov.au/climate/data.\n",
        "* dataset projek ini dikoleksi oleh joe young dan adam young yang dapat diakses di https://www.kaggle.com/jsphyg/weather-dataset-rattle-package\n",
        "<br>\n",
        "\n",
        "**Project Objective**\n",
        "<br>\n",
        "* melakukan prediksi cuaca apakah akan terjadi hujan atau tidak\n",
        "* meninjau nilai recall score dari model untuk kasus prediksi hujan\n",
        "<br>\n",
        "<br>\n",
        "\n",
        "**Attribute Description:**\n",
        "\n",
        "Date - The date of observation\n",
        "<br>\n",
        "Location - The common name of the location of the weather station\n",
        "<br>\n",
        "MinTemp - The minimum temperature in degrees celsius\n",
        "<br>\n",
        "MaxTemp - The maximum temperature in degrees celsius\n",
        "<br>\n",
        "Rainfall - The amount of rainfall recorded for the day in mm\n",
        "<br>\n",
        "Evaporation - The so-called Class A pan evaporation (mm) in the 24 hours to 9am\n",
        "<br>\n",
        "Sunshine - The number of hours of bright sunshine in the day.\n",
        "<br>\n",
        "WindGustDir - The direction of the strongest wind gust in the 24 hours to midnight\n",
        "<br>\n",
        "WindGustSpeed - The speed (km/h) of the strongest wind gust in the 24 hours to midnight\n",
        "<br>\n",
        "WindDir9am - Direction of the wind at 9am\n",
        "<br>\n",
        "WindDir3pm - Direction of the wind at 3pm\n",
        "<br>\n",
        "WindSpeed9am - Wind speed (km/hr) averaged over 10 minutes prior to 9am\n",
        "<br>\n",
        "WindSpeed3pm - Wind speed (km/hr) averaged over 10 minutes prior to 3pm\n",
        "<br>\n",
        "Humidity9am - Humidity (percent) at 9am\n",
        "<br>\n",
        "Humidity3pm - Humidity (percent) at 3pm\n",
        "<br>\n",
        "Pressure9am - Atmospheric pressure (hpa) reduced to mean sea level at 9am\n",
        "<br>\n",
        "Pressure3pm - Atmospheric pressure (hpa) reduced to mean sea level at 3pm\n",
        "<br>\n",
        "Cloud9am - Fraction of sky obscured by cloud at 9am. This is measured in \"oktas\", which are a unit of eigths. It records how many eigths of the sky are obscured by cloud. A 0 measure indicates completely clear sky whilst an 8 indicates that it is completely overcast.\n",
        "<br>\n",
        "Cloud3pm - Fraction of sky obscured by cloud (in \"oktas\": eighths) at 3pm. See Cload9am for a description of the values\n",
        "<br>\n",
        "Temp9am - Temperature (degrees C) at 9am\n",
        "<br>\n",
        "Temp3pm - Temperature (degrees C) at 3pm\n",
        "<br>\n",
        "RainToday - Boolean: 1 if precipitation (mm) in the 24 hours to 9am exceeds 1mm, otherwise 0\n",
        "<br>\n",
        "RainTomorrow - The amount of next day rain in mm. Used to create response \n",
        "variable RainTomorrow. A kind of measure of the \"risk\"."
      ]
    },
    {
      "cell_type": "markdown",
      "metadata": {
        "id": "2Foe4NinZyCz"
      },
      "source": [
        "## 2. Import Libraries"
      ]
    },
    {
      "cell_type": "code",
      "execution_count": 1,
      "metadata": {
        "id": "R6PoQwn8ZyC0"
      },
      "outputs": [],
      "source": [
        "import pandas as pd\n",
        "import numpy as np\n",
        "import seaborn as sns\n",
        "import matplotlib.pyplot as plt\n",
        "from sklearn.model_selection import train_test_split\n",
        "from sklearn.preprocessing import StandardScaler, LabelEncoder, OrdinalEncoder, PolynomialFeatures, OneHotEncoder\n",
        "from sklearn.linear_model import LogisticRegression\n",
        "from sklearn.metrics import accuracy_score, f1_score, precision_score, recall_score, roc_auc_score, plot_roc_curve, roc_curve, auc, RocCurveDisplay\n",
        "from sklearn.impute import SimpleImputer\n",
        "from sklearn.svm import SVC\n",
        "from geopy.exc import GeocoderTimedOut\n",
        "from geopy.geocoders import Nominatim\n",
        "import plotly.express as px"
      ]
    },
    {
      "cell_type": "code",
      "execution_count": 2,
      "metadata": {
        "id": "RSEC4tXH6fD4"
      },
      "outputs": [],
      "source": [
        "import warnings\n",
        "warnings.filterwarnings(\"ignore\")"
      ]
    },
    {
      "cell_type": "markdown",
      "metadata": {
        "id": "V9bjAs5DZyC1"
      },
      "source": [
        "## 3. Data Loading"
      ]
    },
    {
      "cell_type": "code",
      "execution_count": 3,
      "metadata": {
        "id": "f7NiZyRBZyC2"
      },
      "outputs": [],
      "source": [
        "data = pd.read_csv('weatherAUS.csv')"
      ]
    },
    {
      "cell_type": "code",
      "execution_count": 4,
      "metadata": {
        "id": "Nli97GrcZyC3"
      },
      "outputs": [],
      "source": [
        "pd.set_option(\"display.max_columns\", 100)"
      ]
    },
    {
      "cell_type": "code",
      "execution_count": 5,
      "metadata": {
        "colab": {
          "base_uri": "https://localhost:8080/"
        },
        "id": "VzInxp-iZyC4",
        "outputId": "148db90a-4f76-4b87-8245-9c14a3fdd2f7"
      },
      "outputs": [
        {
          "data": {
            "text/html": [
              "<div>\n",
              "<style scoped>\n",
              "    .dataframe tbody tr th:only-of-type {\n",
              "        vertical-align: middle;\n",
              "    }\n",
              "\n",
              "    .dataframe tbody tr th {\n",
              "        vertical-align: top;\n",
              "    }\n",
              "\n",
              "    .dataframe thead th {\n",
              "        text-align: right;\n",
              "    }\n",
              "</style>\n",
              "<table border=\"1\" class=\"dataframe\">\n",
              "  <thead>\n",
              "    <tr style=\"text-align: right;\">\n",
              "      <th></th>\n",
              "      <th>Date</th>\n",
              "      <th>Location</th>\n",
              "      <th>MinTemp</th>\n",
              "      <th>MaxTemp</th>\n",
              "      <th>Rainfall</th>\n",
              "      <th>Evaporation</th>\n",
              "      <th>Sunshine</th>\n",
              "      <th>WindGustDir</th>\n",
              "      <th>WindGustSpeed</th>\n",
              "      <th>WindDir9am</th>\n",
              "      <th>WindDir3pm</th>\n",
              "      <th>WindSpeed9am</th>\n",
              "      <th>WindSpeed3pm</th>\n",
              "      <th>Humidity9am</th>\n",
              "      <th>Humidity3pm</th>\n",
              "      <th>Pressure9am</th>\n",
              "      <th>Pressure3pm</th>\n",
              "      <th>Cloud9am</th>\n",
              "      <th>Cloud3pm</th>\n",
              "      <th>Temp9am</th>\n",
              "      <th>Temp3pm</th>\n",
              "      <th>RainToday</th>\n",
              "      <th>RainTomorrow</th>\n",
              "    </tr>\n",
              "  </thead>\n",
              "  <tbody>\n",
              "    <tr>\n",
              "      <th>77673</th>\n",
              "      <td>2016-08-14</td>\n",
              "      <td>Portland</td>\n",
              "      <td>6.9</td>\n",
              "      <td>14.4</td>\n",
              "      <td>3.6</td>\n",
              "      <td>NaN</td>\n",
              "      <td>NaN</td>\n",
              "      <td>WNW</td>\n",
              "      <td>46.0</td>\n",
              "      <td>NNW</td>\n",
              "      <td>W</td>\n",
              "      <td>15.0</td>\n",
              "      <td>26.0</td>\n",
              "      <td>94.0</td>\n",
              "      <td>73.0</td>\n",
              "      <td>1026.4</td>\n",
              "      <td>1026.1</td>\n",
              "      <td>NaN</td>\n",
              "      <td>8.0</td>\n",
              "      <td>9.9</td>\n",
              "      <td>13.0</td>\n",
              "      <td>Yes</td>\n",
              "      <td>No</td>\n",
              "    </tr>\n",
              "    <tr>\n",
              "      <th>121507</th>\n",
              "      <td>2010-11-17</td>\n",
              "      <td>Perth</td>\n",
              "      <td>13.2</td>\n",
              "      <td>34.9</td>\n",
              "      <td>0.0</td>\n",
              "      <td>9.8</td>\n",
              "      <td>13.1</td>\n",
              "      <td>SW</td>\n",
              "      <td>37.0</td>\n",
              "      <td>NE</td>\n",
              "      <td>SW</td>\n",
              "      <td>15.0</td>\n",
              "      <td>20.0</td>\n",
              "      <td>28.0</td>\n",
              "      <td>18.0</td>\n",
              "      <td>1017.3</td>\n",
              "      <td>1014.6</td>\n",
              "      <td>0.0</td>\n",
              "      <td>0.0</td>\n",
              "      <td>26.5</td>\n",
              "      <td>31.7</td>\n",
              "      <td>No</td>\n",
              "      <td>No</td>\n",
              "    </tr>\n",
              "    <tr>\n",
              "      <th>70474</th>\n",
              "      <td>2009-03-23</td>\n",
              "      <td>Mildura</td>\n",
              "      <td>11.6</td>\n",
              "      <td>27.0</td>\n",
              "      <td>0.0</td>\n",
              "      <td>8.0</td>\n",
              "      <td>11.1</td>\n",
              "      <td>SSE</td>\n",
              "      <td>26.0</td>\n",
              "      <td>SSE</td>\n",
              "      <td>WSW</td>\n",
              "      <td>15.0</td>\n",
              "      <td>11.0</td>\n",
              "      <td>77.0</td>\n",
              "      <td>29.0</td>\n",
              "      <td>1017.2</td>\n",
              "      <td>1014.7</td>\n",
              "      <td>1.0</td>\n",
              "      <td>0.0</td>\n",
              "      <td>13.7</td>\n",
              "      <td>25.2</td>\n",
              "      <td>No</td>\n",
              "      <td>No</td>\n",
              "    </tr>\n",
              "    <tr>\n",
              "      <th>83541</th>\n",
              "      <td>2016-03-17</td>\n",
              "      <td>Dartmoor</td>\n",
              "      <td>13.2</td>\n",
              "      <td>35.4</td>\n",
              "      <td>0.0</td>\n",
              "      <td>6.8</td>\n",
              "      <td>5.6</td>\n",
              "      <td>WNW</td>\n",
              "      <td>67.0</td>\n",
              "      <td>NNE</td>\n",
              "      <td>NNW</td>\n",
              "      <td>15.0</td>\n",
              "      <td>26.0</td>\n",
              "      <td>50.0</td>\n",
              "      <td>24.0</td>\n",
              "      <td>1008.6</td>\n",
              "      <td>1002.5</td>\n",
              "      <td>NaN</td>\n",
              "      <td>NaN</td>\n",
              "      <td>23.8</td>\n",
              "      <td>34.3</td>\n",
              "      <td>No</td>\n",
              "      <td>Yes</td>\n",
              "    </tr>\n",
              "    <tr>\n",
              "      <th>119959</th>\n",
              "      <td>2015-08-17</td>\n",
              "      <td>PerthAirport</td>\n",
              "      <td>15.4</td>\n",
              "      <td>20.7</td>\n",
              "      <td>7.6</td>\n",
              "      <td>0.8</td>\n",
              "      <td>1.7</td>\n",
              "      <td>N</td>\n",
              "      <td>43.0</td>\n",
              "      <td>ENE</td>\n",
              "      <td>N</td>\n",
              "      <td>15.0</td>\n",
              "      <td>17.0</td>\n",
              "      <td>87.0</td>\n",
              "      <td>81.0</td>\n",
              "      <td>1019.1</td>\n",
              "      <td>1015.6</td>\n",
              "      <td>7.0</td>\n",
              "      <td>7.0</td>\n",
              "      <td>17.3</td>\n",
              "      <td>18.3</td>\n",
              "      <td>Yes</td>\n",
              "      <td>Yes</td>\n",
              "    </tr>\n",
              "  </tbody>\n",
              "</table>\n",
              "</div>"
            ],
            "text/plain": [
              "              Date      Location  MinTemp  MaxTemp  Rainfall  Evaporation  \\\n",
              "77673   2016-08-14      Portland      6.9     14.4       3.6          NaN   \n",
              "121507  2010-11-17         Perth     13.2     34.9       0.0          9.8   \n",
              "70474   2009-03-23       Mildura     11.6     27.0       0.0          8.0   \n",
              "83541   2016-03-17      Dartmoor     13.2     35.4       0.0          6.8   \n",
              "119959  2015-08-17  PerthAirport     15.4     20.7       7.6          0.8   \n",
              "\n",
              "        Sunshine WindGustDir  WindGustSpeed WindDir9am WindDir3pm  \\\n",
              "77673        NaN         WNW           46.0        NNW          W   \n",
              "121507      13.1          SW           37.0         NE         SW   \n",
              "70474       11.1         SSE           26.0        SSE        WSW   \n",
              "83541        5.6         WNW           67.0        NNE        NNW   \n",
              "119959       1.7           N           43.0        ENE          N   \n",
              "\n",
              "        WindSpeed9am  WindSpeed3pm  Humidity9am  Humidity3pm  Pressure9am  \\\n",
              "77673           15.0          26.0         94.0         73.0       1026.4   \n",
              "121507          15.0          20.0         28.0         18.0       1017.3   \n",
              "70474           15.0          11.0         77.0         29.0       1017.2   \n",
              "83541           15.0          26.0         50.0         24.0       1008.6   \n",
              "119959          15.0          17.0         87.0         81.0       1019.1   \n",
              "\n",
              "        Pressure3pm  Cloud9am  Cloud3pm  Temp9am  Temp3pm RainToday  \\\n",
              "77673        1026.1       NaN       8.0      9.9     13.0       Yes   \n",
              "121507       1014.6       0.0       0.0     26.5     31.7        No   \n",
              "70474        1014.7       1.0       0.0     13.7     25.2        No   \n",
              "83541        1002.5       NaN       NaN     23.8     34.3        No   \n",
              "119959       1015.6       7.0       7.0     17.3     18.3       Yes   \n",
              "\n",
              "       RainTomorrow  \n",
              "77673            No  \n",
              "121507           No  \n",
              "70474            No  \n",
              "83541           Yes  \n",
              "119959          Yes  "
            ]
          },
          "execution_count": 5,
          "metadata": {},
          "output_type": "execute_result"
        }
      ],
      "source": [
        "data.sample(5)"
      ]
    },
    {
      "cell_type": "code",
      "execution_count": 6,
      "metadata": {},
      "outputs": [
        {
          "data": {
            "text/html": [
              "<div>\n",
              "<style scoped>\n",
              "    .dataframe tbody tr th:only-of-type {\n",
              "        vertical-align: middle;\n",
              "    }\n",
              "\n",
              "    .dataframe tbody tr th {\n",
              "        vertical-align: top;\n",
              "    }\n",
              "\n",
              "    .dataframe thead th {\n",
              "        text-align: right;\n",
              "    }\n",
              "</style>\n",
              "<table border=\"1\" class=\"dataframe\">\n",
              "  <thead>\n",
              "    <tr style=\"text-align: right;\">\n",
              "      <th></th>\n",
              "      <th>MinTemp</th>\n",
              "      <th>MaxTemp</th>\n",
              "      <th>Rainfall</th>\n",
              "      <th>Evaporation</th>\n",
              "      <th>Sunshine</th>\n",
              "      <th>WindGustSpeed</th>\n",
              "      <th>WindSpeed9am</th>\n",
              "      <th>WindSpeed3pm</th>\n",
              "      <th>Humidity9am</th>\n",
              "      <th>Humidity3pm</th>\n",
              "      <th>Pressure9am</th>\n",
              "      <th>Pressure3pm</th>\n",
              "      <th>Cloud9am</th>\n",
              "      <th>Cloud3pm</th>\n",
              "      <th>Temp9am</th>\n",
              "      <th>Temp3pm</th>\n",
              "    </tr>\n",
              "  </thead>\n",
              "  <tbody>\n",
              "    <tr>\n",
              "      <th>count</th>\n",
              "      <td>143975.000000</td>\n",
              "      <td>144199.000000</td>\n",
              "      <td>142199.000000</td>\n",
              "      <td>82670.000000</td>\n",
              "      <td>75625.000000</td>\n",
              "      <td>135197.000000</td>\n",
              "      <td>143693.000000</td>\n",
              "      <td>142398.000000</td>\n",
              "      <td>142806.000000</td>\n",
              "      <td>140953.000000</td>\n",
              "      <td>130395.00000</td>\n",
              "      <td>130432.000000</td>\n",
              "      <td>89572.000000</td>\n",
              "      <td>86102.000000</td>\n",
              "      <td>143693.000000</td>\n",
              "      <td>141851.00000</td>\n",
              "    </tr>\n",
              "    <tr>\n",
              "      <th>mean</th>\n",
              "      <td>12.194034</td>\n",
              "      <td>23.221348</td>\n",
              "      <td>2.360918</td>\n",
              "      <td>5.468232</td>\n",
              "      <td>7.611178</td>\n",
              "      <td>40.035230</td>\n",
              "      <td>14.043426</td>\n",
              "      <td>18.662657</td>\n",
              "      <td>68.880831</td>\n",
              "      <td>51.539116</td>\n",
              "      <td>1017.64994</td>\n",
              "      <td>1015.255889</td>\n",
              "      <td>4.447461</td>\n",
              "      <td>4.509930</td>\n",
              "      <td>16.990631</td>\n",
              "      <td>21.68339</td>\n",
              "    </tr>\n",
              "    <tr>\n",
              "      <th>std</th>\n",
              "      <td>6.398495</td>\n",
              "      <td>7.119049</td>\n",
              "      <td>8.478060</td>\n",
              "      <td>4.193704</td>\n",
              "      <td>3.785483</td>\n",
              "      <td>13.607062</td>\n",
              "      <td>8.915375</td>\n",
              "      <td>8.809800</td>\n",
              "      <td>19.029164</td>\n",
              "      <td>20.795902</td>\n",
              "      <td>7.10653</td>\n",
              "      <td>7.037414</td>\n",
              "      <td>2.887159</td>\n",
              "      <td>2.720357</td>\n",
              "      <td>6.488753</td>\n",
              "      <td>6.93665</td>\n",
              "    </tr>\n",
              "    <tr>\n",
              "      <th>min</th>\n",
              "      <td>-8.500000</td>\n",
              "      <td>-4.800000</td>\n",
              "      <td>0.000000</td>\n",
              "      <td>0.000000</td>\n",
              "      <td>0.000000</td>\n",
              "      <td>6.000000</td>\n",
              "      <td>0.000000</td>\n",
              "      <td>0.000000</td>\n",
              "      <td>0.000000</td>\n",
              "      <td>0.000000</td>\n",
              "      <td>980.50000</td>\n",
              "      <td>977.100000</td>\n",
              "      <td>0.000000</td>\n",
              "      <td>0.000000</td>\n",
              "      <td>-7.200000</td>\n",
              "      <td>-5.40000</td>\n",
              "    </tr>\n",
              "    <tr>\n",
              "      <th>25%</th>\n",
              "      <td>7.600000</td>\n",
              "      <td>17.900000</td>\n",
              "      <td>0.000000</td>\n",
              "      <td>2.600000</td>\n",
              "      <td>4.800000</td>\n",
              "      <td>31.000000</td>\n",
              "      <td>7.000000</td>\n",
              "      <td>13.000000</td>\n",
              "      <td>57.000000</td>\n",
              "      <td>37.000000</td>\n",
              "      <td>1012.90000</td>\n",
              "      <td>1010.400000</td>\n",
              "      <td>1.000000</td>\n",
              "      <td>2.000000</td>\n",
              "      <td>12.300000</td>\n",
              "      <td>16.60000</td>\n",
              "    </tr>\n",
              "    <tr>\n",
              "      <th>50%</th>\n",
              "      <td>12.000000</td>\n",
              "      <td>22.600000</td>\n",
              "      <td>0.000000</td>\n",
              "      <td>4.800000</td>\n",
              "      <td>8.400000</td>\n",
              "      <td>39.000000</td>\n",
              "      <td>13.000000</td>\n",
              "      <td>19.000000</td>\n",
              "      <td>70.000000</td>\n",
              "      <td>52.000000</td>\n",
              "      <td>1017.60000</td>\n",
              "      <td>1015.200000</td>\n",
              "      <td>5.000000</td>\n",
              "      <td>5.000000</td>\n",
              "      <td>16.700000</td>\n",
              "      <td>21.10000</td>\n",
              "    </tr>\n",
              "    <tr>\n",
              "      <th>75%</th>\n",
              "      <td>16.900000</td>\n",
              "      <td>28.200000</td>\n",
              "      <td>0.800000</td>\n",
              "      <td>7.400000</td>\n",
              "      <td>10.600000</td>\n",
              "      <td>48.000000</td>\n",
              "      <td>19.000000</td>\n",
              "      <td>24.000000</td>\n",
              "      <td>83.000000</td>\n",
              "      <td>66.000000</td>\n",
              "      <td>1022.40000</td>\n",
              "      <td>1020.000000</td>\n",
              "      <td>7.000000</td>\n",
              "      <td>7.000000</td>\n",
              "      <td>21.600000</td>\n",
              "      <td>26.40000</td>\n",
              "    </tr>\n",
              "    <tr>\n",
              "      <th>max</th>\n",
              "      <td>33.900000</td>\n",
              "      <td>48.100000</td>\n",
              "      <td>371.000000</td>\n",
              "      <td>145.000000</td>\n",
              "      <td>14.500000</td>\n",
              "      <td>135.000000</td>\n",
              "      <td>130.000000</td>\n",
              "      <td>87.000000</td>\n",
              "      <td>100.000000</td>\n",
              "      <td>100.000000</td>\n",
              "      <td>1041.00000</td>\n",
              "      <td>1039.600000</td>\n",
              "      <td>9.000000</td>\n",
              "      <td>9.000000</td>\n",
              "      <td>40.200000</td>\n",
              "      <td>46.70000</td>\n",
              "    </tr>\n",
              "  </tbody>\n",
              "</table>\n",
              "</div>"
            ],
            "text/plain": [
              "             MinTemp        MaxTemp       Rainfall   Evaporation  \\\n",
              "count  143975.000000  144199.000000  142199.000000  82670.000000   \n",
              "mean       12.194034      23.221348       2.360918      5.468232   \n",
              "std         6.398495       7.119049       8.478060      4.193704   \n",
              "min        -8.500000      -4.800000       0.000000      0.000000   \n",
              "25%         7.600000      17.900000       0.000000      2.600000   \n",
              "50%        12.000000      22.600000       0.000000      4.800000   \n",
              "75%        16.900000      28.200000       0.800000      7.400000   \n",
              "max        33.900000      48.100000     371.000000    145.000000   \n",
              "\n",
              "           Sunshine  WindGustSpeed   WindSpeed9am   WindSpeed3pm  \\\n",
              "count  75625.000000  135197.000000  143693.000000  142398.000000   \n",
              "mean       7.611178      40.035230      14.043426      18.662657   \n",
              "std        3.785483      13.607062       8.915375       8.809800   \n",
              "min        0.000000       6.000000       0.000000       0.000000   \n",
              "25%        4.800000      31.000000       7.000000      13.000000   \n",
              "50%        8.400000      39.000000      13.000000      19.000000   \n",
              "75%       10.600000      48.000000      19.000000      24.000000   \n",
              "max       14.500000     135.000000     130.000000      87.000000   \n",
              "\n",
              "         Humidity9am    Humidity3pm   Pressure9am    Pressure3pm  \\\n",
              "count  142806.000000  140953.000000  130395.00000  130432.000000   \n",
              "mean       68.880831      51.539116    1017.64994    1015.255889   \n",
              "std        19.029164      20.795902       7.10653       7.037414   \n",
              "min         0.000000       0.000000     980.50000     977.100000   \n",
              "25%        57.000000      37.000000    1012.90000    1010.400000   \n",
              "50%        70.000000      52.000000    1017.60000    1015.200000   \n",
              "75%        83.000000      66.000000    1022.40000    1020.000000   \n",
              "max       100.000000     100.000000    1041.00000    1039.600000   \n",
              "\n",
              "           Cloud9am      Cloud3pm        Temp9am       Temp3pm  \n",
              "count  89572.000000  86102.000000  143693.000000  141851.00000  \n",
              "mean       4.447461      4.509930      16.990631      21.68339  \n",
              "std        2.887159      2.720357       6.488753       6.93665  \n",
              "min        0.000000      0.000000      -7.200000      -5.40000  \n",
              "25%        1.000000      2.000000      12.300000      16.60000  \n",
              "50%        5.000000      5.000000      16.700000      21.10000  \n",
              "75%        7.000000      7.000000      21.600000      26.40000  \n",
              "max        9.000000      9.000000      40.200000      46.70000  "
            ]
          },
          "execution_count": 6,
          "metadata": {},
          "output_type": "execute_result"
        }
      ],
      "source": [
        "data.describe()"
      ]
    },
    {
      "cell_type": "code",
      "execution_count": 7,
      "metadata": {
        "colab": {
          "base_uri": "https://localhost:8080/"
        },
        "id": "kbr7Aiq7ZyC6",
        "outputId": "bbad3af8-4520-42a8-fed1-39f441840b5e"
      },
      "outputs": [
        {
          "name": "stdout",
          "output_type": "stream",
          "text": [
            "<class 'pandas.core.frame.DataFrame'>\n",
            "RangeIndex: 145460 entries, 0 to 145459\n",
            "Data columns (total 23 columns):\n",
            " #   Column         Non-Null Count   Dtype  \n",
            "---  ------         --------------   -----  \n",
            " 0   Date           145460 non-null  object \n",
            " 1   Location       145460 non-null  object \n",
            " 2   MinTemp        143975 non-null  float64\n",
            " 3   MaxTemp        144199 non-null  float64\n",
            " 4   Rainfall       142199 non-null  float64\n",
            " 5   Evaporation    82670 non-null   float64\n",
            " 6   Sunshine       75625 non-null   float64\n",
            " 7   WindGustDir    135134 non-null  object \n",
            " 8   WindGustSpeed  135197 non-null  float64\n",
            " 9   WindDir9am     134894 non-null  object \n",
            " 10  WindDir3pm     141232 non-null  object \n",
            " 11  WindSpeed9am   143693 non-null  float64\n",
            " 12  WindSpeed3pm   142398 non-null  float64\n",
            " 13  Humidity9am    142806 non-null  float64\n",
            " 14  Humidity3pm    140953 non-null  float64\n",
            " 15  Pressure9am    130395 non-null  float64\n",
            " 16  Pressure3pm    130432 non-null  float64\n",
            " 17  Cloud9am       89572 non-null   float64\n",
            " 18  Cloud3pm       86102 non-null   float64\n",
            " 19  Temp9am        143693 non-null  float64\n",
            " 20  Temp3pm        141851 non-null  float64\n",
            " 21  RainToday      142199 non-null  object \n",
            " 22  RainTomorrow   142193 non-null  object \n",
            "dtypes: float64(16), object(7)\n",
            "memory usage: 25.5+ MB\n"
          ]
        }
      ],
      "source": [
        "data.info()"
      ]
    },
    {
      "cell_type": "code",
      "execution_count": 8,
      "metadata": {},
      "outputs": [
        {
          "data": {
            "text/plain": [
              "0"
            ]
          },
          "execution_count": 8,
          "metadata": {},
          "output_type": "execute_result"
        }
      ],
      "source": [
        "data.duplicated().sum()"
      ]
    },
    {
      "cell_type": "code",
      "execution_count": 9,
      "metadata": {
        "id": "Oexn7bKwZyC7"
      },
      "outputs": [],
      "source": [
        "#copy data\n",
        "data_copy = data.copy()"
      ]
    },
    {
      "cell_type": "code",
      "execution_count": 10,
      "metadata": {
        "colab": {
          "base_uri": "https://localhost:8080/"
        },
        "id": "tqwoR_0LZyC9",
        "outputId": "99184c71-4474-4aac-97e3-10a8c87fe4a7"
      },
      "outputs": [
        {
          "data": {
            "text/plain": [
              "Date             3436\n",
              "Location           49\n",
              "MinTemp           389\n",
              "MaxTemp           505\n",
              "Rainfall          681\n",
              "Evaporation       358\n",
              "Sunshine          145\n",
              "WindGustDir        16\n",
              "WindGustSpeed      67\n",
              "WindDir9am         16\n",
              "WindDir3pm         16\n",
              "WindSpeed9am       43\n",
              "WindSpeed3pm       44\n",
              "Humidity9am       101\n",
              "Humidity3pm       101\n",
              "Pressure9am       546\n",
              "Pressure3pm       549\n",
              "Cloud9am           10\n",
              "Cloud3pm           10\n",
              "Temp9am           441\n",
              "Temp3pm           502\n",
              "RainToday           2\n",
              "RainTomorrow        2\n",
              "dtype: int64"
            ]
          },
          "execution_count": 10,
          "metadata": {},
          "output_type": "execute_result"
        }
      ],
      "source": [
        "data.nunique()"
      ]
    },
    {
      "cell_type": "code",
      "execution_count": 11,
      "metadata": {
        "colab": {
          "base_uri": "https://localhost:8080/"
        },
        "id": "sQFrxDoDQoK1",
        "outputId": "bbbc1480-4f11-4b79-b874-12288dc2348c"
      },
      "outputs": [
        {
          "data": {
            "text/plain": [
              "Date                 0\n",
              "Location             0\n",
              "MinTemp           1485\n",
              "MaxTemp           1261\n",
              "Rainfall          3261\n",
              "Evaporation      62790\n",
              "Sunshine         69835\n",
              "WindGustDir      10326\n",
              "WindGustSpeed    10263\n",
              "WindDir9am       10566\n",
              "WindDir3pm        4228\n",
              "WindSpeed9am      1767\n",
              "WindSpeed3pm      3062\n",
              "Humidity9am       2654\n",
              "Humidity3pm       4507\n",
              "Pressure9am      15065\n",
              "Pressure3pm      15028\n",
              "Cloud9am         55888\n",
              "Cloud3pm         59358\n",
              "Temp9am           1767\n",
              "Temp3pm           3609\n",
              "RainToday         3261\n",
              "RainTomorrow      3267\n",
              "dtype: int64"
            ]
          },
          "execution_count": 11,
          "metadata": {},
          "output_type": "execute_result"
        }
      ],
      "source": [
        "data.isnull().sum()"
      ]
    },
    {
      "cell_type": "markdown",
      "metadata": {
        "id": "lfex0pu1ZyDA"
      },
      "source": [
        "## 4. Exploratory Data Analysis (EDA)"
      ]
    },
    {
      "cell_type": "markdown",
      "metadata": {
        "id": "jgYOledBDFdN"
      },
      "source": [
        "Bagian ini berisi eksplorasi data pada dataset diatas dengan menggunakan query, grouping, visualisasi sederhana, dan lain sebagainya."
      ]
    },
    {
      "cell_type": "code",
      "execution_count": 12,
      "metadata": {
        "colab": {
          "base_uri": "https://localhost:8080/",
          "height": 357
        },
        "id": "u24M2MjQocIe",
        "outputId": "404a6065-32a2-4291-ff9d-45feb1f8158f"
      },
      "outputs": [
        {
          "data": {
            "text/html": [
              "<div>\n",
              "<style scoped>\n",
              "    .dataframe tbody tr th:only-of-type {\n",
              "        vertical-align: middle;\n",
              "    }\n",
              "\n",
              "    .dataframe tbody tr th {\n",
              "        vertical-align: top;\n",
              "    }\n",
              "\n",
              "    .dataframe thead th {\n",
              "        text-align: right;\n",
              "    }\n",
              "</style>\n",
              "<table border=\"1\" class=\"dataframe\">\n",
              "  <thead>\n",
              "    <tr style=\"text-align: right;\">\n",
              "      <th></th>\n",
              "      <th>Date</th>\n",
              "      <th>Location</th>\n",
              "      <th>MinTemp</th>\n",
              "      <th>MaxTemp</th>\n",
              "      <th>Rainfall</th>\n",
              "      <th>Evaporation</th>\n",
              "      <th>Sunshine</th>\n",
              "      <th>WindGustDir</th>\n",
              "      <th>WindGustSpeed</th>\n",
              "      <th>WindDir9am</th>\n",
              "      <th>WindDir3pm</th>\n",
              "      <th>WindSpeed9am</th>\n",
              "      <th>WindSpeed3pm</th>\n",
              "      <th>Humidity9am</th>\n",
              "      <th>Humidity3pm</th>\n",
              "      <th>Pressure9am</th>\n",
              "      <th>Pressure3pm</th>\n",
              "      <th>Cloud9am</th>\n",
              "      <th>Cloud3pm</th>\n",
              "      <th>Temp9am</th>\n",
              "      <th>Temp3pm</th>\n",
              "      <th>RainToday</th>\n",
              "      <th>RainTomorrow</th>\n",
              "    </tr>\n",
              "  </thead>\n",
              "  <tbody>\n",
              "    <tr>\n",
              "      <th>0</th>\n",
              "      <td>2008-12-01</td>\n",
              "      <td>Albury</td>\n",
              "      <td>13.4</td>\n",
              "      <td>22.9</td>\n",
              "      <td>0.6</td>\n",
              "      <td>NaN</td>\n",
              "      <td>NaN</td>\n",
              "      <td>W</td>\n",
              "      <td>44.0</td>\n",
              "      <td>W</td>\n",
              "      <td>WNW</td>\n",
              "      <td>20.0</td>\n",
              "      <td>24.0</td>\n",
              "      <td>71.0</td>\n",
              "      <td>22.0</td>\n",
              "      <td>1007.7</td>\n",
              "      <td>1007.1</td>\n",
              "      <td>8.0</td>\n",
              "      <td>NaN</td>\n",
              "      <td>16.9</td>\n",
              "      <td>21.8</td>\n",
              "      <td>No</td>\n",
              "      <td>No</td>\n",
              "    </tr>\n",
              "    <tr>\n",
              "      <th>1</th>\n",
              "      <td>2008-12-02</td>\n",
              "      <td>Albury</td>\n",
              "      <td>7.4</td>\n",
              "      <td>25.1</td>\n",
              "      <td>0.0</td>\n",
              "      <td>NaN</td>\n",
              "      <td>NaN</td>\n",
              "      <td>WNW</td>\n",
              "      <td>44.0</td>\n",
              "      <td>NNW</td>\n",
              "      <td>WSW</td>\n",
              "      <td>4.0</td>\n",
              "      <td>22.0</td>\n",
              "      <td>44.0</td>\n",
              "      <td>25.0</td>\n",
              "      <td>1010.6</td>\n",
              "      <td>1007.8</td>\n",
              "      <td>NaN</td>\n",
              "      <td>NaN</td>\n",
              "      <td>17.2</td>\n",
              "      <td>24.3</td>\n",
              "      <td>No</td>\n",
              "      <td>No</td>\n",
              "    </tr>\n",
              "    <tr>\n",
              "      <th>2</th>\n",
              "      <td>2008-12-03</td>\n",
              "      <td>Albury</td>\n",
              "      <td>12.9</td>\n",
              "      <td>25.7</td>\n",
              "      <td>0.0</td>\n",
              "      <td>NaN</td>\n",
              "      <td>NaN</td>\n",
              "      <td>WSW</td>\n",
              "      <td>46.0</td>\n",
              "      <td>W</td>\n",
              "      <td>WSW</td>\n",
              "      <td>19.0</td>\n",
              "      <td>26.0</td>\n",
              "      <td>38.0</td>\n",
              "      <td>30.0</td>\n",
              "      <td>1007.6</td>\n",
              "      <td>1008.7</td>\n",
              "      <td>NaN</td>\n",
              "      <td>2.0</td>\n",
              "      <td>21.0</td>\n",
              "      <td>23.2</td>\n",
              "      <td>No</td>\n",
              "      <td>No</td>\n",
              "    </tr>\n",
              "    <tr>\n",
              "      <th>3</th>\n",
              "      <td>2008-12-04</td>\n",
              "      <td>Albury</td>\n",
              "      <td>9.2</td>\n",
              "      <td>28.0</td>\n",
              "      <td>0.0</td>\n",
              "      <td>NaN</td>\n",
              "      <td>NaN</td>\n",
              "      <td>NE</td>\n",
              "      <td>24.0</td>\n",
              "      <td>SE</td>\n",
              "      <td>E</td>\n",
              "      <td>11.0</td>\n",
              "      <td>9.0</td>\n",
              "      <td>45.0</td>\n",
              "      <td>16.0</td>\n",
              "      <td>1017.6</td>\n",
              "      <td>1012.8</td>\n",
              "      <td>NaN</td>\n",
              "      <td>NaN</td>\n",
              "      <td>18.1</td>\n",
              "      <td>26.5</td>\n",
              "      <td>No</td>\n",
              "      <td>No</td>\n",
              "    </tr>\n",
              "    <tr>\n",
              "      <th>4</th>\n",
              "      <td>2008-12-05</td>\n",
              "      <td>Albury</td>\n",
              "      <td>17.5</td>\n",
              "      <td>32.3</td>\n",
              "      <td>1.0</td>\n",
              "      <td>NaN</td>\n",
              "      <td>NaN</td>\n",
              "      <td>W</td>\n",
              "      <td>41.0</td>\n",
              "      <td>ENE</td>\n",
              "      <td>NW</td>\n",
              "      <td>7.0</td>\n",
              "      <td>20.0</td>\n",
              "      <td>82.0</td>\n",
              "      <td>33.0</td>\n",
              "      <td>1010.8</td>\n",
              "      <td>1006.0</td>\n",
              "      <td>7.0</td>\n",
              "      <td>8.0</td>\n",
              "      <td>17.8</td>\n",
              "      <td>29.7</td>\n",
              "      <td>No</td>\n",
              "      <td>No</td>\n",
              "    </tr>\n",
              "  </tbody>\n",
              "</table>\n",
              "</div>"
            ],
            "text/plain": [
              "         Date Location  MinTemp  MaxTemp  Rainfall  Evaporation  Sunshine  \\\n",
              "0  2008-12-01   Albury     13.4     22.9       0.6          NaN       NaN   \n",
              "1  2008-12-02   Albury      7.4     25.1       0.0          NaN       NaN   \n",
              "2  2008-12-03   Albury     12.9     25.7       0.0          NaN       NaN   \n",
              "3  2008-12-04   Albury      9.2     28.0       0.0          NaN       NaN   \n",
              "4  2008-12-05   Albury     17.5     32.3       1.0          NaN       NaN   \n",
              "\n",
              "  WindGustDir  WindGustSpeed WindDir9am WindDir3pm  WindSpeed9am  \\\n",
              "0           W           44.0          W        WNW          20.0   \n",
              "1         WNW           44.0        NNW        WSW           4.0   \n",
              "2         WSW           46.0          W        WSW          19.0   \n",
              "3          NE           24.0         SE          E          11.0   \n",
              "4           W           41.0        ENE         NW           7.0   \n",
              "\n",
              "   WindSpeed3pm  Humidity9am  Humidity3pm  Pressure9am  Pressure3pm  Cloud9am  \\\n",
              "0          24.0         71.0         22.0       1007.7       1007.1       8.0   \n",
              "1          22.0         44.0         25.0       1010.6       1007.8       NaN   \n",
              "2          26.0         38.0         30.0       1007.6       1008.7       NaN   \n",
              "3           9.0         45.0         16.0       1017.6       1012.8       NaN   \n",
              "4          20.0         82.0         33.0       1010.8       1006.0       7.0   \n",
              "\n",
              "   Cloud3pm  Temp9am  Temp3pm RainToday RainTomorrow  \n",
              "0       NaN     16.9     21.8        No           No  \n",
              "1       NaN     17.2     24.3        No           No  \n",
              "2       2.0     21.0     23.2        No           No  \n",
              "3       NaN     18.1     26.5        No           No  \n",
              "4       8.0     17.8     29.7        No           No  "
            ]
          },
          "execution_count": 12,
          "metadata": {},
          "output_type": "execute_result"
        }
      ],
      "source": [
        "data.head()"
      ]
    },
    {
      "cell_type": "code",
      "execution_count": 13,
      "metadata": {
        "colab": {
          "base_uri": "https://localhost:8080/",
          "height": 429
        },
        "id": "LkFVDtdiF-FM",
        "outputId": "6ac63e1f-8b61-4063-ca8a-2ea30dd9168e"
      },
      "outputs": [
        {
          "data": {
            "text/plain": [
              "<matplotlib.axes._subplots.AxesSubplot at 0xa15de51310>"
            ]
          },
          "execution_count": 13,
          "metadata": {},
          "output_type": "execute_result"
        },
        {
          "data": {
            "image/png": "[encoded data removed]",
            "text/plain": [
              "<Figure size 720x504 with 1 Axes>"
            ]
          },
          "metadata": {},
          "output_type": "display_data"
        }
      ],
      "source": [
        "data.groupby('RainToday').size().plot(kind='pie', autopct='%1.1f%%', figsize=(10,7))"
      ]
    },
    {
      "cell_type": "markdown",
      "metadata": {
        "id": "oSoBkcXLkUWP"
      },
      "source": [
        "dari data 10 tahun terakhir total jumlah hari yang hujan adalah 22.4 persen dan sisanya adalah hari yang tidak hujan. dataset imbalance karena lebih banyak hari yang tidak hujan dibanding hari hujan"
      ]
    },
    {
      "cell_type": "code",
      "execution_count": 14,
      "metadata": {
        "id": "Z3gqJn5iR0kH"
      },
      "outputs": [],
      "source": [
        "rain_tmrw = data.groupby(['RainToday', 'RainTomorrow'])['RainTomorrow'].count().unstack()\n",
        "rain_tmrw = pd.DataFrame(rain_tmrw).reset_index()"
      ]
    },
    {
      "cell_type": "code",
      "execution_count": 15,
      "metadata": {
        "colab": {
          "base_uri": "https://localhost:8080/",
          "height": 404
        },
        "id": "OMw-EzD1S5Js",
        "outputId": "3fa88952-43a1-4123-9db2-7b1c91b03167"
      },
      "outputs": [
        {
          "data": {
            "image/png": "[encoded data removed]",
            "text/plain": [
              "<Figure size 720x432 with 1 Axes>"
            ]
          },
          "metadata": {
            "needs_background": "light"
          },
          "output_type": "display_data"
        }
      ],
      "source": [
        "plt.figure(figsize=(10,6))\n",
        "plt.bar([0.5,1.2], rain_tmrw.Yes, 0.2, label='Rain Tomorrow = Yes')\n",
        "plt.bar([0.7,1.4], rain_tmrw.No, 0.2, label='Rain Tomorrow = No')\n",
        "plt.xlabel('Rain Today')\n",
        "plt.ylabel('Jumlah Hari Terjadi Hujan atau Tidak Hujan')\n",
        "plt.title('korelasi antar hujan hari ini terhadap hujan di hari selanjutnya')\n",
        "plt.xticks([0.6,1.3], rain_tmrw.RainToday)\n",
        "plt.legend(loc='best')\n",
        "plt.show()"
      ]
    },
    {
      "cell_type": "markdown",
      "metadata": {
        "id": "qDA3SnHtVJLe"
      },
      "source": [
        "visual di atas menjelaskan : \n",
        "* pertama saat kondisi rain today adalah tidak hujan, ternyata menariknya keesokan harinya memiliki probabilitas yang sangat tinggi akan terjadi hujan\n",
        "* kedua saat kondisi rain today adalah hujan, keesokan harinya memiliki kecenderungan yang tidak terpaut terlalu jauh antar hujan atau tidak hujan, artinya probabilitas antar hujan dan tidak hujan cenderung sama."
      ]
    },
    {
      "cell_type": "code",
      "execution_count": 16,
      "metadata": {
        "id": "bo-K_7_MPYmq"
      },
      "outputs": [],
      "source": [
        "temp_related = ['MinTemp', 'MaxTemp']"
      ]
    },
    {
      "cell_type": "code",
      "execution_count": 17,
      "metadata": {
        "colab": {
          "base_uri": "https://localhost:8080/",
          "height": 412
        },
        "id": "nTIE0iDORhnK",
        "outputId": "559eb8ab-9ea6-4e10-fbf3-a3ed734ae5f3"
      },
      "outputs": [
        {
          "data": {
            "text/plain": [
              "Text(0, 0.5, 'Rainfall Mean')"
            ]
          },
          "execution_count": 17,
          "metadata": {},
          "output_type": "execute_result"
        },
        {
          "data": {
            "image/png": "[encoded data removed]",
            "text/plain": [
              "<Figure size 648x432 with 1 Axes>"
            ]
          },
          "metadata": {
            "needs_background": "light"
          },
          "output_type": "display_data"
        }
      ],
      "source": [
        "data.groupby('RainToday')['Rainfall'].mean().plot(kind='bar', figsize=(9,6))\n",
        "plt.ylabel('Rainfall Mean')"
      ]
    },
    {
      "cell_type": "markdown",
      "metadata": {
        "id": "pl4dKe-Ojz2q"
      },
      "source": [
        "kondisi jika hari hujan memiliki nilai rata-rata rainfall jauh lebih tinggi jika dibandingkan kondisi tidak hujan"
      ]
    },
    {
      "cell_type": "code",
      "execution_count": 18,
      "metadata": {
        "id": "mOTNmlCeOmoy"
      },
      "outputs": [],
      "source": [
        "data['Date'] = pd.to_datetime(data['Date'])\n",
        "data['Year'] = data['Date'].dt.year\n",
        "data['Month'] = data['Date'].dt.month\n",
        "data['Day'] = data['Date'].dt.day"
      ]
    },
    {
      "cell_type": "markdown",
      "metadata": {
        "id": "3aSJzEX1caMa"
      },
      "source": [
        "Australia secara garis besar memiliki 4 musim yaitu spring, summer, winter dan autumn. masing masing musim terjadi direntang periode/bulan yang berbeda-beda.\n",
        "<br> \n",
        "* summer terjadi di bulan desember, januari dan februari\n",
        "* autumn terjadi di bulan maret, april dan mei\n",
        "* winter terjadi di bulan juni, juli, dan agustus\n",
        "* spring terjadi di bulan september, oktober dan november\n",
        "<br>\n",
        "\n",
        "penulis akan melakukan feature engineereing dengan mengelompokan bulan berdasarkan musim2 nya"
      ]
    },
    {
      "cell_type": "code",
      "execution_count": 19,
      "metadata": {
        "id": "hiLz_21IPU3e"
      },
      "outputs": [],
      "source": [
        "data['season'] = data['Month']\n",
        "months2 = [[12, 1, 2], [3, 4, 5], [6,7,8], [9, 10, 11]]\n",
        "seaons2 = ['summer', 'autumn', 'winter', 'spring']\n",
        "for i in range(4):\n",
        "  data = data.replace({'season': months2[i]}, seaons2[i])\n",
        "\n",
        "data =  data.drop(columns=['Day', 'Month'])"
      ]
    },
    {
      "cell_type": "code",
      "execution_count": 20,
      "metadata": {
        "colab": {
          "base_uri": "https://localhost:8080/",
          "height": 437
        },
        "id": "Db8FGmndR8QI",
        "outputId": "64a680dd-de9e-4ba8-9c5e-941850b34688"
      },
      "outputs": [
        {
          "data": {
            "text/plain": [
              "Text(0, 0.5, 'Rainfall Mean')"
            ]
          },
          "execution_count": 20,
          "metadata": {},
          "output_type": "execute_result"
        },
        {
          "data": {
            "image/png": "[encoded data removed]",
            "text/plain": [
              "<Figure size 648x432 with 1 Axes>"
            ]
          },
          "metadata": {
            "needs_background": "light"
          },
          "output_type": "display_data"
        }
      ],
      "source": [
        "data.groupby(['season'])['Rainfall'].mean().sort_values(ascending=False).plot(kind='bar', figsize=(9,6))\n",
        "plt.ylabel('Rainfall Mean')"
      ]
    },
    {
      "cell_type": "markdown",
      "metadata": {
        "id": "ZBv7D4LEkija"
      },
      "source": [
        "summer memiliki rata2 rainfall paling tinggi dibanding musim2 lainya dan spring memiliki rata2 rainfall paling rendah. hal ini menujukan bahwa pada bulan desember, januari, dan march merupakan bulan paling basah"
      ]
    },
    {
      "cell_type": "markdown",
      "metadata": {
        "id": "jV9jga9AvANM"
      },
      "source": [
        "kolom location memiliki kardinalitas yang tinggi, oleh sebab itu penulis berusaha mereduksi efek tersebut dengan mengelompokan titik lokasi berdasarkan kluster daerah masing-masing."
      ]
    },
    {
      "cell_type": "code",
      "execution_count": 21,
      "metadata": {
        "id": "dLFP-nkCgg9b"
      },
      "outputs": [],
      "source": [
        "city = {'City':['Albury','Badgerys Creek','Cobar','Coffs Harbour','Moree Australia','Newcastle Australia','Norah Head','Norfolk Island','Penrith Australia',\n",
        "                'Richmond Australia','Sydney','Sydney Airport','Wagga Wagga','Williamtown','Wollongong','Canberra','Tuggeranong','Mount Ginini',\n",
        "                'Ballarat','Bendigo','Sale Australia','Melbourne Airport','Melbourne','Mildura','Nhill Australia','Portland Australia','Watsonia','Dartmoor Australia',\n",
        "                'Brisbane','Cairns','Gold Coast','Townsville','Adelaide','Mount Gambier','Nuriootpa','Woomera','Albany Australia','Witchcliffe',\n",
        "                'Pearce RAAF','Perth Airport','Perth','Salmon Gums','Walpole Australia','Hobart','Launceston','Alice Springs','Darwin Australia',\n",
        "                'Katherine Australia','Uluru Australia']\n",
        "        } \n",
        "\n",
        "df_city = pd.DataFrame(city) "
      ]
    },
    {
      "cell_type": "code",
      "execution_count": 22,
      "metadata": {
        "id": "LWruIiQPhj3c"
      },
      "outputs": [],
      "source": [
        "#fungsi untuk mencari koordinat lokasi\n",
        "longitude = []\n",
        "latitude = []\n",
        "def findGeocode(city):\n",
        "    try:\n",
        "        geolocator = Nominatim(user_agent=\"your_app_name\")     \n",
        "        return geolocator.geocode(city)\n",
        "    except GeocoderTimedOut:     \n",
        "        return findGeocode(city)    "
      ]
    },
    {
      "cell_type": "code",
      "execution_count": 23,
      "metadata": {
        "id": "n_7SuTpdigkW"
      },
      "outputs": [],
      "source": [
        "#loop untuk memasukan koordinat yg didappat kedalam masing2 kolom latitude dan longitude\n",
        "for i in (df_city[\"City\"]):      \n",
        "  if findGeocode(i) != None:      \n",
        "      loc = findGeocode(i)\n",
        "      latitude.append(loc.latitude)\n",
        "      longitude.append(loc.longitude)      \n",
        "  else:\n",
        "      latitude.append(np.nan)\n",
        "      longitude.append(np.nan)"
      ]
    },
    {
      "cell_type": "code",
      "execution_count": 24,
      "metadata": {
        "id": "F2V-IkWjhwMt"
      },
      "outputs": [],
      "source": [
        "df_city[\"Longitude\"] = longitude\n",
        "df_city[\"Latitude\"] = latitude"
      ]
    },
    {
      "cell_type": "code",
      "execution_count": 25,
      "metadata": {
        "colab": {
          "base_uri": "https://localhost:8080/",
          "height": 542
        },
        "id": "2c95S7CXs7IJ",
        "outputId": "6b61a1c0-4909-4562-b580-7bfc9301a79a"
      },
      "outputs": [
        {
          "data": {
            "application/vnd.plotly.v1+json": {
              "config": {
                "plotlyServerURL": "https://plot.ly"
              },
              "data": [
                {
                  "geo": "geo",
                  "hovertemplate": "<b>%{hovertext}</b><br><br>Latitude=%{lat}<br>Longitude=%{lon}<extra></extra>",
                  "hovertext": [
                    "Albury",
                    "Badgerys Creek",
                    "Cobar",
                    "Coffs Harbour",
                    "Moree Australia",
                    "Newcastle Australia",
                    "Norah Head",
                    "Norfolk Island",
                    "Penrith Australia",
                    "Richmond Australia",
                    "Sydney",
                    "Sydney Airport",
                    "Wagga Wagga",
                    "Williamtown",
                    "Wollongong",
                    "Canberra",
                    "Tuggeranong",
                    "Mount Ginini",
                    "Ballarat",
                    "Bendigo",
                    "Sale Australia",
                    "Melbourne Airport",
                    "Melbourne",
                    "Mildura",
                    "Nhill Australia",
                    "Portland Australia",
                    "Watsonia",
                    "Dartmoor Australia",
                    "Brisbane",
                    "Cairns",
                    "Gold Coast",
                    "Townsville",
                    "Adelaide",
                    "Mount Gambier",
                    "Nuriootpa",
                    "Woomera",
                    "Albany Australia",
                    "Witchcliffe",
                    "Pearce RAAF",
                    "Perth Airport",
                    "Perth",
                    "Salmon Gums",
                    "Walpole Australia",
                    "Hobart",
                    "Launceston",
                    "Alice Springs",
                    "Darwin Australia",
                    "Katherine Australia",
                    "Uluru Australia"
                  ],
                  "lat": [
                    -36.0804766,
                    -33.8816671,
                    -31.4983333,
                    -30.2962407,
                    -29.4617202,
                    -32.9192953,
                    -33.2816667,
                    -29.0289575,
                    -33.7510792,
                    -37.8203955,
                    -33.8548157,
                    -33.9337758,
                    -35.115,
                    -32.815,
                    -34.4243941,
                    -35.2975906,
                    -35.4209771,
                    -35.5297437,
                    -37.5623025,
                    -36.7588767,
                    -38.1050358,
                    -37.66695115,
                    -37.8142176,
                    -34.1847265,
                    -36.3331297,
                    -38.3456231,
                    -37.7110022,
                    -37.9225444,
                    -27.4689682,
                    -16.9206657,
                    -28.0023731,
                    -19.2569391,
                    -34.9281805,
                    -37.8246698,
                    -34.4693354,
                    -31.1999142,
                    -35.0247822,
                    -34.0263348,
                    -31.6739604,
                    -31.9406095,
                    -31.9558964,
                    -32.9815347,
                    -34.9776796,
                    -42.8825088,
                    -41.4340813,
                    -23.6983884,
                    -12.46044,
                    -14.4646157,
                    -25.344857
                  ],
                  "legendgroup": "",
                  "lon": [
                    146.9162795,
                    150.7441627,
                    145.8344444,
                    153.1135293,
                    149.8407153,
                    151.7795348,
                    151.5677778,
                    167.9587289126371,
                    150.6941684,
                    145.0025153,
                    151.2164539,
                    151.1799269,
                    147.3677778,
                    151.8427778,
                    150.89385,
                    149.1012676,
                    149.0921341,
                    148.7725396,
                    143.8605649,
                    144.2825931,
                    147.0647902,
                    144.83349270120272,
                    144.9631608,
                    142.1624972,
                    141.6492931,
                    141.6042304,
                    145.083635,
                    141.2766551,
                    153.0234991,
                    145.7721854,
                    153.4145987,
                    146.8239537,
                    138.5999312,
                    140.7820067624113,
                    138.9939006,
                    136.8253532,
                    117.883608,
                    115.1004768,
                    116.01754351808195,
                    115.96760765137932,
                    115.8605801,
                    121.6439417,
                    116.7310063,
                    147.3281233,
                    147.1373496,
                    133.8812885,
                    130.8410469,
                    132.2635993,
                    131.0325171
                  ],
                  "marker": {
                    "color": "#636efa",
                    "symbol": "circle"
                  },
                  "mode": "markers",
                  "name": "",
                  "showlegend": false,
                  "type": "scattergeo"
                }
              ],
              "layout": {
                "geo": {
                  "center": {
                    "lat": -23.69839,
                    "lon": 133.8813
                  },
                  "domain": {
                    "x": [
                      0,
                      1
                    ],
                    "y": [
                      0,
                      1
                    ]
                  },
                  "projection": {
                    "scale": 4
                  }
                },
                "legend": {
                  "tracegroupgap": 0
                },
                "margin": {
                  "t": 60
                },
                "template": {
                  "data": {
                    "bar": [
                      {
                        "error_x": {
                          "color": "#2a3f5f"
                        },
                        "error_y": {
                          "color": "#2a3f5f"
                        },
                        "marker": {
                          "line": {
                            "color": "#E5ECF6",
                            "width": 0.5
                          },
                          "pattern": {
                            "fillmode": "overlay",
                            "size": 10,
                            "solidity": 0.2
                          }
                        },
                        "type": "bar"
                      }
                    ],
                    "barpolar": [
                      {
                        "marker": {
                          "line": {
                            "color": "#E5ECF6",
                            "width": 0.5
                          },
                          "pattern": {
                            "fillmode": "overlay",
                            "size": 10,
                            "solidity": 0.2
                          }
                        },
                        "type": "barpolar"
                      }
                    ],
                    "carpet": [
                      {
                        "aaxis": {
                          "endlinecolor": "#2a3f5f",
                          "gridcolor": "white",
                          "linecolor": "white",
                          "minorgridcolor": "white",
                          "startlinecolor": "#2a3f5f"
                        },
                        "baxis": {
                          "endlinecolor": "#2a3f5f",
                          "gridcolor": "white",
                          "linecolor": "white",
                          "minorgridcolor": "white",
                          "startlinecolor": "#2a3f5f"
                        },
                        "type": "carpet"
                      }
                    ],
                    "choropleth": [
                      {
                        "colorbar": {
                          "outlinewidth": 0,
                          "ticks": ""
                        },
                        "type": "choropleth"
                      }
                    ],
                    "contour": [
                      {
                        "colorbar": {
                          "outlinewidth": 0,
                          "ticks": ""
                        },
                        "colorscale": [
                          [
                            0,
                            "#0d0887"
                          ],
                          [
                            0.1111111111111111,
                            "#46039f"
                          ],
                          [
                            0.2222222222222222,
                            "#7201a8"
                          ],
                          [
                            0.3333333333333333,
                            "#9c179e"
                          ],
                          [
                            0.4444444444444444,
                            "#bd3786"
                          ],
                          [
                            0.5555555555555556,
                            "#d8576b"
                          ],
                          [
                            0.6666666666666666,
                            "#ed7953"
                          ],
                          [
                            0.7777777777777778,
                            "#fb9f3a"
                          ],
                          [
                            0.8888888888888888,
                            "#fdca26"
                          ],
                          [
                            1,
                            "#f0f921"
                          ]
                        ],
                        "type": "contour"
                      }
                    ],
                    "contourcarpet": [
                      {
                        "colorbar": {
                          "outlinewidth": 0,
                          "ticks": ""
                        },
                        "type": "contourcarpet"
                      }
                    ],
                    "heatmap": [
                      {
                        "colorbar": {
                          "outlinewidth": 0,
                          "ticks": ""
                        },
                        "colorscale": [
                          [
                            0,
                            "#0d0887"
                          ],
                          [
                            0.1111111111111111,
                            "#46039f"
                          ],
                          [
                            0.2222222222222222,
                            "#7201a8"
                          ],
                          [
                            0.3333333333333333,
                            "#9c179e"
                          ],
                          [
                            0.4444444444444444,
                            "#bd3786"
                          ],
                          [
                            0.5555555555555556,
                            "#d8576b"
                          ],
                          [
                            0.6666666666666666,
                            "#ed7953"
                          ],
                          [
                            0.7777777777777778,
                            "#fb9f3a"
                          ],
                          [
                            0.8888888888888888,
                            "#fdca26"
                          ],
                          [
                            1,
                            "#f0f921"
                          ]
                        ],
                        "type": "heatmap"
                      }
                    ],
                    "heatmapgl": [
                      {
                        "colorbar": {
                          "outlinewidth": 0,
                          "ticks": ""
                        },
                        "colorscale": [
                          [
                            0,
                            "#0d0887"
                          ],
                          [
                            0.1111111111111111,
                            "#46039f"
                          ],
                          [
                            0.2222222222222222,
                            "#7201a8"
                          ],
                          [
                            0.3333333333333333,
                            "#9c179e"
                          ],
                          [
                            0.4444444444444444,
                            "#bd3786"
                          ],
                          [
                            0.5555555555555556,
                            "#d8576b"
                          ],
                          [
                            0.6666666666666666,
                            "#ed7953"
                          ],
                          [
                            0.7777777777777778,
                            "#fb9f3a"
                          ],
                          [
                            0.8888888888888888,
                            "#fdca26"
                          ],
                          [
                            1,
                            "#f0f921"
                          ]
                        ],
                        "type": "heatmapgl"
                      }
                    ],
                    "histogram": [
                      {
                        "marker": {
                          "pattern": {
                            "fillmode": "overlay",
                            "size": 10,
                            "solidity": 0.2
                          }
                        },
                        "type": "histogram"
                      }
                    ],
                    "histogram2d": [
                      {
                        "colorbar": {
                          "outlinewidth": 0,
                          "ticks": ""
                        },
                        "colorscale": [
                          [
                            0,
                            "#0d0887"
                          ],
                          [
                            0.1111111111111111,
                            "#46039f"
                          ],
                          [
                            0.2222222222222222,
                            "#7201a8"
                          ],
                          [
                            0.3333333333333333,
                            "#9c179e"
                          ],
                          [
                            0.4444444444444444,
                            "#bd3786"
                          ],
                          [
                            0.5555555555555556,
                            "#d8576b"
                          ],
                          [
                            0.6666666666666666,
                            "#ed7953"
                          ],
                          [
                            0.7777777777777778,
                            "#fb9f3a"
                          ],
                          [
                            0.8888888888888888,
                            "#fdca26"
                          ],
                          [
                            1,
                            "#f0f921"
                          ]
                        ],
                        "type": "histogram2d"
                      }
                    ],
                    "histogram2dcontour": [
                      {
                        "colorbar": {
                          "outlinewidth": 0,
                          "ticks": ""
                        },
                        "colorscale": [
                          [
                            0,
                            "#0d0887"
                          ],
                          [
                            0.1111111111111111,
                            "#46039f"
                          ],
                          [
                            0.2222222222222222,
                            "#7201a8"
                          ],
                          [
                            0.3333333333333333,
                            "#9c179e"
                          ],
                          [
                            0.4444444444444444,
                            "#bd3786"
                          ],
                          [
                            0.5555555555555556,
                            "#d8576b"
                          ],
                          [
                            0.6666666666666666,
                            "#ed7953"
                          ],
                          [
                            0.7777777777777778,
                            "#fb9f3a"
                          ],
                          [
                            0.8888888888888888,
                            "#fdca26"
                          ],
                          [
                            1,
                            "#f0f921"
                          ]
                        ],
                        "type": "histogram2dcontour"
                      }
                    ],
                    "mesh3d": [
                      {
                        "colorbar": {
                          "outlinewidth": 0,
                          "ticks": ""
                        },
                        "type": "mesh3d"
                      }
                    ],
                    "parcoords": [
                      {
                        "line": {
                          "colorbar": {
                            "outlinewidth": 0,
                            "ticks": ""
                          }
                        },
                        "type": "parcoords"
                      }
                    ],
                    "pie": [
                      {
                        "automargin": true,
                        "type": "pie"
                      }
                    ],
                    "scatter": [
                      {
                        "marker": {
                          "colorbar": {
                            "outlinewidth": 0,
                            "ticks": ""
                          }
                        },
                        "type": "scatter"
                      }
                    ],
                    "scatter3d": [
                      {
                        "line": {
                          "colorbar": {
                            "outlinewidth": 0,
                            "ticks": ""
                          }
                        },
                        "marker": {
                          "colorbar": {
                            "outlinewidth": 0,
                            "ticks": ""
                          }
                        },
                        "type": "scatter3d"
                      }
                    ],
                    "scattercarpet": [
                      {
                        "marker": {
                          "colorbar": {
                            "outlinewidth": 0,
                            "ticks": ""
                          }
                        },
                        "type": "scattercarpet"
                      }
                    ],
                    "scattergeo": [
                      {
                        "marker": {
                          "colorbar": {
                            "outlinewidth": 0,
                            "ticks": ""
                          }
                        },
                        "type": "scattergeo"
                      }
                    ],
                    "scattergl": [
                      {
                        "marker": {
                          "colorbar": {
                            "outlinewidth": 0,
                            "ticks": ""
                          }
                        },
                        "type": "scattergl"
                      }
                    ],
                    "scattermapbox": [
                      {
                        "marker": {
                          "colorbar": {
                            "outlinewidth": 0,
                            "ticks": ""
                          }
                        },
                        "type": "scattermapbox"
                      }
                    ],
                    "scatterpolar": [
                      {
                        "marker": {
                          "colorbar": {
                            "outlinewidth": 0,
                            "ticks": ""
                          }
                        },
                        "type": "scatterpolar"
                      }
                    ],
                    "scatterpolargl": [
                      {
                        "marker": {
                          "colorbar": {
                            "outlinewidth": 0,
                            "ticks": ""
                          }
                        },
                        "type": "scatterpolargl"
                      }
                    ],
                    "scatterternary": [
                      {
                        "marker": {
                          "colorbar": {
                            "outlinewidth": 0,
                            "ticks": ""
                          }
                        },
                        "type": "scatterternary"
                      }
                    ],
                    "surface": [
                      {
                        "colorbar": {
                          "outlinewidth": 0,
                          "ticks": ""
                        },
                        "colorscale": [
                          [
                            0,
                            "#0d0887"
                          ],
                          [
                            0.1111111111111111,
                            "#46039f"
                          ],
                          [
                            0.2222222222222222,
                            "#7201a8"
                          ],
                          [
                            0.3333333333333333,
                            "#9c179e"
                          ],
                          [
                            0.4444444444444444,
                            "#bd3786"
                          ],
                          [
                            0.5555555555555556,
                            "#d8576b"
                          ],
                          [
                            0.6666666666666666,
                            "#ed7953"
                          ],
                          [
                            0.7777777777777778,
                            "#fb9f3a"
                          ],
                          [
                            0.8888888888888888,
                            "#fdca26"
                          ],
                          [
                            1,
                            "#f0f921"
                          ]
                        ],
                        "type": "surface"
                      }
                    ],
                    "table": [
                      {
                        "cells": {
                          "fill": {
                            "color": "#EBF0F8"
                          },
                          "line": {
                            "color": "white"
                          }
                        },
                        "header": {
                          "fill": {
                            "color": "#C8D4E3"
                          },
                          "line": {
                            "color": "white"
                          }
                        },
                        "type": "table"
                      }
                    ]
                  },
                  "layout": {
                    "annotationdefaults": {
                      "arrowcolor": "#2a3f5f",
                      "arrowhead": 0,
                      "arrowwidth": 1
                    },
                    "autotypenumbers": "strict",
                    "coloraxis": {
                      "colorbar": {
                        "outlinewidth": 0,
                        "ticks": ""
                      }
                    },
                    "colorscale": {
                      "diverging": [
                        [
                          0,
                          "#8e0152"
                        ],
                        [
                          0.1,
                          "#c51b7d"
                        ],
                        [
                          0.2,
                          "#de77ae"
                        ],
                        [
                          0.3,
                          "#f1b6da"
                        ],
                        [
                          0.4,
                          "#fde0ef"
                        ],
                        [
                          0.5,
                          "#f7f7f7"
                        ],
                        [
                          0.6,
                          "#e6f5d0"
                        ],
                        [
                          0.7,
                          "#b8e186"
                        ],
                        [
                          0.8,
                          "#7fbc41"
                        ],
                        [
                          0.9,
                          "#4d9221"
                        ],
                        [
                          1,
                          "#276419"
                        ]
                      ],
                      "sequential": [
                        [
                          0,
                          "#0d0887"
                        ],
                        [
                          0.1111111111111111,
                          "#46039f"
                        ],
                        [
                          0.2222222222222222,
                          "#7201a8"
                        ],
                        [
                          0.3333333333333333,
                          "#9c179e"
                        ],
                        [
                          0.4444444444444444,
                          "#bd3786"
                        ],
                        [
                          0.5555555555555556,
                          "#d8576b"
                        ],
                        [
                          0.6666666666666666,
                          "#ed7953"
                        ],
                        [
                          0.7777777777777778,
                          "#fb9f3a"
                        ],
                        [
                          0.8888888888888888,
                          "#fdca26"
                        ],
                        [
                          1,
                          "#f0f921"
                        ]
                      ],
                      "sequentialminus": [
                        [
                          0,
                          "#0d0887"
                        ],
                        [
                          0.1111111111111111,
                          "#46039f"
                        ],
                        [
                          0.2222222222222222,
                          "#7201a8"
                        ],
                        [
                          0.3333333333333333,
                          "#9c179e"
                        ],
                        [
                          0.4444444444444444,
                          "#bd3786"
                        ],
                        [
                          0.5555555555555556,
                          "#d8576b"
                        ],
                        [
                          0.6666666666666666,
                          "#ed7953"
                        ],
                        [
                          0.7777777777777778,
                          "#fb9f3a"
                        ],
                        [
                          0.8888888888888888,
                          "#fdca26"
                        ],
                        [
                          1,
                          "#f0f921"
                        ]
                      ]
                    },
                    "colorway": [
                      "#636efa",
                      "#EF553B",
                      "#00cc96",
                      "#ab63fa",
                      "#FFA15A",
                      "#19d3f3",
                      "#FF6692",
                      "#B6E880",
                      "#FF97FF",
                      "#FECB52"
                    ],
                    "font": {
                      "color": "#2a3f5f"
                    },
                    "geo": {
                      "bgcolor": "white",
                      "lakecolor": "white",
                      "landcolor": "#E5ECF6",
                      "showlakes": true,
                      "showland": true,
                      "subunitcolor": "white"
                    },
                    "hoverlabel": {
                      "align": "left"
                    },
                    "hovermode": "closest",
                    "mapbox": {
                      "style": "light"
                    },
                    "paper_bgcolor": "white",
                    "plot_bgcolor": "#E5ECF6",
                    "polar": {
                      "angularaxis": {
                        "gridcolor": "white",
                        "linecolor": "white",
                        "ticks": ""
                      },
                      "bgcolor": "#E5ECF6",
                      "radialaxis": {
                        "gridcolor": "white",
                        "linecolor": "white",
                        "ticks": ""
                      }
                    },
                    "scene": {
                      "xaxis": {
                        "backgroundcolor": "#E5ECF6",
                        "gridcolor": "white",
                        "gridwidth": 2,
                        "linecolor": "white",
                        "showbackground": true,
                        "ticks": "",
                        "zerolinecolor": "white"
                      },
                      "yaxis": {
                        "backgroundcolor": "#E5ECF6",
                        "gridcolor": "white",
                        "gridwidth": 2,
                        "linecolor": "white",
                        "showbackground": true,
                        "ticks": "",
                        "zerolinecolor": "white"
                      },
                      "zaxis": {
                        "backgroundcolor": "#E5ECF6",
                        "gridcolor": "white",
                        "gridwidth": 2,
                        "linecolor": "white",
                        "showbackground": true,
                        "ticks": "",
                        "zerolinecolor": "white"
                      }
                    },
                    "shapedefaults": {
                      "line": {
                        "color": "#2a3f5f"
                      }
                    },
                    "ternary": {
                      "aaxis": {
                        "gridcolor": "white",
                        "linecolor": "white",
                        "ticks": ""
                      },
                      "baxis": {
                        "gridcolor": "white",
                        "linecolor": "white",
                        "ticks": ""
                      },
                      "bgcolor": "#E5ECF6",
                      "caxis": {
                        "gridcolor": "white",
                        "linecolor": "white",
                        "ticks": ""
                      }
                    },
                    "title": {
                      "x": 0.05
                    },
                    "xaxis": {
                      "automargin": true,
                      "gridcolor": "white",
                      "linecolor": "white",
                      "ticks": "",
                      "title": {
                        "standoff": 15
                      },
                      "zerolinecolor": "white",
                      "zerolinewidth": 2
                    },
                    "yaxis": {
                      "automargin": true,
                      "gridcolor": "white",
                      "linecolor": "white",
                      "ticks": "",
                      "title": {
                        "standoff": 15
                      },
                      "zerolinecolor": "white",
                      "zerolinewidth": 2
                    }
                  }
                },
                "title": {
                  "text": "Australia Map",
                  "x": 0.5
                }
              }
            }
          },
          "metadata": {},
          "output_type": "display_data"
        }
      ],
      "source": [
        "fig = px.scatter_geo(df_city, lat='Latitude', lon='Longitude', hover_name=\"City\")\n",
        "fig.update_layout(title = 'Australia Map', title_x=0.5)\n",
        "fig.update_layout(\n",
        "        geo = dict(\n",
        "            projection_scale=4, #this is kind of like zoom\n",
        "            center=dict(lat=-23.69839, lon=133.8813), # this will center on the point\n",
        "        ))\n",
        "fig.show()"
      ]
    },
    {
      "cell_type": "code",
      "execution_count": 26,
      "metadata": {
        "colab": {
          "base_uri": "https://localhost:8080/",
          "height": 357
        },
        "id": "SW1PAKa_3qTH",
        "outputId": "511866b7-edec-4081-f8a5-355fa4b33623"
      },
      "outputs": [
        {
          "data": {
            "text/html": [
              "<div>\n",
              "<style scoped>\n",
              "    .dataframe tbody tr th:only-of-type {\n",
              "        vertical-align: middle;\n",
              "    }\n",
              "\n",
              "    .dataframe tbody tr th {\n",
              "        vertical-align: top;\n",
              "    }\n",
              "\n",
              "    .dataframe thead th {\n",
              "        text-align: right;\n",
              "    }\n",
              "</style>\n",
              "<table border=\"1\" class=\"dataframe\">\n",
              "  <thead>\n",
              "    <tr style=\"text-align: right;\">\n",
              "      <th></th>\n",
              "      <th>Date</th>\n",
              "      <th>Location</th>\n",
              "      <th>MinTemp</th>\n",
              "      <th>MaxTemp</th>\n",
              "      <th>Rainfall</th>\n",
              "      <th>Evaporation</th>\n",
              "      <th>Sunshine</th>\n",
              "      <th>WindGustDir</th>\n",
              "      <th>WindGustSpeed</th>\n",
              "      <th>WindDir9am</th>\n",
              "      <th>WindDir3pm</th>\n",
              "      <th>WindSpeed9am</th>\n",
              "      <th>WindSpeed3pm</th>\n",
              "      <th>Humidity9am</th>\n",
              "      <th>Humidity3pm</th>\n",
              "      <th>Pressure9am</th>\n",
              "      <th>Pressure3pm</th>\n",
              "      <th>Cloud9am</th>\n",
              "      <th>Cloud3pm</th>\n",
              "      <th>Temp9am</th>\n",
              "      <th>Temp3pm</th>\n",
              "      <th>RainToday</th>\n",
              "      <th>RainTomorrow</th>\n",
              "      <th>Year</th>\n",
              "      <th>season</th>\n",
              "    </tr>\n",
              "  </thead>\n",
              "  <tbody>\n",
              "    <tr>\n",
              "      <th>83255</th>\n",
              "      <td>2015-06-05</td>\n",
              "      <td>Dartmoor</td>\n",
              "      <td>6.7</td>\n",
              "      <td>14.9</td>\n",
              "      <td>25.8</td>\n",
              "      <td>NaN</td>\n",
              "      <td>4.9</td>\n",
              "      <td>WSW</td>\n",
              "      <td>31.0</td>\n",
              "      <td>NaN</td>\n",
              "      <td>WSW</td>\n",
              "      <td>0.0</td>\n",
              "      <td>13.0</td>\n",
              "      <td>NaN</td>\n",
              "      <td>NaN</td>\n",
              "      <td>1021.3</td>\n",
              "      <td>1023.3</td>\n",
              "      <td>NaN</td>\n",
              "      <td>NaN</td>\n",
              "      <td>11.0</td>\n",
              "      <td>14.3</td>\n",
              "      <td>Yes</td>\n",
              "      <td>No</td>\n",
              "      <td>2015</td>\n",
              "      <td>winter</td>\n",
              "    </tr>\n",
              "    <tr>\n",
              "      <th>10582</th>\n",
              "      <td>2013-06-02</td>\n",
              "      <td>CoffsHarbour</td>\n",
              "      <td>16.4</td>\n",
              "      <td>20.5</td>\n",
              "      <td>0.0</td>\n",
              "      <td>1.4</td>\n",
              "      <td>NaN</td>\n",
              "      <td>SW</td>\n",
              "      <td>59.0</td>\n",
              "      <td>N</td>\n",
              "      <td>S</td>\n",
              "      <td>20.0</td>\n",
              "      <td>15.0</td>\n",
              "      <td>74.0</td>\n",
              "      <td>57.0</td>\n",
              "      <td>1009.1</td>\n",
              "      <td>1005.3</td>\n",
              "      <td>8.0</td>\n",
              "      <td>3.0</td>\n",
              "      <td>17.5</td>\n",
              "      <td>20.2</td>\n",
              "      <td>No</td>\n",
              "      <td>Yes</td>\n",
              "      <td>2013</td>\n",
              "      <td>winter</td>\n",
              "    </tr>\n",
              "    <tr>\n",
              "      <th>34</th>\n",
              "      <td>2009-01-04</td>\n",
              "      <td>Albury</td>\n",
              "      <td>12.3</td>\n",
              "      <td>34.6</td>\n",
              "      <td>0.0</td>\n",
              "      <td>NaN</td>\n",
              "      <td>NaN</td>\n",
              "      <td>WNW</td>\n",
              "      <td>37.0</td>\n",
              "      <td>SSE</td>\n",
              "      <td>NW</td>\n",
              "      <td>6.0</td>\n",
              "      <td>17.0</td>\n",
              "      <td>41.0</td>\n",
              "      <td>12.0</td>\n",
              "      <td>1015.1</td>\n",
              "      <td>1010.3</td>\n",
              "      <td>NaN</td>\n",
              "      <td>NaN</td>\n",
              "      <td>20.7</td>\n",
              "      <td>33.9</td>\n",
              "      <td>No</td>\n",
              "      <td>No</td>\n",
              "      <td>2009</td>\n",
              "      <td>summer</td>\n",
              "    </tr>\n",
              "    <tr>\n",
              "      <th>61770</th>\n",
              "      <td>2010-08-12</td>\n",
              "      <td>Sale</td>\n",
              "      <td>6.5</td>\n",
              "      <td>14.7</td>\n",
              "      <td>6.4</td>\n",
              "      <td>1.2</td>\n",
              "      <td>6.8</td>\n",
              "      <td>SW</td>\n",
              "      <td>56.0</td>\n",
              "      <td>WSW</td>\n",
              "      <td>WSW</td>\n",
              "      <td>31.0</td>\n",
              "      <td>31.0</td>\n",
              "      <td>88.0</td>\n",
              "      <td>55.0</td>\n",
              "      <td>1005.4</td>\n",
              "      <td>1008.4</td>\n",
              "      <td>8.0</td>\n",
              "      <td>7.0</td>\n",
              "      <td>10.0</td>\n",
              "      <td>14.3</td>\n",
              "      <td>Yes</td>\n",
              "      <td>No</td>\n",
              "      <td>2010</td>\n",
              "      <td>winter</td>\n",
              "    </tr>\n",
              "    <tr>\n",
              "      <th>144770</th>\n",
              "      <td>2015-08-06</td>\n",
              "      <td>Uluru</td>\n",
              "      <td>3.8</td>\n",
              "      <td>19.7</td>\n",
              "      <td>0.0</td>\n",
              "      <td>NaN</td>\n",
              "      <td>NaN</td>\n",
              "      <td>E</td>\n",
              "      <td>44.0</td>\n",
              "      <td>ESE</td>\n",
              "      <td>E</td>\n",
              "      <td>17.0</td>\n",
              "      <td>20.0</td>\n",
              "      <td>51.0</td>\n",
              "      <td>26.0</td>\n",
              "      <td>1026.3</td>\n",
              "      <td>1022.3</td>\n",
              "      <td>NaN</td>\n",
              "      <td>NaN</td>\n",
              "      <td>9.8</td>\n",
              "      <td>18.5</td>\n",
              "      <td>No</td>\n",
              "      <td>No</td>\n",
              "      <td>2015</td>\n",
              "      <td>winter</td>\n",
              "    </tr>\n",
              "  </tbody>\n",
              "</table>\n",
              "</div>"
            ],
            "text/plain": [
              "             Date      Location  MinTemp  MaxTemp  Rainfall  Evaporation  \\\n",
              "83255  2015-06-05      Dartmoor      6.7     14.9      25.8          NaN   \n",
              "10582  2013-06-02  CoffsHarbour     16.4     20.5       0.0          1.4   \n",
              "34     2009-01-04        Albury     12.3     34.6       0.0          NaN   \n",
              "61770  2010-08-12          Sale      6.5     14.7       6.4          1.2   \n",
              "144770 2015-08-06         Uluru      3.8     19.7       0.0          NaN   \n",
              "\n",
              "        Sunshine WindGustDir  WindGustSpeed WindDir9am WindDir3pm  \\\n",
              "83255        4.9         WSW           31.0        NaN        WSW   \n",
              "10582        NaN          SW           59.0          N          S   \n",
              "34           NaN         WNW           37.0        SSE         NW   \n",
              "61770        6.8          SW           56.0        WSW        WSW   \n",
              "144770       NaN           E           44.0        ESE          E   \n",
              "\n",
              "        WindSpeed9am  WindSpeed3pm  Humidity9am  Humidity3pm  Pressure9am  \\\n",
              "83255            0.0          13.0          NaN          NaN       1021.3   \n",
              "10582           20.0          15.0         74.0         57.0       1009.1   \n",
              "34               6.0          17.0         41.0         12.0       1015.1   \n",
              "61770           31.0          31.0         88.0         55.0       1005.4   \n",
              "144770          17.0          20.0         51.0         26.0       1026.3   \n",
              "\n",
              "        Pressure3pm  Cloud9am  Cloud3pm  Temp9am  Temp3pm RainToday  \\\n",
              "83255        1023.3       NaN       NaN     11.0     14.3       Yes   \n",
              "10582        1005.3       8.0       3.0     17.5     20.2        No   \n",
              "34           1010.3       NaN       NaN     20.7     33.9        No   \n",
              "61770        1008.4       8.0       7.0     10.0     14.3       Yes   \n",
              "144770       1022.3       NaN       NaN      9.8     18.5        No   \n",
              "\n",
              "       RainTomorrow  Year  season  \n",
              "83255            No  2015  winter  \n",
              "10582           Yes  2013  winter  \n",
              "34               No  2009  summer  \n",
              "61770            No  2010  winter  \n",
              "144770           No  2015  winter  "
            ]
          },
          "execution_count": 26,
          "metadata": {},
          "output_type": "execute_result"
        }
      ],
      "source": [
        "data.sample(5)"
      ]
    },
    {
      "cell_type": "code",
      "execution_count": 27,
      "metadata": {
        "colab": {
          "base_uri": "https://localhost:8080/",
          "height": 792
        },
        "id": "5puas3TStkQQ",
        "outputId": "defd76e3-9483-4c7e-b07e-5b6b91e201aa"
      },
      "outputs": [
        {
          "data": {
            "text/plain": [
              "<matplotlib.axes._subplots.AxesSubplot at 0xa160c7f550>"
            ]
          },
          "execution_count": 27,
          "metadata": {},
          "output_type": "execute_result"
        },
        {
          "data": {
            "image/png": "[encoded data removed]",
            "text/plain": [
              "<Figure size 1080x864 with 2 Axes>"
            ]
          },
          "metadata": {
            "needs_background": "light"
          },
          "output_type": "display_data"
        }
      ],
      "source": [
        "plt.figure(figsize=(15,12))\n",
        "sns.heatmap(data.corr(),cmap='Blues',annot=True)"
      ]
    },
    {
      "cell_type": "markdown",
      "metadata": {
        "id": "rioU7n12MTha"
      },
      "source": [
        "insight yang dapat diambil dari heatmap di atas adalah\n",
        "* korelasi antara MaxTemp dengan Temp3pm sangat tinggi yaitu sebesar 0.98\n",
        "* korelasi antara MaxTemp dengan Temp9am sangat tinggi yaitu sebesar 0.89\n",
        "* korelasi antara MinTemp dengan Temp9am sangat tinggi yaitu sebesar 0.9\n",
        "* korelasi antara MinTemp dengan temp3pm sangat tinggi yaitu sebesar 0.71\n",
        "* korelasi antara pressure9am dengan pressure3pm sangat tinggi yaitu sebesar 0.96\n",
        "* korelasi antara temp9am dengan temp3pm sangat tinggi yaitu sebesar 0.86"
      ]
    },
    {
      "cell_type": "markdown",
      "metadata": {
        "id": "o9QVbQZcZyDB"
      },
      "source": [
        "## 5. Data Preprocessing"
      ]
    },
    {
      "cell_type": "markdown",
      "metadata": {
        "id": "Sam4eE81C98g"
      },
      "source": [
        "Bagian ini berisi proses penyiapan data untuk proses pelatihan model, seperti pembagian data menjadi train-dev-test, transformasi data (normalisasi, encoding, dll.), dan proses-proses lain yang dibutuhkan."
      ]
    },
    {
      "cell_type": "code",
      "execution_count": 28,
      "metadata": {
        "id": "L_cv6Ct9hHY0"
      },
      "outputs": [],
      "source": [
        "new_data = data.copy()"
      ]
    },
    {
      "cell_type": "markdown",
      "metadata": {
        "id": "fyMoWpGlxyoC"
      },
      "source": [
        "### a. Data Inference"
      ]
    },
    {
      "cell_type": "markdown",
      "metadata": {
        "id": "wsEhJ8UJ3yvR"
      },
      "source": [
        "ambil data inference tanpa nilai NaN"
      ]
    },
    {
      "cell_type": "code",
      "execution_count": 29,
      "metadata": {
        "colab": {
          "base_uri": "https://localhost:8080/"
        },
        "id": "ik3uiMlc39wR",
        "outputId": "b93425b9-ebf9-42ce-fa11-be235d1f1f10"
      },
      "outputs": [
        {
          "data": {
            "text/plain": [
              "(145460, 25)"
            ]
          },
          "execution_count": 29,
          "metadata": {},
          "output_type": "execute_result"
        }
      ],
      "source": [
        "data.shape"
      ]
    },
    {
      "cell_type": "code",
      "execution_count": 30,
      "metadata": {
        "id": "lAcgpceUMeal"
      },
      "outputs": [],
      "source": [
        "col = data.columns.to_list()"
      ]
    },
    {
      "cell_type": "code",
      "execution_count": 31,
      "metadata": {
        "id": "WRd351zIMh0G"
      },
      "outputs": [],
      "source": [
        "rs = 20 #random state\n",
        "samples = 20\n",
        "data_inf = data[(~data[col[0]].isnull()) & (~data[col[1]].isnull()) & (~data[col[2]].isnull())& (~data[col[3]].isnull()) & (~data[col[4]].isnull()) &\n",
        "     (~data[col[5]].isnull()) & (~data[col[6]].isnull()) & (~data[col[7]].isnull())& (~data[col[8]].isnull()) & (~data[col[9]].isnull()) &\n",
        "     (~data[col[10]].isnull()) & (~data[col[11]].isnull()) & (~data[col[12]].isnull())& (~data[col[13]].isnull()) & (~data[col[14]].isnull()) &\n",
        "     (~data[col[15]].isnull()) & (~data[col[16]].isnull()) & (~data[col[17]].isnull())& (~data[col[18]].isnull()) & (~data[col[19]].isnull()) &\n",
        "     (~data[col[20]].isnull()) & (~data[col[21]].isnull()) & (~data[col[22]].isnull())& (~data[col[23]].isnull()) & (~data[col[24]].isnull())].sample(samples, random_state=rs)"
      ]
    },
    {
      "cell_type": "code",
      "execution_count": 32,
      "metadata": {
        "colab": {
          "base_uri": "https://localhost:8080/"
        },
        "id": "fuI6qRCbaXJU",
        "outputId": "bbe146aa-5c0f-4811-fa1c-5048ccce9c4b"
      },
      "outputs": [
        {
          "data": {
            "text/html": [
              "<div>\n",
              "<style scoped>\n",
              "    .dataframe tbody tr th:only-of-type {\n",
              "        vertical-align: middle;\n",
              "    }\n",
              "\n",
              "    .dataframe tbody tr th {\n",
              "        vertical-align: top;\n",
              "    }\n",
              "\n",
              "    .dataframe thead th {\n",
              "        text-align: right;\n",
              "    }\n",
              "</style>\n",
              "<table border=\"1\" class=\"dataframe\">\n",
              "  <thead>\n",
              "    <tr style=\"text-align: right;\">\n",
              "      <th></th>\n",
              "      <th>Date</th>\n",
              "      <th>Location</th>\n",
              "      <th>MinTemp</th>\n",
              "      <th>MaxTemp</th>\n",
              "      <th>Rainfall</th>\n",
              "      <th>Evaporation</th>\n",
              "      <th>Sunshine</th>\n",
              "      <th>WindGustDir</th>\n",
              "      <th>WindGustSpeed</th>\n",
              "      <th>WindDir9am</th>\n",
              "      <th>WindDir3pm</th>\n",
              "      <th>WindSpeed9am</th>\n",
              "      <th>WindSpeed3pm</th>\n",
              "      <th>Humidity9am</th>\n",
              "      <th>Humidity3pm</th>\n",
              "      <th>Pressure9am</th>\n",
              "      <th>Pressure3pm</th>\n",
              "      <th>Cloud9am</th>\n",
              "      <th>Cloud3pm</th>\n",
              "      <th>Temp9am</th>\n",
              "      <th>Temp3pm</th>\n",
              "      <th>RainToday</th>\n",
              "      <th>RainTomorrow</th>\n",
              "      <th>Year</th>\n",
              "      <th>season</th>\n",
              "    </tr>\n",
              "  </thead>\n",
              "  <tbody>\n",
              "    <tr>\n",
              "      <th>67743</th>\n",
              "      <td>2009-12-26</td>\n",
              "      <td>Melbourne</td>\n",
              "      <td>12.9</td>\n",
              "      <td>22.1</td>\n",
              "      <td>0.0</td>\n",
              "      <td>6.8</td>\n",
              "      <td>13.0</td>\n",
              "      <td>SSE</td>\n",
              "      <td>46.0</td>\n",
              "      <td>SSE</td>\n",
              "      <td>SSE</td>\n",
              "      <td>22.0</td>\n",
              "      <td>28.0</td>\n",
              "      <td>51.0</td>\n",
              "      <td>49.0</td>\n",
              "      <td>1019.1</td>\n",
              "      <td>1017.7</td>\n",
              "      <td>2.0</td>\n",
              "      <td>0.0</td>\n",
              "      <td>17.1</td>\n",
              "      <td>20.2</td>\n",
              "      <td>No</td>\n",
              "      <td>No</td>\n",
              "      <td>2009</td>\n",
              "      <td>summer</td>\n",
              "    </tr>\n",
              "    <tr>\n",
              "      <th>75750</th>\n",
              "      <td>2011-02-10</td>\n",
              "      <td>Portland</td>\n",
              "      <td>14.5</td>\n",
              "      <td>23.6</td>\n",
              "      <td>0.0</td>\n",
              "      <td>3.0</td>\n",
              "      <td>1.0</td>\n",
              "      <td>ENE</td>\n",
              "      <td>24.0</td>\n",
              "      <td>N</td>\n",
              "      <td>E</td>\n",
              "      <td>9.0</td>\n",
              "      <td>11.0</td>\n",
              "      <td>88.0</td>\n",
              "      <td>71.0</td>\n",
              "      <td>1015.3</td>\n",
              "      <td>1012.3</td>\n",
              "      <td>8.0</td>\n",
              "      <td>8.0</td>\n",
              "      <td>18.5</td>\n",
              "      <td>22.8</td>\n",
              "      <td>No</td>\n",
              "      <td>Yes</td>\n",
              "      <td>2011</td>\n",
              "      <td>summer</td>\n",
              "    </tr>\n",
              "    <tr>\n",
              "      <th>32275</th>\n",
              "      <td>2014-01-28</td>\n",
              "      <td>Sydney</td>\n",
              "      <td>19.6</td>\n",
              "      <td>26.5</td>\n",
              "      <td>0.0</td>\n",
              "      <td>9.4</td>\n",
              "      <td>13.0</td>\n",
              "      <td>NE</td>\n",
              "      <td>57.0</td>\n",
              "      <td>NNE</td>\n",
              "      <td>NE</td>\n",
              "      <td>17.0</td>\n",
              "      <td>28.0</td>\n",
              "      <td>45.0</td>\n",
              "      <td>56.0</td>\n",
              "      <td>1021.5</td>\n",
              "      <td>1018.4</td>\n",
              "      <td>1.0</td>\n",
              "      <td>1.0</td>\n",
              "      <td>24.7</td>\n",
              "      <td>25.5</td>\n",
              "      <td>No</td>\n",
              "      <td>No</td>\n",
              "      <td>2014</td>\n",
              "      <td>summer</td>\n",
              "    </tr>\n",
              "    <tr>\n",
              "      <th>67598</th>\n",
              "      <td>2009-08-03</td>\n",
              "      <td>Melbourne</td>\n",
              "      <td>8.8</td>\n",
              "      <td>15.4</td>\n",
              "      <td>3.2</td>\n",
              "      <td>3.6</td>\n",
              "      <td>7.1</td>\n",
              "      <td>W</td>\n",
              "      <td>93.0</td>\n",
              "      <td>W</td>\n",
              "      <td>NW</td>\n",
              "      <td>20.0</td>\n",
              "      <td>13.0</td>\n",
              "      <td>65.0</td>\n",
              "      <td>35.0</td>\n",
              "      <td>1022.4</td>\n",
              "      <td>1021.9</td>\n",
              "      <td>1.0</td>\n",
              "      <td>6.0</td>\n",
              "      <td>9.9</td>\n",
              "      <td>14.8</td>\n",
              "      <td>Yes</td>\n",
              "      <td>No</td>\n",
              "      <td>2009</td>\n",
              "      <td>winter</td>\n",
              "    </tr>\n",
              "    <tr>\n",
              "      <th>117649</th>\n",
              "      <td>2009-01-21</td>\n",
              "      <td>PerthAirport</td>\n",
              "      <td>15.4</td>\n",
              "      <td>27.3</td>\n",
              "      <td>0.0</td>\n",
              "      <td>10.0</td>\n",
              "      <td>13.0</td>\n",
              "      <td>SSW</td>\n",
              "      <td>43.0</td>\n",
              "      <td>SSW</td>\n",
              "      <td>SW</td>\n",
              "      <td>17.0</td>\n",
              "      <td>30.0</td>\n",
              "      <td>63.0</td>\n",
              "      <td>42.0</td>\n",
              "      <td>1016.1</td>\n",
              "      <td>1013.5</td>\n",
              "      <td>1.0</td>\n",
              "      <td>4.0</td>\n",
              "      <td>20.1</td>\n",
              "      <td>26.6</td>\n",
              "      <td>No</td>\n",
              "      <td>No</td>\n",
              "      <td>2009</td>\n",
              "      <td>summer</td>\n",
              "    </tr>\n",
              "    <tr>\n",
              "      <th>75986</th>\n",
              "      <td>2011-11-03</td>\n",
              "      <td>Portland</td>\n",
              "      <td>10.5</td>\n",
              "      <td>16.2</td>\n",
              "      <td>3.8</td>\n",
              "      <td>1.6</td>\n",
              "      <td>6.4</td>\n",
              "      <td>W</td>\n",
              "      <td>33.0</td>\n",
              "      <td>SW</td>\n",
              "      <td>W</td>\n",
              "      <td>13.0</td>\n",
              "      <td>24.0</td>\n",
              "      <td>89.0</td>\n",
              "      <td>70.0</td>\n",
              "      <td>1017.9</td>\n",
              "      <td>1018.8</td>\n",
              "      <td>7.0</td>\n",
              "      <td>6.0</td>\n",
              "      <td>12.4</td>\n",
              "      <td>15.1</td>\n",
              "      <td>Yes</td>\n",
              "      <td>No</td>\n",
              "      <td>2011</td>\n",
              "      <td>spring</td>\n",
              "    </tr>\n",
              "    <tr>\n",
              "      <th>87682</th>\n",
              "      <td>2010-03-28</td>\n",
              "      <td>Cairns</td>\n",
              "      <td>23.9</td>\n",
              "      <td>28.4</td>\n",
              "      <td>44.4</td>\n",
              "      <td>4.4</td>\n",
              "      <td>1.1</td>\n",
              "      <td>SE</td>\n",
              "      <td>50.0</td>\n",
              "      <td>SSE</td>\n",
              "      <td>ESE</td>\n",
              "      <td>20.0</td>\n",
              "      <td>22.0</td>\n",
              "      <td>85.0</td>\n",
              "      <td>91.0</td>\n",
              "      <td>1012.6</td>\n",
              "      <td>1009.5</td>\n",
              "      <td>8.0</td>\n",
              "      <td>8.0</td>\n",
              "      <td>25.6</td>\n",
              "      <td>25.1</td>\n",
              "      <td>Yes</td>\n",
              "      <td>Yes</td>\n",
              "      <td>2010</td>\n",
              "      <td>autumn</td>\n",
              "    </tr>\n",
              "    <tr>\n",
              "      <th>13602</th>\n",
              "      <td>2013-06-13</td>\n",
              "      <td>Moree</td>\n",
              "      <td>13.2</td>\n",
              "      <td>17.2</td>\n",
              "      <td>15.6</td>\n",
              "      <td>4.0</td>\n",
              "      <td>5.4</td>\n",
              "      <td>NNW</td>\n",
              "      <td>30.0</td>\n",
              "      <td>NW</td>\n",
              "      <td>WNW</td>\n",
              "      <td>17.0</td>\n",
              "      <td>17.0</td>\n",
              "      <td>86.0</td>\n",
              "      <td>65.0</td>\n",
              "      <td>1012.8</td>\n",
              "      <td>1010.5</td>\n",
              "      <td>3.0</td>\n",
              "      <td>7.0</td>\n",
              "      <td>14.6</td>\n",
              "      <td>16.4</td>\n",
              "      <td>Yes</td>\n",
              "      <td>No</td>\n",
              "      <td>2013</td>\n",
              "      <td>winter</td>\n",
              "    </tr>\n",
              "    <tr>\n",
              "      <th>123740</th>\n",
              "      <td>2017-03-27</td>\n",
              "      <td>Perth</td>\n",
              "      <td>8.3</td>\n",
              "      <td>23.3</td>\n",
              "      <td>0.2</td>\n",
              "      <td>6.2</td>\n",
              "      <td>10.3</td>\n",
              "      <td>SSW</td>\n",
              "      <td>30.0</td>\n",
              "      <td>NE</td>\n",
              "      <td>SW</td>\n",
              "      <td>7.0</td>\n",
              "      <td>17.0</td>\n",
              "      <td>62.0</td>\n",
              "      <td>36.0</td>\n",
              "      <td>1023.8</td>\n",
              "      <td>1019.7</td>\n",
              "      <td>1.0</td>\n",
              "      <td>5.0</td>\n",
              "      <td>16.5</td>\n",
              "      <td>22.5</td>\n",
              "      <td>No</td>\n",
              "      <td>No</td>\n",
              "      <td>2017</td>\n",
              "      <td>autumn</td>\n",
              "    </tr>\n",
              "    <tr>\n",
              "      <th>104577</th>\n",
              "      <td>2014-10-15</td>\n",
              "      <td>Nuriootpa</td>\n",
              "      <td>-1.0</td>\n",
              "      <td>17.4</td>\n",
              "      <td>0.0</td>\n",
              "      <td>2.5</td>\n",
              "      <td>12.2</td>\n",
              "      <td>SSW</td>\n",
              "      <td>33.0</td>\n",
              "      <td>N</td>\n",
              "      <td>WSW</td>\n",
              "      <td>4.0</td>\n",
              "      <td>17.0</td>\n",
              "      <td>66.0</td>\n",
              "      <td>35.0</td>\n",
              "      <td>1025.8</td>\n",
              "      <td>1022.1</td>\n",
              "      <td>2.0</td>\n",
              "      <td>2.0</td>\n",
              "      <td>9.2</td>\n",
              "      <td>16.6</td>\n",
              "      <td>No</td>\n",
              "      <td>No</td>\n",
              "      <td>2014</td>\n",
              "      <td>spring</td>\n",
              "    </tr>\n",
              "    <tr>\n",
              "      <th>122988</th>\n",
              "      <td>2015-03-06</td>\n",
              "      <td>Perth</td>\n",
              "      <td>18.6</td>\n",
              "      <td>32.6</td>\n",
              "      <td>0.0</td>\n",
              "      <td>9.0</td>\n",
              "      <td>11.8</td>\n",
              "      <td>SSW</td>\n",
              "      <td>37.0</td>\n",
              "      <td>E</td>\n",
              "      <td>SSW</td>\n",
              "      <td>11.0</td>\n",
              "      <td>15.0</td>\n",
              "      <td>52.0</td>\n",
              "      <td>38.0</td>\n",
              "      <td>1020.8</td>\n",
              "      <td>1016.7</td>\n",
              "      <td>0.0</td>\n",
              "      <td>1.0</td>\n",
              "      <td>24.5</td>\n",
              "      <td>29.8</td>\n",
              "      <td>No</td>\n",
              "      <td>No</td>\n",
              "      <td>2015</td>\n",
              "      <td>autumn</td>\n",
              "    </tr>\n",
              "    <tr>\n",
              "      <th>88988</th>\n",
              "      <td>2014-01-21</td>\n",
              "      <td>Cairns</td>\n",
              "      <td>22.9</td>\n",
              "      <td>30.5</td>\n",
              "      <td>0.0</td>\n",
              "      <td>6.8</td>\n",
              "      <td>7.0</td>\n",
              "      <td>ENE</td>\n",
              "      <td>28.0</td>\n",
              "      <td>SE</td>\n",
              "      <td>NE</td>\n",
              "      <td>11.0</td>\n",
              "      <td>17.0</td>\n",
              "      <td>68.0</td>\n",
              "      <td>64.0</td>\n",
              "      <td>1009.6</td>\n",
              "      <td>1006.7</td>\n",
              "      <td>3.0</td>\n",
              "      <td>4.0</td>\n",
              "      <td>28.9</td>\n",
              "      <td>29.4</td>\n",
              "      <td>No</td>\n",
              "      <td>No</td>\n",
              "      <td>2014</td>\n",
              "      <td>summer</td>\n",
              "    </tr>\n",
              "    <tr>\n",
              "      <th>117760</th>\n",
              "      <td>2009-05-12</td>\n",
              "      <td>PerthAirport</td>\n",
              "      <td>14.2</td>\n",
              "      <td>24.6</td>\n",
              "      <td>0.0</td>\n",
              "      <td>5.4</td>\n",
              "      <td>9.5</td>\n",
              "      <td>E</td>\n",
              "      <td>67.0</td>\n",
              "      <td>E</td>\n",
              "      <td>ESE</td>\n",
              "      <td>17.0</td>\n",
              "      <td>20.0</td>\n",
              "      <td>61.0</td>\n",
              "      <td>29.0</td>\n",
              "      <td>1026.2</td>\n",
              "      <td>1023.6</td>\n",
              "      <td>1.0</td>\n",
              "      <td>1.0</td>\n",
              "      <td>16.5</td>\n",
              "      <td>24.1</td>\n",
              "      <td>No</td>\n",
              "      <td>No</td>\n",
              "      <td>2009</td>\n",
              "      <td>autumn</td>\n",
              "    </tr>\n",
              "    <tr>\n",
              "      <th>89612</th>\n",
              "      <td>2015-10-07</td>\n",
              "      <td>Cairns</td>\n",
              "      <td>20.4</td>\n",
              "      <td>27.7</td>\n",
              "      <td>7.0</td>\n",
              "      <td>9.2</td>\n",
              "      <td>5.8</td>\n",
              "      <td>SE</td>\n",
              "      <td>57.0</td>\n",
              "      <td>SE</td>\n",
              "      <td>SE</td>\n",
              "      <td>35.0</td>\n",
              "      <td>30.0</td>\n",
              "      <td>66.0</td>\n",
              "      <td>59.0</td>\n",
              "      <td>1020.4</td>\n",
              "      <td>1018.4</td>\n",
              "      <td>4.0</td>\n",
              "      <td>7.0</td>\n",
              "      <td>25.9</td>\n",
              "      <td>25.9</td>\n",
              "      <td>Yes</td>\n",
              "      <td>No</td>\n",
              "      <td>2015</td>\n",
              "      <td>spring</td>\n",
              "    </tr>\n",
              "    <tr>\n",
              "      <th>21624</th>\n",
              "      <td>2010-05-21</td>\n",
              "      <td>NorfolkIsland</td>\n",
              "      <td>17.0</td>\n",
              "      <td>21.3</td>\n",
              "      <td>0.0</td>\n",
              "      <td>4.6</td>\n",
              "      <td>7.8</td>\n",
              "      <td>WSW</td>\n",
              "      <td>26.0</td>\n",
              "      <td>WSW</td>\n",
              "      <td>W</td>\n",
              "      <td>11.0</td>\n",
              "      <td>13.0</td>\n",
              "      <td>63.0</td>\n",
              "      <td>65.0</td>\n",
              "      <td>1020.0</td>\n",
              "      <td>1018.5</td>\n",
              "      <td>6.0</td>\n",
              "      <td>6.0</td>\n",
              "      <td>20.0</td>\n",
              "      <td>20.2</td>\n",
              "      <td>No</td>\n",
              "      <td>No</td>\n",
              "      <td>2010</td>\n",
              "      <td>autumn</td>\n",
              "    </tr>\n",
              "    <tr>\n",
              "      <th>140693</th>\n",
              "      <td>2012-11-29</td>\n",
              "      <td>Darwin</td>\n",
              "      <td>24.8</td>\n",
              "      <td>33.5</td>\n",
              "      <td>3.4</td>\n",
              "      <td>7.4</td>\n",
              "      <td>4.7</td>\n",
              "      <td>E</td>\n",
              "      <td>43.0</td>\n",
              "      <td>ENE</td>\n",
              "      <td>W</td>\n",
              "      <td>9.0</td>\n",
              "      <td>15.0</td>\n",
              "      <td>84.0</td>\n",
              "      <td>75.0</td>\n",
              "      <td>1010.8</td>\n",
              "      <td>1007.6</td>\n",
              "      <td>7.0</td>\n",
              "      <td>7.0</td>\n",
              "      <td>27.3</td>\n",
              "      <td>29.0</td>\n",
              "      <td>Yes</td>\n",
              "      <td>No</td>\n",
              "      <td>2012</td>\n",
              "      <td>spring</td>\n",
              "    </tr>\n",
              "    <tr>\n",
              "      <th>66960</th>\n",
              "      <td>2016-10-29</td>\n",
              "      <td>MelbourneAirport</td>\n",
              "      <td>6.9</td>\n",
              "      <td>24.4</td>\n",
              "      <td>0.0</td>\n",
              "      <td>4.6</td>\n",
              "      <td>9.5</td>\n",
              "      <td>NNE</td>\n",
              "      <td>41.0</td>\n",
              "      <td>NNW</td>\n",
              "      <td>NNE</td>\n",
              "      <td>6.0</td>\n",
              "      <td>30.0</td>\n",
              "      <td>81.0</td>\n",
              "      <td>32.0</td>\n",
              "      <td>1019.0</td>\n",
              "      <td>1013.0</td>\n",
              "      <td>7.0</td>\n",
              "      <td>1.0</td>\n",
              "      <td>11.6</td>\n",
              "      <td>23.3</td>\n",
              "      <td>No</td>\n",
              "      <td>No</td>\n",
              "      <td>2016</td>\n",
              "      <td>spring</td>\n",
              "    </tr>\n",
              "    <tr>\n",
              "      <th>88157</th>\n",
              "      <td>2011-08-15</td>\n",
              "      <td>Cairns</td>\n",
              "      <td>16.5</td>\n",
              "      <td>27.0</td>\n",
              "      <td>0.0</td>\n",
              "      <td>7.2</td>\n",
              "      <td>8.9</td>\n",
              "      <td>SE</td>\n",
              "      <td>41.0</td>\n",
              "      <td>S</td>\n",
              "      <td>SE</td>\n",
              "      <td>19.0</td>\n",
              "      <td>30.0</td>\n",
              "      <td>64.0</td>\n",
              "      <td>51.0</td>\n",
              "      <td>1019.2</td>\n",
              "      <td>1015.8</td>\n",
              "      <td>2.0</td>\n",
              "      <td>5.0</td>\n",
              "      <td>22.6</td>\n",
              "      <td>26.0</td>\n",
              "      <td>No</td>\n",
              "      <td>No</td>\n",
              "      <td>2011</td>\n",
              "      <td>winter</td>\n",
              "    </tr>\n",
              "    <tr>\n",
              "      <th>84172</th>\n",
              "      <td>2008-12-13</td>\n",
              "      <td>Brisbane</td>\n",
              "      <td>21.9</td>\n",
              "      <td>34.2</td>\n",
              "      <td>0.0</td>\n",
              "      <td>4.2</td>\n",
              "      <td>7.2</td>\n",
              "      <td>WNW</td>\n",
              "      <td>44.0</td>\n",
              "      <td>NNW</td>\n",
              "      <td>ENE</td>\n",
              "      <td>11.0</td>\n",
              "      <td>11.0</td>\n",
              "      <td>61.0</td>\n",
              "      <td>63.0</td>\n",
              "      <td>1006.5</td>\n",
              "      <td>1000.6</td>\n",
              "      <td>7.0</td>\n",
              "      <td>7.0</td>\n",
              "      <td>27.1</td>\n",
              "      <td>30.7</td>\n",
              "      <td>No</td>\n",
              "      <td>No</td>\n",
              "      <td>2008</td>\n",
              "      <td>summer</td>\n",
              "    </tr>\n",
              "    <tr>\n",
              "      <th>35430</th>\n",
              "      <td>2014-06-23</td>\n",
              "      <td>SydneyAirport</td>\n",
              "      <td>9.1</td>\n",
              "      <td>18.0</td>\n",
              "      <td>0.0</td>\n",
              "      <td>0.6</td>\n",
              "      <td>1.8</td>\n",
              "      <td>NNW</td>\n",
              "      <td>52.0</td>\n",
              "      <td>NNW</td>\n",
              "      <td>N</td>\n",
              "      <td>13.0</td>\n",
              "      <td>28.0</td>\n",
              "      <td>70.0</td>\n",
              "      <td>48.0</td>\n",
              "      <td>1014.8</td>\n",
              "      <td>1008.0</td>\n",
              "      <td>7.0</td>\n",
              "      <td>7.0</td>\n",
              "      <td>13.9</td>\n",
              "      <td>17.3</td>\n",
              "      <td>No</td>\n",
              "      <td>No</td>\n",
              "      <td>2014</td>\n",
              "      <td>winter</td>\n",
              "    </tr>\n",
              "  </tbody>\n",
              "</table>\n",
              "</div>"
            ],
            "text/plain": [
              "             Date          Location  MinTemp  MaxTemp  Rainfall  Evaporation  \\\n",
              "67743  2009-12-26         Melbourne     12.9     22.1       0.0          6.8   \n",
              "75750  2011-02-10          Portland     14.5     23.6       0.0          3.0   \n",
              "32275  2014-01-28            Sydney     19.6     26.5       0.0          9.4   \n",
              "67598  2009-08-03         Melbourne      8.8     15.4       3.2          3.6   \n",
              "117649 2009-01-21      PerthAirport     15.4     27.3       0.0         10.0   \n",
              "75986  2011-11-03          Portland     10.5     16.2       3.8          1.6   \n",
              "87682  2010-03-28            Cairns     23.9     28.4      44.4          4.4   \n",
              "13602  2013-06-13             Moree     13.2     17.2      15.6          4.0   \n",
              "123740 2017-03-27             Perth      8.3     23.3       0.2          6.2   \n",
              "104577 2014-10-15         Nuriootpa     -1.0     17.4       0.0          2.5   \n",
              "122988 2015-03-06             Perth     18.6     32.6       0.0          9.0   \n",
              "88988  2014-01-21            Cairns     22.9     30.5       0.0          6.8   \n",
              "117760 2009-05-12      PerthAirport     14.2     24.6       0.0          5.4   \n",
              "89612  2015-10-07            Cairns     20.4     27.7       7.0          9.2   \n",
              "21624  2010-05-21     NorfolkIsland     17.0     21.3       0.0          4.6   \n",
              "140693 2012-11-29            Darwin     24.8     33.5       3.4          7.4   \n",
              "66960  2016-10-29  MelbourneAirport      6.9     24.4       0.0          4.6   \n",
              "88157  2011-08-15            Cairns     16.5     27.0       0.0          7.2   \n",
              "84172  2008-12-13          Brisbane     21.9     34.2       0.0          4.2   \n",
              "35430  2014-06-23     SydneyAirport      9.1     18.0       0.0          0.6   \n",
              "\n",
              "        Sunshine WindGustDir  WindGustSpeed WindDir9am WindDir3pm  \\\n",
              "67743       13.0         SSE           46.0        SSE        SSE   \n",
              "75750        1.0         ENE           24.0          N          E   \n",
              "32275       13.0          NE           57.0        NNE         NE   \n",
              "67598        7.1           W           93.0          W         NW   \n",
              "117649      13.0         SSW           43.0        SSW         SW   \n",
              "75986        6.4           W           33.0         SW          W   \n",
              "87682        1.1          SE           50.0        SSE        ESE   \n",
              "13602        5.4         NNW           30.0         NW        WNW   \n",
              "123740      10.3         SSW           30.0         NE         SW   \n",
              "104577      12.2         SSW           33.0          N        WSW   \n",
              "122988      11.8         SSW           37.0          E        SSW   \n",
              "88988        7.0         ENE           28.0         SE         NE   \n",
              "117760       9.5           E           67.0          E        ESE   \n",
              "89612        5.8          SE           57.0         SE         SE   \n",
              "21624        7.8         WSW           26.0        WSW          W   \n",
              "140693       4.7           E           43.0        ENE          W   \n",
              "66960        9.5         NNE           41.0        NNW        NNE   \n",
              "88157        8.9          SE           41.0          S         SE   \n",
              "84172        7.2         WNW           44.0        NNW        ENE   \n",
              "35430        1.8         NNW           52.0        NNW          N   \n",
              "\n",
              "        WindSpeed9am  WindSpeed3pm  Humidity9am  Humidity3pm  Pressure9am  \\\n",
              "67743           22.0          28.0         51.0         49.0       1019.1   \n",
              "75750            9.0          11.0         88.0         71.0       1015.3   \n",
              "32275           17.0          28.0         45.0         56.0       1021.5   \n",
              "67598           20.0          13.0         65.0         35.0       1022.4   \n",
              "117649          17.0          30.0         63.0         42.0       1016.1   \n",
              "75986           13.0          24.0         89.0         70.0       1017.9   \n",
              "87682           20.0          22.0         85.0         91.0       1012.6   \n",
              "13602           17.0          17.0         86.0         65.0       1012.8   \n",
              "123740           7.0          17.0         62.0         36.0       1023.8   \n",
              "104577           4.0          17.0         66.0         35.0       1025.8   \n",
              "122988          11.0          15.0         52.0         38.0       1020.8   \n",
              "88988           11.0          17.0         68.0         64.0       1009.6   \n",
              "117760          17.0          20.0         61.0         29.0       1026.2   \n",
              "89612           35.0          30.0         66.0         59.0       1020.4   \n",
              "21624           11.0          13.0         63.0         65.0       1020.0   \n",
              "140693           9.0          15.0         84.0         75.0       1010.8   \n",
              "66960            6.0          30.0         81.0         32.0       1019.0   \n",
              "88157           19.0          30.0         64.0         51.0       1019.2   \n",
              "84172           11.0          11.0         61.0         63.0       1006.5   \n",
              "35430           13.0          28.0         70.0         48.0       1014.8   \n",
              "\n",
              "        Pressure3pm  Cloud9am  Cloud3pm  Temp9am  Temp3pm RainToday  \\\n",
              "67743        1017.7       2.0       0.0     17.1     20.2        No   \n",
              "75750        1012.3       8.0       8.0     18.5     22.8        No   \n",
              "32275        1018.4       1.0       1.0     24.7     25.5        No   \n",
              "67598        1021.9       1.0       6.0      9.9     14.8       Yes   \n",
              "117649       1013.5       1.0       4.0     20.1     26.6        No   \n",
              "75986        1018.8       7.0       6.0     12.4     15.1       Yes   \n",
              "87682        1009.5       8.0       8.0     25.6     25.1       Yes   \n",
              "13602        1010.5       3.0       7.0     14.6     16.4       Yes   \n",
              "123740       1019.7       1.0       5.0     16.5     22.5        No   \n",
              "104577       1022.1       2.0       2.0      9.2     16.6        No   \n",
              "122988       1016.7       0.0       1.0     24.5     29.8        No   \n",
              "88988        1006.7       3.0       4.0     28.9     29.4        No   \n",
              "117760       1023.6       1.0       1.0     16.5     24.1        No   \n",
              "89612        1018.4       4.0       7.0     25.9     25.9       Yes   \n",
              "21624        1018.5       6.0       6.0     20.0     20.2        No   \n",
              "140693       1007.6       7.0       7.0     27.3     29.0       Yes   \n",
              "66960        1013.0       7.0       1.0     11.6     23.3        No   \n",
              "88157        1015.8       2.0       5.0     22.6     26.0        No   \n",
              "84172        1000.6       7.0       7.0     27.1     30.7        No   \n",
              "35430        1008.0       7.0       7.0     13.9     17.3        No   \n",
              "\n",
              "       RainTomorrow  Year  season  \n",
              "67743            No  2009  summer  \n",
              "75750           Yes  2011  summer  \n",
              "32275            No  2014  summer  \n",
              "67598            No  2009  winter  \n",
              "117649           No  2009  summer  \n",
              "75986            No  2011  spring  \n",
              "87682           Yes  2010  autumn  \n",
              "13602            No  2013  winter  \n",
              "123740           No  2017  autumn  \n",
              "104577           No  2014  spring  \n",
              "122988           No  2015  autumn  \n",
              "88988            No  2014  summer  \n",
              "117760           No  2009  autumn  \n",
              "89612            No  2015  spring  \n",
              "21624            No  2010  autumn  \n",
              "140693           No  2012  spring  \n",
              "66960            No  2016  spring  \n",
              "88157            No  2011  winter  \n",
              "84172            No  2008  summer  \n",
              "35430            No  2014  winter  "
            ]
          },
          "execution_count": 32,
          "metadata": {},
          "output_type": "execute_result"
        }
      ],
      "source": [
        "data_inf"
      ]
    },
    {
      "cell_type": "markdown",
      "metadata": {
        "id": "XIuyQbpoB6U7"
      },
      "source": [
        "### b. Feature Selection"
      ]
    },
    {
      "cell_type": "markdown",
      "metadata": {
        "id": "MxNLthKEhR2w"
      },
      "source": [
        "**drop kolom dengan misval terlalu banyak**"
      ]
    },
    {
      "cell_type": "code",
      "execution_count": 33,
      "metadata": {
        "colab": {
          "base_uri": "https://localhost:8080/"
        },
        "id": "thYld7IhdXTC",
        "outputId": "84146c56-2a17-4b4a-8462-b6ae2a267d91"
      },
      "outputs": [
        {
          "data": {
            "text/html": [
              "<div>\n",
              "<style scoped>\n",
              "    .dataframe tbody tr th:only-of-type {\n",
              "        vertical-align: middle;\n",
              "    }\n",
              "\n",
              "    .dataframe tbody tr th {\n",
              "        vertical-align: top;\n",
              "    }\n",
              "\n",
              "    .dataframe thead th {\n",
              "        text-align: right;\n",
              "    }\n",
              "</style>\n",
              "<table border=\"1\" class=\"dataframe\">\n",
              "  <thead>\n",
              "    <tr style=\"text-align: right;\">\n",
              "      <th></th>\n",
              "      <th>Number of missing values</th>\n",
              "      <th>% missing_values</th>\n",
              "    </tr>\n",
              "  </thead>\n",
              "  <tbody>\n",
              "    <tr>\n",
              "      <th>Date</th>\n",
              "      <td>0</td>\n",
              "      <td>0.0</td>\n",
              "    </tr>\n",
              "    <tr>\n",
              "      <th>Location</th>\n",
              "      <td>0</td>\n",
              "      <td>0.0</td>\n",
              "    </tr>\n",
              "    <tr>\n",
              "      <th>MinTemp</th>\n",
              "      <td>1485</td>\n",
              "      <td>1.0</td>\n",
              "    </tr>\n",
              "    <tr>\n",
              "      <th>MaxTemp</th>\n",
              "      <td>1261</td>\n",
              "      <td>1.0</td>\n",
              "    </tr>\n",
              "    <tr>\n",
              "      <th>Rainfall</th>\n",
              "      <td>3261</td>\n",
              "      <td>2.0</td>\n",
              "    </tr>\n",
              "    <tr>\n",
              "      <th>Evaporation</th>\n",
              "      <td>62790</td>\n",
              "      <td>43.0</td>\n",
              "    </tr>\n",
              "    <tr>\n",
              "      <th>Sunshine</th>\n",
              "      <td>69835</td>\n",
              "      <td>48.0</td>\n",
              "    </tr>\n",
              "    <tr>\n",
              "      <th>WindGustDir</th>\n",
              "      <td>10326</td>\n",
              "      <td>7.0</td>\n",
              "    </tr>\n",
              "    <tr>\n",
              "      <th>WindGustSpeed</th>\n",
              "      <td>10263</td>\n",
              "      <td>7.0</td>\n",
              "    </tr>\n",
              "    <tr>\n",
              "      <th>WindDir9am</th>\n",
              "      <td>10566</td>\n",
              "      <td>7.0</td>\n",
              "    </tr>\n",
              "    <tr>\n",
              "      <th>WindDir3pm</th>\n",
              "      <td>4228</td>\n",
              "      <td>3.0</td>\n",
              "    </tr>\n",
              "    <tr>\n",
              "      <th>WindSpeed9am</th>\n",
              "      <td>1767</td>\n",
              "      <td>1.0</td>\n",
              "    </tr>\n",
              "    <tr>\n",
              "      <th>WindSpeed3pm</th>\n",
              "      <td>3062</td>\n",
              "      <td>2.0</td>\n",
              "    </tr>\n",
              "    <tr>\n",
              "      <th>Humidity9am</th>\n",
              "      <td>2654</td>\n",
              "      <td>2.0</td>\n",
              "    </tr>\n",
              "    <tr>\n",
              "      <th>Humidity3pm</th>\n",
              "      <td>4507</td>\n",
              "      <td>3.0</td>\n",
              "    </tr>\n",
              "    <tr>\n",
              "      <th>Pressure9am</th>\n",
              "      <td>15065</td>\n",
              "      <td>10.0</td>\n",
              "    </tr>\n",
              "    <tr>\n",
              "      <th>Pressure3pm</th>\n",
              "      <td>15028</td>\n",
              "      <td>10.0</td>\n",
              "    </tr>\n",
              "    <tr>\n",
              "      <th>Cloud9am</th>\n",
              "      <td>55888</td>\n",
              "      <td>38.0</td>\n",
              "    </tr>\n",
              "    <tr>\n",
              "      <th>Cloud3pm</th>\n",
              "      <td>59358</td>\n",
              "      <td>41.0</td>\n",
              "    </tr>\n",
              "    <tr>\n",
              "      <th>Temp9am</th>\n",
              "      <td>1767</td>\n",
              "      <td>1.0</td>\n",
              "    </tr>\n",
              "    <tr>\n",
              "      <th>Temp3pm</th>\n",
              "      <td>3609</td>\n",
              "      <td>2.0</td>\n",
              "    </tr>\n",
              "    <tr>\n",
              "      <th>RainToday</th>\n",
              "      <td>3261</td>\n",
              "      <td>2.0</td>\n",
              "    </tr>\n",
              "    <tr>\n",
              "      <th>RainTomorrow</th>\n",
              "      <td>3267</td>\n",
              "      <td>2.0</td>\n",
              "    </tr>\n",
              "    <tr>\n",
              "      <th>Year</th>\n",
              "      <td>0</td>\n",
              "      <td>0.0</td>\n",
              "    </tr>\n",
              "    <tr>\n",
              "      <th>season</th>\n",
              "      <td>0</td>\n",
              "      <td>0.0</td>\n",
              "    </tr>\n",
              "  </tbody>\n",
              "</table>\n",
              "</div>"
            ],
            "text/plain": [
              "               Number of missing values  % missing_values\n",
              "Date                                  0               0.0\n",
              "Location                              0               0.0\n",
              "MinTemp                            1485               1.0\n",
              "MaxTemp                            1261               1.0\n",
              "Rainfall                           3261               2.0\n",
              "Evaporation                       62790              43.0\n",
              "Sunshine                          69835              48.0\n",
              "WindGustDir                       10326               7.0\n",
              "WindGustSpeed                     10263               7.0\n",
              "WindDir9am                        10566               7.0\n",
              "WindDir3pm                         4228               3.0\n",
              "WindSpeed9am                       1767               1.0\n",
              "WindSpeed3pm                       3062               2.0\n",
              "Humidity9am                        2654               2.0\n",
              "Humidity3pm                        4507               3.0\n",
              "Pressure9am                       15065              10.0\n",
              "Pressure3pm                       15028              10.0\n",
              "Cloud9am                          55888              38.0\n",
              "Cloud3pm                          59358              41.0\n",
              "Temp9am                            1767               1.0\n",
              "Temp3pm                            3609               2.0\n",
              "RainToday                          3261               2.0\n",
              "RainTomorrow                       3267               2.0\n",
              "Year                                  0               0.0\n",
              "season                                0               0.0"
            ]
          },
          "execution_count": 33,
          "metadata": {},
          "output_type": "execute_result"
        }
      ],
      "source": [
        "missing = pd.DataFrame(new_data.isnull().sum(),columns = ['Number of missing values'])\n",
        "\n",
        "missing['% missing_values']= (missing/len(new_data)).round(2)*100\n",
        "missing"
      ]
    },
    {
      "cell_type": "markdown",
      "metadata": {
        "id": "RuxzA93MgEc6"
      },
      "source": [
        "kolom sunshine, evaporation cloud3pm, dan cloud9am memiliki jumah missing value yang terlampau banyak atau kurang lebih 50 persen baris kolom tersebut dari total keseluruhan data adalah missing value. missing value dari kolom tersebut tidak dapat dilacak penyebabnya sehingga sangta tidak mungkin untuk diimputasi ditambah lagi jumlah missinya valuenya hampir 50 persen dari data, maka untuk kolom ini akan dilakukan drop."
      ]
    },
    {
      "cell_type": "code",
      "execution_count": 34,
      "metadata": {
        "id": "gV1QWW_bhYay"
      },
      "outputs": [],
      "source": [
        "new_data = new_data.drop(['Sunshine','Evaporation','Cloud3pm','Cloud9am'], axis=1)"
      ]
    },
    {
      "cell_type": "markdown",
      "metadata": {
        "id": "oDizcxUZu-sT"
      },
      "source": [
        "**drop salah satu dari dua kolom dengan korelasi tinggi**"
      ]
    },
    {
      "cell_type": "code",
      "execution_count": 35,
      "metadata": {
        "id": "Za6ru9I80S-b"
      },
      "outputs": [],
      "source": [
        "new_data = new_data.drop(['Temp9am','Temp3pm','Pressure9am'], axis=1)"
      ]
    },
    {
      "cell_type": "markdown",
      "metadata": {
        "id": "uuq7BiWb2G_0"
      },
      "source": [
        "**Drop kolom waktu date dan year**"
      ]
    },
    {
      "cell_type": "code",
      "execution_count": 36,
      "metadata": {
        "id": "UTnwaOqu2Bdr"
      },
      "outputs": [],
      "source": [
        "new_data = new_data.drop(['Date','Year'], axis=1)"
      ]
    },
    {
      "cell_type": "code",
      "execution_count": 37,
      "metadata": {
        "colab": {
          "base_uri": "https://localhost:8080/"
        },
        "id": "J5xQskePEC39",
        "outputId": "8a11e531-8436-4e9b-8f90-ef33f4e4f8d5"
      },
      "outputs": [
        {
          "data": {
            "text/html": [
              "<div>\n",
              "<style scoped>\n",
              "    .dataframe tbody tr th:only-of-type {\n",
              "        vertical-align: middle;\n",
              "    }\n",
              "\n",
              "    .dataframe tbody tr th {\n",
              "        vertical-align: top;\n",
              "    }\n",
              "\n",
              "    .dataframe thead th {\n",
              "        text-align: right;\n",
              "    }\n",
              "</style>\n",
              "<table border=\"1\" class=\"dataframe\">\n",
              "  <thead>\n",
              "    <tr style=\"text-align: right;\">\n",
              "      <th></th>\n",
              "      <th>Location</th>\n",
              "      <th>MinTemp</th>\n",
              "      <th>MaxTemp</th>\n",
              "      <th>Rainfall</th>\n",
              "      <th>WindGustDir</th>\n",
              "      <th>WindGustSpeed</th>\n",
              "      <th>WindDir9am</th>\n",
              "      <th>WindDir3pm</th>\n",
              "      <th>WindSpeed9am</th>\n",
              "      <th>WindSpeed3pm</th>\n",
              "      <th>Humidity9am</th>\n",
              "      <th>Humidity3pm</th>\n",
              "      <th>Pressure3pm</th>\n",
              "      <th>RainToday</th>\n",
              "      <th>RainTomorrow</th>\n",
              "      <th>season</th>\n",
              "    </tr>\n",
              "  </thead>\n",
              "  <tbody>\n",
              "    <tr>\n",
              "      <th>0</th>\n",
              "      <td>Albury</td>\n",
              "      <td>13.4</td>\n",
              "      <td>22.9</td>\n",
              "      <td>0.6</td>\n",
              "      <td>W</td>\n",
              "      <td>44.0</td>\n",
              "      <td>W</td>\n",
              "      <td>WNW</td>\n",
              "      <td>20.0</td>\n",
              "      <td>24.0</td>\n",
              "      <td>71.0</td>\n",
              "      <td>22.0</td>\n",
              "      <td>1007.1</td>\n",
              "      <td>No</td>\n",
              "      <td>No</td>\n",
              "      <td>summer</td>\n",
              "    </tr>\n",
              "    <tr>\n",
              "      <th>1</th>\n",
              "      <td>Albury</td>\n",
              "      <td>7.4</td>\n",
              "      <td>25.1</td>\n",
              "      <td>0.0</td>\n",
              "      <td>WNW</td>\n",
              "      <td>44.0</td>\n",
              "      <td>NNW</td>\n",
              "      <td>WSW</td>\n",
              "      <td>4.0</td>\n",
              "      <td>22.0</td>\n",
              "      <td>44.0</td>\n",
              "      <td>25.0</td>\n",
              "      <td>1007.8</td>\n",
              "      <td>No</td>\n",
              "      <td>No</td>\n",
              "      <td>summer</td>\n",
              "    </tr>\n",
              "    <tr>\n",
              "      <th>2</th>\n",
              "      <td>Albury</td>\n",
              "      <td>12.9</td>\n",
              "      <td>25.7</td>\n",
              "      <td>0.0</td>\n",
              "      <td>WSW</td>\n",
              "      <td>46.0</td>\n",
              "      <td>W</td>\n",
              "      <td>WSW</td>\n",
              "      <td>19.0</td>\n",
              "      <td>26.0</td>\n",
              "      <td>38.0</td>\n",
              "      <td>30.0</td>\n",
              "      <td>1008.7</td>\n",
              "      <td>No</td>\n",
              "      <td>No</td>\n",
              "      <td>summer</td>\n",
              "    </tr>\n",
              "    <tr>\n",
              "      <th>3</th>\n",
              "      <td>Albury</td>\n",
              "      <td>9.2</td>\n",
              "      <td>28.0</td>\n",
              "      <td>0.0</td>\n",
              "      <td>NE</td>\n",
              "      <td>24.0</td>\n",
              "      <td>SE</td>\n",
              "      <td>E</td>\n",
              "      <td>11.0</td>\n",
              "      <td>9.0</td>\n",
              "      <td>45.0</td>\n",
              "      <td>16.0</td>\n",
              "      <td>1012.8</td>\n",
              "      <td>No</td>\n",
              "      <td>No</td>\n",
              "      <td>summer</td>\n",
              "    </tr>\n",
              "    <tr>\n",
              "      <th>4</th>\n",
              "      <td>Albury</td>\n",
              "      <td>17.5</td>\n",
              "      <td>32.3</td>\n",
              "      <td>1.0</td>\n",
              "      <td>W</td>\n",
              "      <td>41.0</td>\n",
              "      <td>ENE</td>\n",
              "      <td>NW</td>\n",
              "      <td>7.0</td>\n",
              "      <td>20.0</td>\n",
              "      <td>82.0</td>\n",
              "      <td>33.0</td>\n",
              "      <td>1006.0</td>\n",
              "      <td>No</td>\n",
              "      <td>No</td>\n",
              "      <td>summer</td>\n",
              "    </tr>\n",
              "  </tbody>\n",
              "</table>\n",
              "</div>"
            ],
            "text/plain": [
              "  Location  MinTemp  MaxTemp  Rainfall WindGustDir  WindGustSpeed WindDir9am  \\\n",
              "0   Albury     13.4     22.9       0.6           W           44.0          W   \n",
              "1   Albury      7.4     25.1       0.0         WNW           44.0        NNW   \n",
              "2   Albury     12.9     25.7       0.0         WSW           46.0          W   \n",
              "3   Albury      9.2     28.0       0.0          NE           24.0         SE   \n",
              "4   Albury     17.5     32.3       1.0           W           41.0        ENE   \n",
              "\n",
              "  WindDir3pm  WindSpeed9am  WindSpeed3pm  Humidity9am  Humidity3pm  \\\n",
              "0        WNW          20.0          24.0         71.0         22.0   \n",
              "1        WSW           4.0          22.0         44.0         25.0   \n",
              "2        WSW          19.0          26.0         38.0         30.0   \n",
              "3          E          11.0           9.0         45.0         16.0   \n",
              "4         NW           7.0          20.0         82.0         33.0   \n",
              "\n",
              "   Pressure3pm RainToday RainTomorrow  season  \n",
              "0       1007.1        No           No  summer  \n",
              "1       1007.8        No           No  summer  \n",
              "2       1008.7        No           No  summer  \n",
              "3       1012.8        No           No  summer  \n",
              "4       1006.0        No           No  summer  "
            ]
          },
          "execution_count": 37,
          "metadata": {},
          "output_type": "execute_result"
        }
      ],
      "source": [
        "new_data.head()"
      ]
    },
    {
      "cell_type": "code",
      "execution_count": 38,
      "metadata": {
        "id": "0BiSzU7zF7p8"
      },
      "outputs": [],
      "source": [
        "# drop nilai nan dari kolom target\n",
        "new_data.dropna(how='all', subset=['RainTomorrow'], inplace=True) "
      ]
    },
    {
      "cell_type": "markdown",
      "metadata": {
        "id": "MU9ubgRY6JUC"
      },
      "source": [
        "**mengurangi cardinality yang tinggi**"
      ]
    },
    {
      "cell_type": "markdown",
      "metadata": {},
      "source": [
        "**a. Kardinality reduction untuk kolom location**"
      ]
    },
    {
      "cell_type": "code",
      "execution_count": 39,
      "metadata": {
        "id": "DFWPbH2o6MoY"
      },
      "outputs": [],
      "source": [
        "def position(df):\n",
        "  city_list = list(data.Location.unique())\n",
        "  cit_pos = [['Darwin','Katherine'], ['SalmonGums', 'Albany', 'Walpole', 'Witchcliffe', 'PearceRAAF', 'Perth'], \n",
        "            ['Cairns', 'Townsville'], ['Uluru', 'AliceSprings'], ['NorfolkIsland']]\n",
        "  misc = [e for e in city_list if e not in ('Darwin', 'Katherine','SalmonGums', 'Albany', 'Walpole', 'Witchcliffe', \n",
        "                                      'PearceRAAF', 'Perth', 'Cairns', 'Townsville', 'Uluru', 'AliceSprings',\n",
        "                                      'NorfolkIsland')]\n",
        "  cit_cat = ['top', 'left', 'right', 'mid', 'out', 'bot']\n",
        "  cit_pos.append(misc)\n",
        "\n",
        "  df2 = df\n",
        "  df2['position'] = df2['Location']\n",
        "  for i in range(len(cit_cat)):\n",
        "    df2 = df2.replace({'position': cit_pos[i]}, cit_cat[i])\n",
        "  return df2"
      ]
    },
    {
      "cell_type": "code",
      "execution_count": 40,
      "metadata": {
        "id": "S_dHUzzORb_W"
      },
      "outputs": [],
      "source": [
        "new_data = position(new_data)"
      ]
    },
    {
      "cell_type": "code",
      "execution_count": 41,
      "metadata": {
        "id": "EEsZVNX87b5y"
      },
      "outputs": [],
      "source": [
        "new_data = new_data.drop('Location', axis=1)"
      ]
    },
    {
      "cell_type": "code",
      "execution_count": 42,
      "metadata": {
        "colab": {
          "base_uri": "https://localhost:8080/"
        },
        "id": "QTusZA2d7WsZ",
        "outputId": "2c2fce6a-a2d5-433a-b9a5-e6c5eb93b151"
      },
      "outputs": [
        {
          "data": {
            "text/html": [
              "<div>\n",
              "<style scoped>\n",
              "    .dataframe tbody tr th:only-of-type {\n",
              "        vertical-align: middle;\n",
              "    }\n",
              "\n",
              "    .dataframe tbody tr th {\n",
              "        vertical-align: top;\n",
              "    }\n",
              "\n",
              "    .dataframe thead th {\n",
              "        text-align: right;\n",
              "    }\n",
              "</style>\n",
              "<table border=\"1\" class=\"dataframe\">\n",
              "  <thead>\n",
              "    <tr style=\"text-align: right;\">\n",
              "      <th></th>\n",
              "      <th>MinTemp</th>\n",
              "      <th>MaxTemp</th>\n",
              "      <th>Rainfall</th>\n",
              "      <th>WindGustDir</th>\n",
              "      <th>WindGustSpeed</th>\n",
              "      <th>WindDir9am</th>\n",
              "      <th>WindDir3pm</th>\n",
              "      <th>WindSpeed9am</th>\n",
              "      <th>WindSpeed3pm</th>\n",
              "      <th>Humidity9am</th>\n",
              "      <th>Humidity3pm</th>\n",
              "      <th>Pressure3pm</th>\n",
              "      <th>RainToday</th>\n",
              "      <th>RainTomorrow</th>\n",
              "      <th>season</th>\n",
              "      <th>position</th>\n",
              "    </tr>\n",
              "  </thead>\n",
              "  <tbody>\n",
              "    <tr>\n",
              "      <th>15084</th>\n",
              "      <td>15.6</td>\n",
              "      <td>29.4</td>\n",
              "      <td>0.0</td>\n",
              "      <td>NaN</td>\n",
              "      <td>NaN</td>\n",
              "      <td>NE</td>\n",
              "      <td>NW</td>\n",
              "      <td>4.0</td>\n",
              "      <td>19.0</td>\n",
              "      <td>78.0</td>\n",
              "      <td>53.0</td>\n",
              "      <td>NaN</td>\n",
              "      <td>No</td>\n",
              "      <td>No</td>\n",
              "      <td>summer</td>\n",
              "      <td>bot</td>\n",
              "    </tr>\n",
              "    <tr>\n",
              "      <th>63487</th>\n",
              "      <td>5.0</td>\n",
              "      <td>15.3</td>\n",
              "      <td>0.2</td>\n",
              "      <td>E</td>\n",
              "      <td>26.0</td>\n",
              "      <td>NW</td>\n",
              "      <td>E</td>\n",
              "      <td>9.0</td>\n",
              "      <td>13.0</td>\n",
              "      <td>92.0</td>\n",
              "      <td>72.0</td>\n",
              "      <td>1023.8</td>\n",
              "      <td>No</td>\n",
              "      <td>No</td>\n",
              "      <td>winter</td>\n",
              "      <td>bot</td>\n",
              "    </tr>\n",
              "    <tr>\n",
              "      <th>99063</th>\n",
              "      <td>15.9</td>\n",
              "      <td>23.8</td>\n",
              "      <td>0.0</td>\n",
              "      <td>WSW</td>\n",
              "      <td>33.0</td>\n",
              "      <td>S</td>\n",
              "      <td>WSW</td>\n",
              "      <td>9.0</td>\n",
              "      <td>19.0</td>\n",
              "      <td>69.0</td>\n",
              "      <td>47.0</td>\n",
              "      <td>1021.8</td>\n",
              "      <td>No</td>\n",
              "      <td>No</td>\n",
              "      <td>autumn</td>\n",
              "      <td>bot</td>\n",
              "    </tr>\n",
              "    <tr>\n",
              "      <th>3767</th>\n",
              "      <td>13.3</td>\n",
              "      <td>29.4</td>\n",
              "      <td>0.2</td>\n",
              "      <td>ENE</td>\n",
              "      <td>30.0</td>\n",
              "      <td>N</td>\n",
              "      <td>N</td>\n",
              "      <td>9.0</td>\n",
              "      <td>11.0</td>\n",
              "      <td>72.0</td>\n",
              "      <td>53.0</td>\n",
              "      <td>1014.0</td>\n",
              "      <td>No</td>\n",
              "      <td>No</td>\n",
              "      <td>summer</td>\n",
              "      <td>bot</td>\n",
              "    </tr>\n",
              "    <tr>\n",
              "      <th>49264</th>\n",
              "      <td>-2.1</td>\n",
              "      <td>12.8</td>\n",
              "      <td>0.2</td>\n",
              "      <td>W</td>\n",
              "      <td>35.0</td>\n",
              "      <td>NaN</td>\n",
              "      <td>W</td>\n",
              "      <td>0.0</td>\n",
              "      <td>15.0</td>\n",
              "      <td>99.0</td>\n",
              "      <td>53.0</td>\n",
              "      <td>1020.8</td>\n",
              "      <td>No</td>\n",
              "      <td>No</td>\n",
              "      <td>winter</td>\n",
              "      <td>bot</td>\n",
              "    </tr>\n",
              "  </tbody>\n",
              "</table>\n",
              "</div>"
            ],
            "text/plain": [
              "       MinTemp  MaxTemp  Rainfall WindGustDir  WindGustSpeed WindDir9am  \\\n",
              "15084     15.6     29.4       0.0         NaN            NaN         NE   \n",
              "63487      5.0     15.3       0.2           E           26.0         NW   \n",
              "99063     15.9     23.8       0.0         WSW           33.0          S   \n",
              "3767      13.3     29.4       0.2         ENE           30.0          N   \n",
              "49264     -2.1     12.8       0.2           W           35.0        NaN   \n",
              "\n",
              "      WindDir3pm  WindSpeed9am  WindSpeed3pm  Humidity9am  Humidity3pm  \\\n",
              "15084         NW           4.0          19.0         78.0         53.0   \n",
              "63487          E           9.0          13.0         92.0         72.0   \n",
              "99063        WSW           9.0          19.0         69.0         47.0   \n",
              "3767           N           9.0          11.0         72.0         53.0   \n",
              "49264          W           0.0          15.0         99.0         53.0   \n",
              "\n",
              "       Pressure3pm RainToday RainTomorrow  season position  \n",
              "15084          NaN        No           No  summer      bot  \n",
              "63487       1023.8        No           No  winter      bot  \n",
              "99063       1021.8        No           No  autumn      bot  \n",
              "3767        1014.0        No           No  summer      bot  \n",
              "49264       1020.8        No           No  winter      bot  "
            ]
          },
          "execution_count": 42,
          "metadata": {},
          "output_type": "execute_result"
        }
      ],
      "source": [
        "new_data.sample(5)"
      ]
    },
    {
      "cell_type": "markdown",
      "metadata": {},
      "source": [
        "**b. Kardinality reduction untuk arah mata angin**"
      ]
    },
    {
      "cell_type": "code",
      "execution_count": 43,
      "metadata": {
        "id": "k28PX_dh9qQY"
      },
      "outputs": [],
      "source": [
        "def direction_change(df):\n",
        "  dir = [['ENE','E','ESE'], ['SSE','S','SSW'],['WSW','W','WNW'], ['NNW','N','NNE']]\n",
        "  dir2 = ['E', 'S', 'W', 'N']\n",
        "  df2 = df\n",
        "  for i in range(len(dir2)):\n",
        "    df2 = df2.replace({'WindGustDir': dir[i]}, dir2[i])\n",
        "    df2 = df2.replace({'WindDir9am': dir[i]}, dir2[i])\n",
        "    df2 = df2.replace({'WindDir3pm': dir[i]}, dir2[i])\n",
        "  \n",
        "  return df2"
      ]
    },
    {
      "cell_type": "code",
      "execution_count": 44,
      "metadata": {
        "id": "jw6xJhG9SINd"
      },
      "outputs": [],
      "source": [
        "new_data = direction_change(new_data)"
      ]
    },
    {
      "cell_type": "code",
      "execution_count": 45,
      "metadata": {
        "colab": {
          "base_uri": "https://localhost:8080/"
        },
        "id": "194oQA9Q_eUo",
        "outputId": "d258ca10-5cfa-49be-dae8-b0bd48d667f0"
      },
      "outputs": [
        {
          "data": {
            "text/html": [
              "<div>\n",
              "<style scoped>\n",
              "    .dataframe tbody tr th:only-of-type {\n",
              "        vertical-align: middle;\n",
              "    }\n",
              "\n",
              "    .dataframe tbody tr th {\n",
              "        vertical-align: top;\n",
              "    }\n",
              "\n",
              "    .dataframe thead th {\n",
              "        text-align: right;\n",
              "    }\n",
              "</style>\n",
              "<table border=\"1\" class=\"dataframe\">\n",
              "  <thead>\n",
              "    <tr style=\"text-align: right;\">\n",
              "      <th></th>\n",
              "      <th>MinTemp</th>\n",
              "      <th>MaxTemp</th>\n",
              "      <th>Rainfall</th>\n",
              "      <th>WindGustDir</th>\n",
              "      <th>WindGustSpeed</th>\n",
              "      <th>WindDir9am</th>\n",
              "      <th>WindDir3pm</th>\n",
              "      <th>WindSpeed9am</th>\n",
              "      <th>WindSpeed3pm</th>\n",
              "      <th>Humidity9am</th>\n",
              "      <th>Humidity3pm</th>\n",
              "      <th>Pressure3pm</th>\n",
              "      <th>RainToday</th>\n",
              "      <th>RainTomorrow</th>\n",
              "      <th>season</th>\n",
              "      <th>position</th>\n",
              "    </tr>\n",
              "  </thead>\n",
              "  <tbody>\n",
              "    <tr>\n",
              "      <th>76478</th>\n",
              "      <td>10.1</td>\n",
              "      <td>21.6</td>\n",
              "      <td>1.0</td>\n",
              "      <td>N</td>\n",
              "      <td>50.0</td>\n",
              "      <td>NE</td>\n",
              "      <td>N</td>\n",
              "      <td>13.0</td>\n",
              "      <td>17.0</td>\n",
              "      <td>71.0</td>\n",
              "      <td>39.0</td>\n",
              "      <td>1020.8</td>\n",
              "      <td>No</td>\n",
              "      <td>No</td>\n",
              "      <td>autumn</td>\n",
              "      <td>bot</td>\n",
              "    </tr>\n",
              "    <tr>\n",
              "      <th>95133</th>\n",
              "      <td>21.9</td>\n",
              "      <td>29.8</td>\n",
              "      <td>22.8</td>\n",
              "      <td>N</td>\n",
              "      <td>31.0</td>\n",
              "      <td>E</td>\n",
              "      <td>E</td>\n",
              "      <td>11.0</td>\n",
              "      <td>20.0</td>\n",
              "      <td>93.0</td>\n",
              "      <td>81.0</td>\n",
              "      <td>1009.9</td>\n",
              "      <td>Yes</td>\n",
              "      <td>Yes</td>\n",
              "      <td>autumn</td>\n",
              "      <td>right</td>\n",
              "    </tr>\n",
              "    <tr>\n",
              "      <th>32158</th>\n",
              "      <td>15.2</td>\n",
              "      <td>18.9</td>\n",
              "      <td>0.0</td>\n",
              "      <td>W</td>\n",
              "      <td>65.0</td>\n",
              "      <td>W</td>\n",
              "      <td>S</td>\n",
              "      <td>30.0</td>\n",
              "      <td>24.0</td>\n",
              "      <td>41.0</td>\n",
              "      <td>41.0</td>\n",
              "      <td>1014.3</td>\n",
              "      <td>No</td>\n",
              "      <td>Yes</td>\n",
              "      <td>spring</td>\n",
              "      <td>bot</td>\n",
              "    </tr>\n",
              "    <tr>\n",
              "      <th>86425</th>\n",
              "      <td>9.8</td>\n",
              "      <td>24.9</td>\n",
              "      <td>0.0</td>\n",
              "      <td>W</td>\n",
              "      <td>30.0</td>\n",
              "      <td>W</td>\n",
              "      <td>W</td>\n",
              "      <td>6.0</td>\n",
              "      <td>9.0</td>\n",
              "      <td>52.0</td>\n",
              "      <td>36.0</td>\n",
              "      <td>1012.9</td>\n",
              "      <td>No</td>\n",
              "      <td>No</td>\n",
              "      <td>autumn</td>\n",
              "      <td>bot</td>\n",
              "    </tr>\n",
              "    <tr>\n",
              "      <th>11591</th>\n",
              "      <td>20.3</td>\n",
              "      <td>28.7</td>\n",
              "      <td>0.8</td>\n",
              "      <td>NE</td>\n",
              "      <td>31.0</td>\n",
              "      <td>W</td>\n",
              "      <td>E</td>\n",
              "      <td>9.0</td>\n",
              "      <td>20.0</td>\n",
              "      <td>79.0</td>\n",
              "      <td>61.0</td>\n",
              "      <td>1020.5</td>\n",
              "      <td>No</td>\n",
              "      <td>No</td>\n",
              "      <td>autumn</td>\n",
              "      <td>bot</td>\n",
              "    </tr>\n",
              "  </tbody>\n",
              "</table>\n",
              "</div>"
            ],
            "text/plain": [
              "       MinTemp  MaxTemp  Rainfall WindGustDir  WindGustSpeed WindDir9am  \\\n",
              "76478     10.1     21.6       1.0           N           50.0         NE   \n",
              "95133     21.9     29.8      22.8           N           31.0          E   \n",
              "32158     15.2     18.9       0.0           W           65.0          W   \n",
              "86425      9.8     24.9       0.0           W           30.0          W   \n",
              "11591     20.3     28.7       0.8          NE           31.0          W   \n",
              "\n",
              "      WindDir3pm  WindSpeed9am  WindSpeed3pm  Humidity9am  Humidity3pm  \\\n",
              "76478          N          13.0          17.0         71.0         39.0   \n",
              "95133          E          11.0          20.0         93.0         81.0   \n",
              "32158          S          30.0          24.0         41.0         41.0   \n",
              "86425          W           6.0           9.0         52.0         36.0   \n",
              "11591          E           9.0          20.0         79.0         61.0   \n",
              "\n",
              "       Pressure3pm RainToday RainTomorrow  season position  \n",
              "76478       1020.8        No           No  autumn      bot  \n",
              "95133       1009.9       Yes          Yes  autumn    right  \n",
              "32158       1014.3        No          Yes  spring      bot  \n",
              "86425       1012.9        No           No  autumn      bot  \n",
              "11591       1020.5        No           No  autumn      bot  "
            ]
          },
          "execution_count": 45,
          "metadata": {},
          "output_type": "execute_result"
        }
      ],
      "source": [
        "new_data.sample(5)"
      ]
    },
    {
      "cell_type": "markdown",
      "metadata": {
        "id": "9VeZQHU7XDFX"
      },
      "source": [
        "**drop data inference**"
      ]
    },
    {
      "cell_type": "code",
      "execution_count": 46,
      "metadata": {
        "id": "wf6OjHxFXAF1"
      },
      "outputs": [],
      "source": [
        "new_data = new_data.drop(data_inf.index)"
      ]
    },
    {
      "cell_type": "markdown",
      "metadata": {
        "id": "ppuB8jVPChWg"
      },
      "source": [
        "### c. Outliers & misval"
      ]
    },
    {
      "cell_type": "code",
      "execution_count": 47,
      "metadata": {
        "id": "5aG_JxBJhNTM"
      },
      "outputs": [],
      "source": [
        "def iqr(datas, m):\n",
        "  q3 = np.percentile(datas, 75)\n",
        "  q1 = np.percentile(datas, 25)\n",
        "  bb = q1 - (q3-q1)*m #batas bawah\n",
        "  ba = q3 + (q3-q1)*m #batas atas\n",
        "  return bb, ba"
      ]
    },
    {
      "cell_type": "code",
      "execution_count": 48,
      "metadata": {
        "id": "zc22dZLFVuae"
      },
      "outputs": [
        {
          "data": {
            "image/png": "[encoded data removed]",
            "text/plain": [
              "<Figure size 1080x216 with 2 Axes>"
            ]
          },
          "metadata": {
            "needs_background": "light"
          },
          "output_type": "display_data"
        },
        {
          "data": {
            "image/png": "[encoded data removed]",
            "text/plain": [
              "<Figure size 1080x216 with 2 Axes>"
            ]
          },
          "metadata": {
            "needs_background": "light"
          },
          "output_type": "display_data"
        },
        {
          "data": {
            "image/png": "[encoded data removed]",
            "text/plain": [
              "<Figure size 1080x216 with 2 Axes>"
            ]
          },
          "metadata": {
            "needs_background": "light"
          },
          "output_type": "display_data"
        },
        {
          "data": {
            "image/png": "[encoded data removed]",
            "text/plain": [
              "<Figure size 1080x216 with 2 Axes>"
            ]
          },
          "metadata": {
            "needs_background": "light"
          },
          "output_type": "display_data"
        },
        {
          "data": {
            "image/png": "[encoded data removed]",
            "text/plain": [
              "<Figure size 1080x216 with 2 Axes>"
            ]
          },
          "metadata": {
            "needs_background": "light"
          },
          "output_type": "display_data"
        },
        {
          "data": {
            "image/png": "[encoded data removed]",
            "text/plain": [
              "<Figure size 1080x216 with 2 Axes>"
            ]
          },
          "metadata": {
            "needs_background": "light"
          },
          "output_type": "display_data"
        },
        {
          "data": {
            "image/png": "[encoded data removed]",
            "text/plain": [
              "<Figure size 1080x216 with 2 Axes>"
            ]
          },
          "metadata": {
            "needs_background": "light"
          },
          "output_type": "display_data"
        },
        {
          "data": {
            "image/png": "[encoded data removed]",
            "text/plain": [
              "<Figure size 1080x216 with 2 Axes>"
            ]
          },
          "metadata": {
            "needs_background": "light"
          },
          "output_type": "display_data"
        },
        {
          "data": {
            "image/png": "[encoded data removed]",
            "text/plain": [
              "<Figure size 1080x216 with 2 Axes>"
            ]
          },
          "metadata": {
            "needs_background": "light"
          },
          "output_type": "display_data"
        }
      ],
      "source": [
        "cols = ['MinTemp','MaxTemp','Rainfall','WindGustSpeed','WindSpeed9am','WindSpeed3pm','Humidity9am','Humidity3pm','Pressure3pm']\n",
        "for i in cols:\n",
        "  fig, axs = plt.subplots(1,2,figsize=(15, 3))\n",
        "  sns.histplot(new_data[i],bins=20, kde=True,ax=axs[0]);\n",
        "  sns.boxplot(new_data[i], ax = axs[1], color='#99befd', fliersize=1);"
      ]
    },
    {
      "cell_type": "code",
      "execution_count": 49,
      "metadata": {
        "id": "_hplAJUK8vbV"
      },
      "outputs": [],
      "source": [
        "new_data=new_data.drop(['Rainfall'], axis=1)"
      ]
    },
    {
      "cell_type": "code",
      "execution_count": 50,
      "metadata": {
        "id": "zbpG6rTSiMEv"
      },
      "outputs": [],
      "source": [
        "#mendefinisikan kolom mana yg numerik dan kolom mana yang kategorikal\n",
        "num_values = new_data.select_dtypes(include=np.number).columns.to_list()\n",
        "cat_values = new_data.select_dtypes(object).columns.to_list()"
      ]
    },
    {
      "cell_type": "code",
      "execution_count": 51,
      "metadata": {
        "colab": {
          "base_uri": "https://localhost:8080/"
        },
        "id": "lkStOvSEhSc4",
        "outputId": "f787ff4b-a042-473f-af13-f237b5222783"
      },
      "outputs": [
        {
          "data": {
            "text/plain": [
              "((145460, 25), (142173, 15))"
            ]
          },
          "execution_count": 51,
          "metadata": {},
          "output_type": "execute_result"
        }
      ],
      "source": [
        "data.shape, new_data.shape"
      ]
    },
    {
      "cell_type": "markdown",
      "metadata": {},
      "source": [
        "kolom yang semulanya 25 sejauh ini sudah dapat direduksi hingga tersisa 15"
      ]
    },
    {
      "cell_type": "markdown",
      "metadata": {
        "id": "0-AIeWujiyby"
      },
      "source": [
        "**Outlier kolom MinTemp dan MaxTemp**"
      ]
    },
    {
      "cell_type": "markdown",
      "metadata": {
        "id": "dxxTtZ98lGCn"
      },
      "source": [
        "suhu suhu yang ekstrim seperti terlalu panas atau terlalu dingin pada kasus ini menimbulkan outliers pada data. oleh sebab itu, outliers ini akan dilakukan capping, penulis tidak mengambil resiko melakukan trimming sebab penulis menduga anomali faktor alam seperti ini lumrah terjadi dan termasuk informasi penting. bisa jadi suhu ekstrim mengandung informasi penting terkait apakah hujan atau tidak"
      ]
    },
    {
      "cell_type": "code",
      "execution_count": 52,
      "metadata": {
        "id": "ahc3MqbwpMvU"
      },
      "outputs": [],
      "source": [
        "# Impute missing\n",
        "mean_values = new_data[['MinTemp','MaxTemp']].mean()\n",
        "new_data[['MinTemp','MaxTemp']] = new_data[['MinTemp','MaxTemp']].fillna(value=mean_values)"
      ]
    },
    {
      "cell_type": "code",
      "execution_count": 53,
      "metadata": {
        "id": "i9ak0Bb9ixos"
      },
      "outputs": [],
      "source": [
        "# Outlier MinTemp\n",
        "bb, ba =iqr(new_data.MinTemp, 1.5)\n",
        "bb, ba\n",
        "\n",
        "#Capping\n",
        "new_data['MinTemp'] = np.where(new_data['MinTemp']>ba, ba, \n",
        "         np.where(new_data['MinTemp']<bb, bb, new_data['MinTemp']))"
      ]
    },
    {
      "cell_type": "code",
      "execution_count": 54,
      "metadata": {
        "id": "7ncU4e8Fr9lz"
      },
      "outputs": [],
      "source": [
        "# Outlier MaxTemp\n",
        "bb, ba =iqr(new_data.MaxTemp, 1.5)\n",
        "bb, ba\n",
        "\n",
        "#Capping\n",
        "new_data['MaxTemp'] = np.where(new_data['MaxTemp']>ba, ba, \n",
        "         np.where(new_data['MaxTemp']<bb, bb, new_data['MaxTemp']))"
      ]
    },
    {
      "cell_type": "markdown",
      "metadata": {
        "id": "sYGOil6Vs4ij"
      },
      "source": [
        "**Outlier kolom feature wind**"
      ]
    },
    {
      "cell_type": "markdown",
      "metadata": {
        "id": "e8kTkwSzxoOs"
      },
      "source": [
        "kecepatan angin yang ekstrim pada kasus ini menimbulkan outliers pada data. oleh sebab itu, outliers ini juga akan dilakukan capping"
      ]
    },
    {
      "cell_type": "code",
      "execution_count": 55,
      "metadata": {
        "id": "1CUTgBRRyXlU"
      },
      "outputs": [],
      "source": [
        "# Impute missing\n",
        "median_values = new_data[['WindGustSpeed','WindSpeed9am','WindSpeed3pm']].median()\n",
        "new_data[['WindGustSpeed','WindSpeed9am','WindSpeed3pm']] = new_data[['WindGustSpeed','WindSpeed9am','WindSpeed3pm']].fillna(value=median_values)"
      ]
    },
    {
      "cell_type": "code",
      "execution_count": 56,
      "metadata": {
        "colab": {
          "base_uri": "https://localhost:8080/"
        },
        "id": "lzy90PGfy4VO",
        "outputId": "460666d8-a400-4bb1-9abe-e0643f95d8be"
      },
      "outputs": [
        {
          "name": "stdout",
          "output_type": "stream",
          "text": [
            "8.5 68.5\n"
          ]
        }
      ],
      "source": [
        "# Outlier WindGustSpeed\n",
        "bb, ba =iqr(new_data.WindGustSpeed, 1.5)\n",
        "print(bb, ba)\n",
        "\n",
        "#Capping\n",
        "new_data['WindGustSpeed'] = np.where(new_data['WindGustSpeed']>ba, ba, \n",
        "         np.where(new_data['WindGustSpeed']<bb, bb, new_data['WindGustSpeed']))"
      ]
    },
    {
      "cell_type": "code",
      "execution_count": 57,
      "metadata": {
        "colab": {
          "base_uri": "https://localhost:8080/"
        },
        "id": "BRW9naPrzOvA",
        "outputId": "4baf5db0-f091-4e04-9ec7-349603e725b4"
      },
      "outputs": [
        {
          "name": "stdout",
          "output_type": "stream",
          "text": [
            "-11.0 37.0\n"
          ]
        }
      ],
      "source": [
        "# Outlier WindSpeed9am\n",
        "bb, ba =iqr(new_data.WindSpeed9am, 1.5)\n",
        "print(bb, ba)\n",
        "\n",
        "#Capping\n",
        "new_data['WindSpeed9am'] = np.where(new_data['WindSpeed9am']>ba, ba, \n",
        "         np.where(new_data['WindSpeed9am']<bb, bb, new_data['WindSpeed9am']))"
      ]
    },
    {
      "cell_type": "code",
      "execution_count": 58,
      "metadata": {
        "colab": {
          "base_uri": "https://localhost:8080/"
        },
        "id": "ABNxGJr0zvCa",
        "outputId": "6169e454-9af4-4201-ba35-4fd5a54bd3e9"
      },
      "outputs": [
        {
          "name": "stdout",
          "output_type": "stream",
          "text": [
            "-3.5 40.5\n"
          ]
        }
      ],
      "source": [
        "# Outlier WindSpeed3pm\n",
        "bb, ba =iqr(new_data.WindSpeed3pm, 1.5)\n",
        "print(bb, ba)\n",
        "\n",
        "#Capping\n",
        "new_data['WindSpeed3pm'] = np.where(new_data['WindSpeed3pm']>ba, ba, \n",
        "         np.where(new_data['WindSpeed3pm']<bb, bb, new_data['WindSpeed3pm']))"
      ]
    },
    {
      "cell_type": "markdown",
      "metadata": {
        "id": "HzmX7eQw3R9Z"
      },
      "source": [
        "**Outlier kolom pressure**"
      ]
    },
    {
      "cell_type": "code",
      "execution_count": 59,
      "metadata": {
        "id": "OrJDfo2O1yIj"
      },
      "outputs": [],
      "source": [
        "# Impute missing\n",
        "median_values = new_data['Pressure3pm'].mean()\n",
        "new_data['Pressure3pm'] = new_data['Pressure3pm'].fillna(value=median_values)"
      ]
    },
    {
      "cell_type": "code",
      "execution_count": 60,
      "metadata": {
        "colab": {
          "base_uri": "https://localhost:8080/"
        },
        "id": "aPNqtU1Z6TMb",
        "outputId": "889e295a-8e9c-48ee-c343-1e51ee87edb9"
      },
      "outputs": [
        {
          "name": "stdout",
          "output_type": "stream",
          "text": [
            "998.4000000000001 1032.0\n"
          ]
        }
      ],
      "source": [
        "# Outlier Pressure3pm\n",
        "bb, ba =iqr(new_data.Pressure3pm, 1.5)\n",
        "print(bb, ba)\n",
        "\n",
        "#Capping\n",
        "new_data['Pressure3pm'] = np.where(new_data['Pressure3pm']>ba, ba, \n",
        "         np.where(new_data['Pressure3pm']<bb, bb, new_data['Pressure3pm']))"
      ]
    },
    {
      "cell_type": "markdown",
      "metadata": {
        "id": "HFOkZ7kr6ota"
      },
      "source": [
        "**Outlier kolom humidity**"
      ]
    },
    {
      "cell_type": "code",
      "execution_count": 61,
      "metadata": {
        "id": "l8S6fQsS6v5S"
      },
      "outputs": [],
      "source": [
        "# Impute missing\n",
        "median_values = new_data[['Humidity9am', 'Humidity3pm']].mean()\n",
        "new_data[['Humidity9am', 'Humidity3pm']] = new_data[['Humidity9am', 'Humidity3pm']].fillna(value=median_values)"
      ]
    },
    {
      "cell_type": "code",
      "execution_count": 62,
      "metadata": {
        "colab": {
          "base_uri": "https://localhost:8080/"
        },
        "id": "yhdPreJ68bnZ",
        "outputId": "72e23fdb-15fb-418c-a510-9aba4e1a8995"
      },
      "outputs": [
        {
          "name": "stdout",
          "output_type": "stream",
          "text": [
            "18.0 122.0\n"
          ]
        }
      ],
      "source": [
        "# Outlier Humidity9am\n",
        "bb, ba =iqr(new_data.Humidity9am, 1.5)\n",
        "print(bb, ba)\n",
        "\n",
        "#Capping\n",
        "new_data['Humidity9am'] = np.where(new_data['Humidity9am']>ba, ba, \n",
        "         np.where(new_data['Humidity9am']<bb, bb, new_data['Humidity9am']))"
      ]
    },
    {
      "cell_type": "code",
      "execution_count": 63,
      "metadata": {
        "colab": {
          "base_uri": "https://localhost:8080/"
        },
        "id": "f8UpIKmm8i2A",
        "outputId": "b4996859-3bec-4e15-bc48-380d8c04764d"
      },
      "outputs": [
        {
          "data": {
            "text/plain": [
              "MinTemp              0\n",
              "MaxTemp              0\n",
              "WindGustDir       9330\n",
              "WindGustSpeed        0\n",
              "WindDir9am       10013\n",
              "WindDir3pm        3778\n",
              "WindSpeed9am         0\n",
              "WindSpeed3pm         0\n",
              "Humidity9am          0\n",
              "Humidity3pm          0\n",
              "Pressure3pm          0\n",
              "RainToday         1406\n",
              "RainTomorrow         0\n",
              "season               0\n",
              "position             0\n",
              "dtype: int64"
            ]
          },
          "execution_count": 63,
          "metadata": {},
          "output_type": "execute_result"
        }
      ],
      "source": [
        "new_data.isnull().sum()"
      ]
    },
    {
      "cell_type": "markdown",
      "metadata": {
        "id": "l22G0J6MB-1c"
      },
      "source": [
        "### d. Data Splitting and transfomation"
      ]
    },
    {
      "cell_type": "markdown",
      "metadata": {
        "id": "TtF0RSBiaa_A"
      },
      "source": [
        "**Data Splitting**"
      ]
    },
    {
      "cell_type": "code",
      "execution_count": 64,
      "metadata": {
        "id": "6zN3OZ1g9Xyk"
      },
      "outputs": [],
      "source": [
        "X=new_data.drop(columns=['RainTomorrow'])\n",
        "y=new_data['RainTomorrow']"
      ]
    },
    {
      "cell_type": "code",
      "execution_count": 65,
      "metadata": {
        "colab": {
          "base_uri": "https://localhost:8080/"
        },
        "id": "gYfrJu2S7Gqi",
        "outputId": "007bca28-e061-4bc6-be31-7edf9f6fd1de"
      },
      "outputs": [
        {
          "data": {
            "text/html": [
              "<div>\n",
              "<style scoped>\n",
              "    .dataframe tbody tr th:only-of-type {\n",
              "        vertical-align: middle;\n",
              "    }\n",
              "\n",
              "    .dataframe tbody tr th {\n",
              "        vertical-align: top;\n",
              "    }\n",
              "\n",
              "    .dataframe thead th {\n",
              "        text-align: right;\n",
              "    }\n",
              "</style>\n",
              "<table border=\"1\" class=\"dataframe\">\n",
              "  <thead>\n",
              "    <tr style=\"text-align: right;\">\n",
              "      <th></th>\n",
              "      <th>MinTemp</th>\n",
              "      <th>MaxTemp</th>\n",
              "      <th>WindGustDir</th>\n",
              "      <th>WindGustSpeed</th>\n",
              "      <th>WindDir9am</th>\n",
              "      <th>WindDir3pm</th>\n",
              "      <th>WindSpeed9am</th>\n",
              "      <th>WindSpeed3pm</th>\n",
              "      <th>Humidity9am</th>\n",
              "      <th>Humidity3pm</th>\n",
              "      <th>Pressure3pm</th>\n",
              "      <th>RainToday</th>\n",
              "      <th>season</th>\n",
              "      <th>position</th>\n",
              "    </tr>\n",
              "  </thead>\n",
              "  <tbody>\n",
              "    <tr>\n",
              "      <th>65576</th>\n",
              "      <td>7.9</td>\n",
              "      <td>17.4</td>\n",
              "      <td>S</td>\n",
              "      <td>46.0</td>\n",
              "      <td>S</td>\n",
              "      <td>S</td>\n",
              "      <td>24.0</td>\n",
              "      <td>28.0</td>\n",
              "      <td>53.0</td>\n",
              "      <td>47.0</td>\n",
              "      <td>1016.100000</td>\n",
              "      <td>No</td>\n",
              "      <td>spring</td>\n",
              "      <td>bot</td>\n",
              "    </tr>\n",
              "    <tr>\n",
              "      <th>122486</th>\n",
              "      <td>9.9</td>\n",
              "      <td>19.6</td>\n",
              "      <td>S</td>\n",
              "      <td>37.0</td>\n",
              "      <td>S</td>\n",
              "      <td>S</td>\n",
              "      <td>11.0</td>\n",
              "      <td>19.0</td>\n",
              "      <td>77.0</td>\n",
              "      <td>54.0</td>\n",
              "      <td>1018.000000</td>\n",
              "      <td>Yes</td>\n",
              "      <td>spring</td>\n",
              "      <td>left</td>\n",
              "    </tr>\n",
              "    <tr>\n",
              "      <th>90045</th>\n",
              "      <td>23.0</td>\n",
              "      <td>29.0</td>\n",
              "      <td>S</td>\n",
              "      <td>37.0</td>\n",
              "      <td>S</td>\n",
              "      <td>S</td>\n",
              "      <td>19.0</td>\n",
              "      <td>15.0</td>\n",
              "      <td>82.0</td>\n",
              "      <td>70.0</td>\n",
              "      <td>1011.100000</td>\n",
              "      <td>Yes</td>\n",
              "      <td>summer</td>\n",
              "      <td>right</td>\n",
              "    </tr>\n",
              "    <tr>\n",
              "      <th>121267</th>\n",
              "      <td>21.1</td>\n",
              "      <td>32.9</td>\n",
              "      <td>N</td>\n",
              "      <td>68.5</td>\n",
              "      <td>E</td>\n",
              "      <td>E</td>\n",
              "      <td>9.0</td>\n",
              "      <td>4.0</td>\n",
              "      <td>69.0</td>\n",
              "      <td>42.0</td>\n",
              "      <td>1010.200000</td>\n",
              "      <td>No</td>\n",
              "      <td>autumn</td>\n",
              "      <td>left</td>\n",
              "    </tr>\n",
              "    <tr>\n",
              "      <th>27079</th>\n",
              "      <td>22.3</td>\n",
              "      <td>23.7</td>\n",
              "      <td>S</td>\n",
              "      <td>35.0</td>\n",
              "      <td>S</td>\n",
              "      <td>S</td>\n",
              "      <td>7.0</td>\n",
              "      <td>24.0</td>\n",
              "      <td>97.0</td>\n",
              "      <td>98.0</td>\n",
              "      <td>1015.258296</td>\n",
              "      <td>No</td>\n",
              "      <td>autumn</td>\n",
              "      <td>bot</td>\n",
              "    </tr>\n",
              "  </tbody>\n",
              "</table>\n",
              "</div>"
            ],
            "text/plain": [
              "        MinTemp  MaxTemp WindGustDir  WindGustSpeed WindDir9am WindDir3pm  \\\n",
              "65576       7.9     17.4           S           46.0          S          S   \n",
              "122486      9.9     19.6           S           37.0          S          S   \n",
              "90045      23.0     29.0           S           37.0          S          S   \n",
              "121267     21.1     32.9           N           68.5          E          E   \n",
              "27079      22.3     23.7           S           35.0          S          S   \n",
              "\n",
              "        WindSpeed9am  WindSpeed3pm  Humidity9am  Humidity3pm  Pressure3pm  \\\n",
              "65576           24.0          28.0         53.0         47.0  1016.100000   \n",
              "122486          11.0          19.0         77.0         54.0  1018.000000   \n",
              "90045           19.0          15.0         82.0         70.0  1011.100000   \n",
              "121267           9.0           4.0         69.0         42.0  1010.200000   \n",
              "27079            7.0          24.0         97.0         98.0  1015.258296   \n",
              "\n",
              "       RainToday  season position  \n",
              "65576         No  spring      bot  \n",
              "122486       Yes  spring     left  \n",
              "90045        Yes  summer    right  \n",
              "121267        No  autumn     left  \n",
              "27079         No  autumn      bot  "
            ]
          },
          "execution_count": 65,
          "metadata": {},
          "output_type": "execute_result"
        }
      ],
      "source": [
        "X.sample(5)"
      ]
    },
    {
      "cell_type": "code",
      "execution_count": 66,
      "metadata": {
        "colab": {
          "base_uri": "https://localhost:8080/"
        },
        "id": "iUfA4qO6Dcwe",
        "outputId": "f74c480b-21a1-4903-d8d1-fd5cf386801c"
      },
      "outputs": [
        {
          "data": {
            "text/plain": [
              "No     110298\n",
              "Yes     31875\n",
              "Name: RainTomorrow, dtype: int64"
            ]
          },
          "execution_count": 66,
          "metadata": {},
          "output_type": "execute_result"
        }
      ],
      "source": [
        "y.value_counts()"
      ]
    },
    {
      "cell_type": "code",
      "execution_count": 67,
      "metadata": {
        "id": "d_ZektwHDGU1"
      },
      "outputs": [],
      "source": [
        "X_train, X_test, y_train, y_test = train_test_split(X, y, test_size=0.2, random_state=76)"
      ]
    },
    {
      "cell_type": "markdown",
      "metadata": {
        "id": "e1juqgWTaXvf"
      },
      "source": [
        "**Data Transformation**"
      ]
    },
    {
      "cell_type": "code",
      "execution_count": 68,
      "metadata": {
        "id": "HhXGjwtFkWY6"
      },
      "outputs": [],
      "source": [
        "le = LabelEncoder()"
      ]
    },
    {
      "cell_type": "code",
      "execution_count": 69,
      "metadata": {
        "id": "FHrT56VikaTD"
      },
      "outputs": [],
      "source": [
        "y_train_enc = le.fit_transform(y_train)\n",
        "y_test_enc = le.transform(y_test)"
      ]
    },
    {
      "cell_type": "code",
      "execution_count": 70,
      "metadata": {
        "id": "gt_7gGCQAgbZ"
      },
      "outputs": [],
      "source": [
        "num_col = ['MinTemp','MaxTemp','WindGustSpeed','WindSpeed9am','WindSpeed3pm','Humidity9am','Humidity3pm','Pressure3pm']\n",
        "ohe_col = ['WindGustDir','WindDir9am','WindDir3pm','RainToday','season','position']"
      ]
    },
    {
      "cell_type": "code",
      "execution_count": 71,
      "metadata": {
        "id": "3hvvOp5rHP_3"
      },
      "outputs": [],
      "source": [
        "scaler = StandardScaler()"
      ]
    },
    {
      "cell_type": "code",
      "execution_count": 72,
      "metadata": {
        "id": "aNkGD7faHXOO"
      },
      "outputs": [],
      "source": [
        "#scaling nilai numerik\n",
        "X_train_scaled = scaler.fit_transform(X_train[num_col])\n",
        "X_test_scaled = scaler.transform(X_test[num_col])"
      ]
    },
    {
      "cell_type": "code",
      "execution_count": 73,
      "metadata": {
        "id": "peEgrk4Bg1IQ"
      },
      "outputs": [],
      "source": [
        "imputer = SimpleImputer(strategy='most_frequent')"
      ]
    },
    {
      "cell_type": "code",
      "execution_count": 74,
      "metadata": {
        "id": "9KYwwhmBhAO4"
      },
      "outputs": [],
      "source": [
        "#imputasi nilai nan pada kolom kategorikal dengan modus\n",
        "X_train[ohe_col] = imputer.fit_transform(X_train[ohe_col])\n",
        "X_test[ohe_col] = imputer.transform(X_test[ohe_col])"
      ]
    },
    {
      "cell_type": "code",
      "execution_count": 75,
      "metadata": {
        "colab": {
          "base_uri": "https://localhost:8080/"
        },
        "id": "4bvZSoiQB4Eg",
        "outputId": "ff40e1fa-3ae4-4952-ff2f-1064ce33b90f"
      },
      "outputs": [
        {
          "data": {
            "text/plain": [
              "MinTemp          0\n",
              "MaxTemp          0\n",
              "WindGustDir      0\n",
              "WindGustSpeed    0\n",
              "WindDir9am       0\n",
              "WindDir3pm       0\n",
              "WindSpeed9am     0\n",
              "WindSpeed3pm     0\n",
              "Humidity9am      0\n",
              "Humidity3pm      0\n",
              "Pressure3pm      0\n",
              "RainToday        0\n",
              "season           0\n",
              "position         0\n",
              "dtype: int64"
            ]
          },
          "execution_count": 75,
          "metadata": {},
          "output_type": "execute_result"
        }
      ],
      "source": [
        "X_train.isnull().sum()"
      ]
    },
    {
      "cell_type": "code",
      "execution_count": 76,
      "metadata": {
        "id": "obuXDBjVk0gX"
      },
      "outputs": [],
      "source": [
        "ohe = OneHotEncoder()"
      ]
    },
    {
      "cell_type": "code",
      "execution_count": 77,
      "metadata": {
        "id": "Mtk-jPKDk6iq"
      },
      "outputs": [],
      "source": [
        "#scaling data kategorikan dengan one hot encoder\n",
        "X_train_enc = ohe.fit_transform(X_train[ohe_col]).toarray()\n",
        "X_test_enc = ohe.transform(X_test[ohe_col]).toarray()"
      ]
    },
    {
      "cell_type": "code",
      "execution_count": 78,
      "metadata": {
        "colab": {
          "base_uri": "https://localhost:8080/"
        },
        "id": "V1Z8XAKKNcrr",
        "outputId": "c46e865e-2791-4b46-9211-786bb381525c"
      },
      "outputs": [
        {
          "data": {
            "text/plain": [
              "[array(['E', 'N', 'NE', 'NW', 'S', 'SE', 'SW', 'W'], dtype=object),\n",
              " array(['E', 'N', 'NE', 'NW', 'S', 'SE', 'SW', 'W'], dtype=object),\n",
              " array(['E', 'N', 'NE', 'NW', 'S', 'SE', 'SW', 'W'], dtype=object),\n",
              " array(['No', 'Yes'], dtype=object),\n",
              " array(['autumn', 'spring', 'summer', 'winter'], dtype=object),\n",
              " array(['bot', 'left', 'mid', 'out', 'right', 'top'], dtype=object)]"
            ]
          },
          "execution_count": 78,
          "metadata": {},
          "output_type": "execute_result"
        }
      ],
      "source": [
        "ohe.categories_"
      ]
    },
    {
      "cell_type": "code",
      "execution_count": 79,
      "metadata": {
        "id": "5OYylk3xFg06"
      },
      "outputs": [],
      "source": [
        "#menggabungkan kolom numerik dan kategorikal\n",
        "X_train_final = np.concatenate([X_train_scaled, X_train_enc], axis=1)\n",
        "X_test_final = np.concatenate([X_test_scaled, X_test_enc], axis=1)"
      ]
    },
    {
      "cell_type": "markdown",
      "metadata": {
        "id": "yepWw9tqZyDC"
      },
      "source": [
        "## 6. Model Definition"
      ]
    },
    {
      "cell_type": "markdown",
      "metadata": {
        "id": "gg5QQXuhC7K-"
      },
      "source": [
        "Bagian ini berisi cell untuk mendefinisikan model. Jelaskan alasan menggunakan suatu algoritma/model, hyperparameter yang dipakai, jenis penggunaan metrics yang dipakai, dan hal lain yang terkait dengan model."
      ]
    },
    {
      "cell_type": "code",
      "execution_count": 80,
      "metadata": {
        "id": "XOvoyurNIXse"
      },
      "outputs": [],
      "source": [
        "model = LogisticRegression(fit_intercept=True)"
      ]
    },
    {
      "cell_type": "code",
      "execution_count": 81,
      "metadata": {
        "id": "PYVkFPCsZejc"
      },
      "outputs": [],
      "source": [
        "#model2 = SVC(C=2, gamma=1, kernel='rbf') #overfitting\n",
        "#model2 = SVC(C=1, gamma='scale', kernel='rbf', cache_size=3000)\n",
        "model2 = SVC()"
      ]
    },
    {
      "cell_type": "markdown",
      "metadata": {
        "id": "1si_iewLZyDC"
      },
      "source": [
        "## 7. Model Training"
      ]
    },
    {
      "cell_type": "markdown",
      "metadata": {
        "id": "az2qEH6FC3dT"
      },
      "source": [
        "Cell pada bagian ini hanya berisi code untuk melatih model dan output yang dihasilkan. Lakukan beberapa kali proses training dengan hyperparameter yang berbeda untuk melihat hasil yang didapatkan. Analisis dan narasikan hasil ini pada bagian Model Evaluation."
      ]
    },
    {
      "cell_type": "markdown",
      "metadata": {
        "id": "SXURtj9qYpUi"
      },
      "source": [
        "### a. Model Logistic Regression"
      ]
    },
    {
      "cell_type": "code",
      "execution_count": 82,
      "metadata": {
        "colab": {
          "base_uri": "https://localhost:8080/"
        },
        "id": "vIiKerMWIkmV",
        "outputId": "729d54a7-0e5a-4fb6-f3f5-946536c2c937"
      },
      "outputs": [
        {
          "data": {
            "text/plain": [
              "LogisticRegression()"
            ]
          },
          "execution_count": 82,
          "metadata": {},
          "output_type": "execute_result"
        }
      ],
      "source": [
        "model.fit(X_train_final,y_train_enc)"
      ]
    },
    {
      "cell_type": "code",
      "execution_count": 83,
      "metadata": {
        "id": "6JBeazGZIrsd"
      },
      "outputs": [],
      "source": [
        "y_pred_train = model.predict(X_train_final)\n",
        "y_pred_test = model.predict(X_test_final)"
      ]
    },
    {
      "cell_type": "markdown",
      "metadata": {
        "id": "JmHYjbhbYt2c"
      },
      "source": [
        "### b. Model SVM"
      ]
    },
    {
      "cell_type": "code",
      "execution_count": 84,
      "metadata": {
        "colab": {
          "background_save": true
        },
        "id": "EuOo41eaZSBt",
        "outputId": "9c4bc3cd-bb06-45af-86cd-37e7fc7c04ec"
      },
      "outputs": [
        {
          "data": {
            "text/plain": [
              "SVC()"
            ]
          },
          "execution_count": 84,
          "metadata": {},
          "output_type": "execute_result"
        }
      ],
      "source": [
        "model2.fit(X_train_final,y_train_enc)"
      ]
    },
    {
      "cell_type": "code",
      "execution_count": 85,
      "metadata": {
        "id": "0jzgMJA6eXRn"
      },
      "outputs": [],
      "source": [
        "y_pred_train_svc = model2.predict(X_train_final)\n",
        "y_pred_test_svc = model2.predict(X_test_final)"
      ]
    },
    {
      "cell_type": "markdown",
      "metadata": {
        "id": "ewldY3OOZyDD"
      },
      "source": [
        "## 8. Model Evaluation"
      ]
    },
    {
      "cell_type": "markdown",
      "metadata": {
        "id": "1qNaH_6VCqoq"
      },
      "source": [
        "Pada bagian ini, dilakukan evaluasi model yang harus menunjukkan bagaimana performa model berdasarkan metrics yang dipilih. Hal ini harus dibuktikan dengan visualisasi tren performa dan/atau tingkat kesalahan model. Lakukan analisis terkait dengan hasil pada model dan tuliskan hasil analisisnya."
      ]
    },
    {
      "cell_type": "markdown",
      "metadata": {
        "id": "jUfbzTOGk6aj"
      },
      "source": [
        "### a. Model Logistic Regression"
      ]
    },
    {
      "cell_type": "code",
      "execution_count": 86,
      "metadata": {},
      "outputs": [],
      "source": [
        "y_train_pred_proba_log = model.predict_proba(X_train_final)[:,1]\n",
        "y_test_pred_proba_log = model.predict_proba(X_test_final)[:,1]"
      ]
    },
    {
      "cell_type": "code",
      "execution_count": 87,
      "metadata": {},
      "outputs": [
        {
          "name": "stdout",
          "output_type": "stream",
          "text": [
            "------------TRAIN-------------\n",
            "F1 Score: 0.5712135819596963\n",
            "accuracy Score: 0.8396753943273136\n",
            "Precision Score: 0.712835260285228\n",
            "Recall Score: 0.47653797865662273\n",
            "AUC Score: 0.855002815078006\n",
            "\n",
            "------------TEST-------------\n",
            "F1 Score: 0.5703279150615428\n",
            "accuracy Score: 0.8391770705116933\n",
            "Precision Score: 0.7131109022556391\n",
            "Recall Score: 0.47518396743385\n",
            "AUC Score: 0.8577273608084091\n"
          ]
        }
      ],
      "source": [
        "print('------------TRAIN-------------')\n",
        "print('F1 Score:', f1_score(y_train_enc,y_pred_train))\n",
        "print('accuracy Score:', accuracy_score(y_train_enc,y_pred_train))\n",
        "print('Precision Score:', precision_score(y_train_enc,y_pred_train))\n",
        "print('Recall Score:', recall_score(y_train_enc,y_pred_train))\n",
        "print('AUC Score:', roc_auc_score(y_train_enc, y_train_pred_proba_log))\n",
        "print('')\n",
        "print('------------TEST-------------')\n",
        "print('F1 Score:', f1_score(y_test_enc,y_pred_test))\n",
        "print('accuracy Score:', accuracy_score(y_test_enc,y_pred_test))\n",
        "print('Precision Score:', precision_score(y_test_enc,y_pred_test))\n",
        "print('Recall Score:', recall_score(y_test_enc,y_pred_test))\n",
        "print('AUC Score:', roc_auc_score(y_test_enc, y_test_pred_proba_log))"
      ]
    },
    {
      "cell_type": "code",
      "execution_count": 88,
      "metadata": {},
      "outputs": [
        {
          "data": {
            "image/png": "[encoded data removed]",
            "text/plain": [
              "<Figure size 432x288 with 1 Axes>"
            ]
          },
          "metadata": {
            "needs_background": "light"
          },
          "output_type": "display_data"
        }
      ],
      "source": [
        "#define metrics\n",
        "fpr, tpr, _ = roc_curve(y_test_enc,  y_test_pred_proba_log)\n",
        "auc = roc_auc_score(y_test_enc, y_test_pred_proba_log)\n",
        "\n",
        "#create ROC curve\n",
        "plt.plot(fpr,tpr,label=\"AUC=\"+str(auc))\n",
        "plt.ylabel('True Positive Rate')\n",
        "plt.xlabel('False Positive Rate')\n",
        "plt.title('Logistic Regression AUC-ROC Curve')\n",
        "plt.legend(loc=4)\n",
        "plt.show()"
      ]
    },
    {
      "cell_type": "markdown",
      "metadata": {
        "id": "f35SRyq7lAZE"
      },
      "source": [
        "### b. Model SVM"
      ]
    },
    {
      "cell_type": "code",
      "execution_count": 102,
      "metadata": {
        "colab": {
          "base_uri": "https://localhost:8080/"
        },
        "id": "iSNpnPrIec01",
        "outputId": "cc7936ef-e249-4f9e-c69e-6ee667488692"
      },
      "outputs": [
        {
          "name": "stdout",
          "output_type": "stream",
          "text": [
            "------------TRAIN-------------\n",
            "Train F1 Score: 0.6084099546401863\n",
            "Train accuracy Score: 0.8595807909405827\n",
            "Precision Score: 0.8110740668104857\n",
            "Recall Score: 0.486778091650973\n",
            "\n",
            "------------TEST-------------\n",
            "Test F1 Score: 0.58878963384706\n",
            "Test accuracy Score: 0.8526815544223668\n",
            "Precision Score: 0.7892105263157895\n",
            "Recall Score: 0.46954751839674336\n"
          ]
        }
      ],
      "source": [
        "print('------------TRAIN-------------')\n",
        "print('Train F1 Score:', f1_score(y_train_enc,y_pred_train_svc))\n",
        "print('Train accuracy Score:', accuracy_score(y_train_enc,y_pred_train_svc))\n",
        "print('Precision Score:', precision_score(y_train_enc,y_pred_train_svc))\n",
        "print('Recall Score:', recall_score(y_train_enc,y_pred_train_svc))\n",
        "print('')\n",
        "print('------------TEST-------------')\n",
        "print('Test F1 Score:', f1_score(y_test_enc,y_pred_test_svc))\n",
        "print('Test accuracy Score:', accuracy_score(y_test_enc,y_pred_test_svc))\n",
        "print('Precision Score:', precision_score(y_test_enc,y_pred_test_svc))\n",
        "print('Recall Score:', recall_score(y_test_enc,y_pred_test_svc))"
      ]
    },
    {
      "cell_type": "markdown",
      "metadata": {},
      "source": [
        "**SVC dengan hyperparameter (C=1, gamma='scale', kernel='rbf')**"
      ]
    },
    {
      "cell_type": "markdown",
      "metadata": {},
      "source": [
        "------------TRAIN-------------\n",
        "<br>\n",
        "Train F1 Score: 0.6086444874843707\n",
        "<br>\n",
        "Train accuracy Score: 0.859651128031089\n",
        "<br>\n",
        "<br>\n",
        "------------TEST-------------\n",
        "<br>\n",
        "Test F1 Score: 0.5887318413820181\n",
        "<br>\n",
        "Test accuracy Score: 0.852646386495516"
      ]
    },
    {
      "cell_type": "markdown",
      "metadata": {},
      "source": [
        "**SVC dengan hyperparameter (C=1, gamma='auto', kernel='rbf')**"
      ]
    },
    {
      "cell_type": "markdown",
      "metadata": {},
      "source": [
        "------------TRAIN-------------\n",
        "<br>\n",
        "Train F1 Score: 0.5731930811136495\n",
        "<br>\n",
        "Train accuracy Score: 0.8505248905379029\n",
        "<br>\n",
        "Precision Score: 0.7958173579644475\n",
        "<br>\n",
        "Recall Score: 0.44789704959196486\n",
        "<br>\n",
        "AUC Score: 0.7073536239461241\n",
        "<br>\n",
        "<br>\n",
        "------------TEST-------------\n",
        "<br>\n",
        "Test F1 Score: 0.5633463737586518\n",
        "<br>\n",
        "Test accuracy Score: 0.8469140144188501\n",
        "<br>\n",
        "Precision Score: 0.7839195979899497\n",
        "<br>\n",
        "Recall Score: 0.43964302489431656\n",
        "<br>\n",
        "AUC Score: 0.7022688999653006"
      ]
    },
    {
      "cell_type": "markdown",
      "metadata": {},
      "source": [
        "**SVC dengan hyperparameter (C=2, gamma=1, kernel='rbf')**"
      ]
    },
    {
      "cell_type": "markdown",
      "metadata": {},
      "source": [
        "------------TRAIN-------------\n",
        "<br>\n",
        "Train F1 Score: 0.9786249800606156\n",
        "<br>\n",
        "Train accuracy Score: 0.9905748298721624\n",
        "<br>\n",
        "<br>\n",
        "------------TEST-------------\n",
        "<br>\n",
        "Test F1 Score: 0.39799554565701556\n",
        "<br>\n",
        "Test accuracy Score: 0.8098821874450501"
      ]
    },
    {
      "cell_type": "markdown",
      "metadata": {},
      "source": [
        "untuk model svm ini ternyata pengguana nilai gamma='scale' dapat menambah performansi dari model"
      ]
    },
    {
      "cell_type": "markdown",
      "metadata": {
        "id": "ON6rfRwRZyDD"
      },
      "source": [
        "## 9. Model Inference"
      ]
    },
    {
      "cell_type": "markdown",
      "metadata": {
        "id": "F5cGpO3OCZbg"
      },
      "source": [
        "Model yang sudah dilatih akan dicoba pada data yang bukan termasuk ke dalam train-set ataupun test-set. Data ini harus dalam format yang asli, bukan data yang sudah di-scaled."
      ]
    },
    {
      "cell_type": "code",
      "execution_count": 90,
      "metadata": {
        "colab": {
          "base_uri": "https://localhost:8080/",
          "height": 1000
        },
        "id": "Gb6lzy4tI3UE",
        "outputId": "f71d17a6-5288-4a62-8fcd-7b7ce31f7b88"
      },
      "outputs": [
        {
          "data": {
            "text/html": [
              "<div>\n",
              "<style scoped>\n",
              "    .dataframe tbody tr th:only-of-type {\n",
              "        vertical-align: middle;\n",
              "    }\n",
              "\n",
              "    .dataframe tbody tr th {\n",
              "        vertical-align: top;\n",
              "    }\n",
              "\n",
              "    .dataframe thead th {\n",
              "        text-align: right;\n",
              "    }\n",
              "</style>\n",
              "<table border=\"1\" class=\"dataframe\">\n",
              "  <thead>\n",
              "    <tr style=\"text-align: right;\">\n",
              "      <th></th>\n",
              "      <th>Date</th>\n",
              "      <th>Location</th>\n",
              "      <th>MinTemp</th>\n",
              "      <th>MaxTemp</th>\n",
              "      <th>Rainfall</th>\n",
              "      <th>Evaporation</th>\n",
              "      <th>Sunshine</th>\n",
              "      <th>WindGustDir</th>\n",
              "      <th>WindGustSpeed</th>\n",
              "      <th>WindDir9am</th>\n",
              "      <th>WindDir3pm</th>\n",
              "      <th>WindSpeed9am</th>\n",
              "      <th>WindSpeed3pm</th>\n",
              "      <th>Humidity9am</th>\n",
              "      <th>Humidity3pm</th>\n",
              "      <th>Pressure9am</th>\n",
              "      <th>Pressure3pm</th>\n",
              "      <th>Cloud9am</th>\n",
              "      <th>Cloud3pm</th>\n",
              "      <th>Temp9am</th>\n",
              "      <th>Temp3pm</th>\n",
              "      <th>RainToday</th>\n",
              "      <th>RainTomorrow</th>\n",
              "      <th>Year</th>\n",
              "      <th>season</th>\n",
              "    </tr>\n",
              "  </thead>\n",
              "  <tbody>\n",
              "    <tr>\n",
              "      <th>67743</th>\n",
              "      <td>2009-12-26</td>\n",
              "      <td>Melbourne</td>\n",
              "      <td>12.9</td>\n",
              "      <td>22.1</td>\n",
              "      <td>0.0</td>\n",
              "      <td>6.8</td>\n",
              "      <td>13.0</td>\n",
              "      <td>SSE</td>\n",
              "      <td>46.0</td>\n",
              "      <td>SSE</td>\n",
              "      <td>SSE</td>\n",
              "      <td>22.0</td>\n",
              "      <td>28.0</td>\n",
              "      <td>51.0</td>\n",
              "      <td>49.0</td>\n",
              "      <td>1019.1</td>\n",
              "      <td>1017.7</td>\n",
              "      <td>2.0</td>\n",
              "      <td>0.0</td>\n",
              "      <td>17.1</td>\n",
              "      <td>20.2</td>\n",
              "      <td>No</td>\n",
              "      <td>No</td>\n",
              "      <td>2009</td>\n",
              "      <td>summer</td>\n",
              "    </tr>\n",
              "    <tr>\n",
              "      <th>75750</th>\n",
              "      <td>2011-02-10</td>\n",
              "      <td>Portland</td>\n",
              "      <td>14.5</td>\n",
              "      <td>23.6</td>\n",
              "      <td>0.0</td>\n",
              "      <td>3.0</td>\n",
              "      <td>1.0</td>\n",
              "      <td>ENE</td>\n",
              "      <td>24.0</td>\n",
              "      <td>N</td>\n",
              "      <td>E</td>\n",
              "      <td>9.0</td>\n",
              "      <td>11.0</td>\n",
              "      <td>88.0</td>\n",
              "      <td>71.0</td>\n",
              "      <td>1015.3</td>\n",
              "      <td>1012.3</td>\n",
              "      <td>8.0</td>\n",
              "      <td>8.0</td>\n",
              "      <td>18.5</td>\n",
              "      <td>22.8</td>\n",
              "      <td>No</td>\n",
              "      <td>Yes</td>\n",
              "      <td>2011</td>\n",
              "      <td>summer</td>\n",
              "    </tr>\n",
              "    <tr>\n",
              "      <th>32275</th>\n",
              "      <td>2014-01-28</td>\n",
              "      <td>Sydney</td>\n",
              "      <td>19.6</td>\n",
              "      <td>26.5</td>\n",
              "      <td>0.0</td>\n",
              "      <td>9.4</td>\n",
              "      <td>13.0</td>\n",
              "      <td>NE</td>\n",
              "      <td>57.0</td>\n",
              "      <td>NNE</td>\n",
              "      <td>NE</td>\n",
              "      <td>17.0</td>\n",
              "      <td>28.0</td>\n",
              "      <td>45.0</td>\n",
              "      <td>56.0</td>\n",
              "      <td>1021.5</td>\n",
              "      <td>1018.4</td>\n",
              "      <td>1.0</td>\n",
              "      <td>1.0</td>\n",
              "      <td>24.7</td>\n",
              "      <td>25.5</td>\n",
              "      <td>No</td>\n",
              "      <td>No</td>\n",
              "      <td>2014</td>\n",
              "      <td>summer</td>\n",
              "    </tr>\n",
              "    <tr>\n",
              "      <th>67598</th>\n",
              "      <td>2009-08-03</td>\n",
              "      <td>Melbourne</td>\n",
              "      <td>8.8</td>\n",
              "      <td>15.4</td>\n",
              "      <td>3.2</td>\n",
              "      <td>3.6</td>\n",
              "      <td>7.1</td>\n",
              "      <td>W</td>\n",
              "      <td>93.0</td>\n",
              "      <td>W</td>\n",
              "      <td>NW</td>\n",
              "      <td>20.0</td>\n",
              "      <td>13.0</td>\n",
              "      <td>65.0</td>\n",
              "      <td>35.0</td>\n",
              "      <td>1022.4</td>\n",
              "      <td>1021.9</td>\n",
              "      <td>1.0</td>\n",
              "      <td>6.0</td>\n",
              "      <td>9.9</td>\n",
              "      <td>14.8</td>\n",
              "      <td>Yes</td>\n",
              "      <td>No</td>\n",
              "      <td>2009</td>\n",
              "      <td>winter</td>\n",
              "    </tr>\n",
              "    <tr>\n",
              "      <th>117649</th>\n",
              "      <td>2009-01-21</td>\n",
              "      <td>PerthAirport</td>\n",
              "      <td>15.4</td>\n",
              "      <td>27.3</td>\n",
              "      <td>0.0</td>\n",
              "      <td>10.0</td>\n",
              "      <td>13.0</td>\n",
              "      <td>SSW</td>\n",
              "      <td>43.0</td>\n",
              "      <td>SSW</td>\n",
              "      <td>SW</td>\n",
              "      <td>17.0</td>\n",
              "      <td>30.0</td>\n",
              "      <td>63.0</td>\n",
              "      <td>42.0</td>\n",
              "      <td>1016.1</td>\n",
              "      <td>1013.5</td>\n",
              "      <td>1.0</td>\n",
              "      <td>4.0</td>\n",
              "      <td>20.1</td>\n",
              "      <td>26.6</td>\n",
              "      <td>No</td>\n",
              "      <td>No</td>\n",
              "      <td>2009</td>\n",
              "      <td>summer</td>\n",
              "    </tr>\n",
              "    <tr>\n",
              "      <th>75986</th>\n",
              "      <td>2011-11-03</td>\n",
              "      <td>Portland</td>\n",
              "      <td>10.5</td>\n",
              "      <td>16.2</td>\n",
              "      <td>3.8</td>\n",
              "      <td>1.6</td>\n",
              "      <td>6.4</td>\n",
              "      <td>W</td>\n",
              "      <td>33.0</td>\n",
              "      <td>SW</td>\n",
              "      <td>W</td>\n",
              "      <td>13.0</td>\n",
              "      <td>24.0</td>\n",
              "      <td>89.0</td>\n",
              "      <td>70.0</td>\n",
              "      <td>1017.9</td>\n",
              "      <td>1018.8</td>\n",
              "      <td>7.0</td>\n",
              "      <td>6.0</td>\n",
              "      <td>12.4</td>\n",
              "      <td>15.1</td>\n",
              "      <td>Yes</td>\n",
              "      <td>No</td>\n",
              "      <td>2011</td>\n",
              "      <td>spring</td>\n",
              "    </tr>\n",
              "    <tr>\n",
              "      <th>87682</th>\n",
              "      <td>2010-03-28</td>\n",
              "      <td>Cairns</td>\n",
              "      <td>23.9</td>\n",
              "      <td>28.4</td>\n",
              "      <td>44.4</td>\n",
              "      <td>4.4</td>\n",
              "      <td>1.1</td>\n",
              "      <td>SE</td>\n",
              "      <td>50.0</td>\n",
              "      <td>SSE</td>\n",
              "      <td>ESE</td>\n",
              "      <td>20.0</td>\n",
              "      <td>22.0</td>\n",
              "      <td>85.0</td>\n",
              "      <td>91.0</td>\n",
              "      <td>1012.6</td>\n",
              "      <td>1009.5</td>\n",
              "      <td>8.0</td>\n",
              "      <td>8.0</td>\n",
              "      <td>25.6</td>\n",
              "      <td>25.1</td>\n",
              "      <td>Yes</td>\n",
              "      <td>Yes</td>\n",
              "      <td>2010</td>\n",
              "      <td>autumn</td>\n",
              "    </tr>\n",
              "    <tr>\n",
              "      <th>13602</th>\n",
              "      <td>2013-06-13</td>\n",
              "      <td>Moree</td>\n",
              "      <td>13.2</td>\n",
              "      <td>17.2</td>\n",
              "      <td>15.6</td>\n",
              "      <td>4.0</td>\n",
              "      <td>5.4</td>\n",
              "      <td>NNW</td>\n",
              "      <td>30.0</td>\n",
              "      <td>NW</td>\n",
              "      <td>WNW</td>\n",
              "      <td>17.0</td>\n",
              "      <td>17.0</td>\n",
              "      <td>86.0</td>\n",
              "      <td>65.0</td>\n",
              "      <td>1012.8</td>\n",
              "      <td>1010.5</td>\n",
              "      <td>3.0</td>\n",
              "      <td>7.0</td>\n",
              "      <td>14.6</td>\n",
              "      <td>16.4</td>\n",
              "      <td>Yes</td>\n",
              "      <td>No</td>\n",
              "      <td>2013</td>\n",
              "      <td>winter</td>\n",
              "    </tr>\n",
              "    <tr>\n",
              "      <th>123740</th>\n",
              "      <td>2017-03-27</td>\n",
              "      <td>Perth</td>\n",
              "      <td>8.3</td>\n",
              "      <td>23.3</td>\n",
              "      <td>0.2</td>\n",
              "      <td>6.2</td>\n",
              "      <td>10.3</td>\n",
              "      <td>SSW</td>\n",
              "      <td>30.0</td>\n",
              "      <td>NE</td>\n",
              "      <td>SW</td>\n",
              "      <td>7.0</td>\n",
              "      <td>17.0</td>\n",
              "      <td>62.0</td>\n",
              "      <td>36.0</td>\n",
              "      <td>1023.8</td>\n",
              "      <td>1019.7</td>\n",
              "      <td>1.0</td>\n",
              "      <td>5.0</td>\n",
              "      <td>16.5</td>\n",
              "      <td>22.5</td>\n",
              "      <td>No</td>\n",
              "      <td>No</td>\n",
              "      <td>2017</td>\n",
              "      <td>autumn</td>\n",
              "    </tr>\n",
              "    <tr>\n",
              "      <th>104577</th>\n",
              "      <td>2014-10-15</td>\n",
              "      <td>Nuriootpa</td>\n",
              "      <td>-1.0</td>\n",
              "      <td>17.4</td>\n",
              "      <td>0.0</td>\n",
              "      <td>2.5</td>\n",
              "      <td>12.2</td>\n",
              "      <td>SSW</td>\n",
              "      <td>33.0</td>\n",
              "      <td>N</td>\n",
              "      <td>WSW</td>\n",
              "      <td>4.0</td>\n",
              "      <td>17.0</td>\n",
              "      <td>66.0</td>\n",
              "      <td>35.0</td>\n",
              "      <td>1025.8</td>\n",
              "      <td>1022.1</td>\n",
              "      <td>2.0</td>\n",
              "      <td>2.0</td>\n",
              "      <td>9.2</td>\n",
              "      <td>16.6</td>\n",
              "      <td>No</td>\n",
              "      <td>No</td>\n",
              "      <td>2014</td>\n",
              "      <td>spring</td>\n",
              "    </tr>\n",
              "    <tr>\n",
              "      <th>122988</th>\n",
              "      <td>2015-03-06</td>\n",
              "      <td>Perth</td>\n",
              "      <td>18.6</td>\n",
              "      <td>32.6</td>\n",
              "      <td>0.0</td>\n",
              "      <td>9.0</td>\n",
              "      <td>11.8</td>\n",
              "      <td>SSW</td>\n",
              "      <td>37.0</td>\n",
              "      <td>E</td>\n",
              "      <td>SSW</td>\n",
              "      <td>11.0</td>\n",
              "      <td>15.0</td>\n",
              "      <td>52.0</td>\n",
              "      <td>38.0</td>\n",
              "      <td>1020.8</td>\n",
              "      <td>1016.7</td>\n",
              "      <td>0.0</td>\n",
              "      <td>1.0</td>\n",
              "      <td>24.5</td>\n",
              "      <td>29.8</td>\n",
              "      <td>No</td>\n",
              "      <td>No</td>\n",
              "      <td>2015</td>\n",
              "      <td>autumn</td>\n",
              "    </tr>\n",
              "    <tr>\n",
              "      <th>88988</th>\n",
              "      <td>2014-01-21</td>\n",
              "      <td>Cairns</td>\n",
              "      <td>22.9</td>\n",
              "      <td>30.5</td>\n",
              "      <td>0.0</td>\n",
              "      <td>6.8</td>\n",
              "      <td>7.0</td>\n",
              "      <td>ENE</td>\n",
              "      <td>28.0</td>\n",
              "      <td>SE</td>\n",
              "      <td>NE</td>\n",
              "      <td>11.0</td>\n",
              "      <td>17.0</td>\n",
              "      <td>68.0</td>\n",
              "      <td>64.0</td>\n",
              "      <td>1009.6</td>\n",
              "      <td>1006.7</td>\n",
              "      <td>3.0</td>\n",
              "      <td>4.0</td>\n",
              "      <td>28.9</td>\n",
              "      <td>29.4</td>\n",
              "      <td>No</td>\n",
              "      <td>No</td>\n",
              "      <td>2014</td>\n",
              "      <td>summer</td>\n",
              "    </tr>\n",
              "    <tr>\n",
              "      <th>117760</th>\n",
              "      <td>2009-05-12</td>\n",
              "      <td>PerthAirport</td>\n",
              "      <td>14.2</td>\n",
              "      <td>24.6</td>\n",
              "      <td>0.0</td>\n",
              "      <td>5.4</td>\n",
              "      <td>9.5</td>\n",
              "      <td>E</td>\n",
              "      <td>67.0</td>\n",
              "      <td>E</td>\n",
              "      <td>ESE</td>\n",
              "      <td>17.0</td>\n",
              "      <td>20.0</td>\n",
              "      <td>61.0</td>\n",
              "      <td>29.0</td>\n",
              "      <td>1026.2</td>\n",
              "      <td>1023.6</td>\n",
              "      <td>1.0</td>\n",
              "      <td>1.0</td>\n",
              "      <td>16.5</td>\n",
              "      <td>24.1</td>\n",
              "      <td>No</td>\n",
              "      <td>No</td>\n",
              "      <td>2009</td>\n",
              "      <td>autumn</td>\n",
              "    </tr>\n",
              "    <tr>\n",
              "      <th>89612</th>\n",
              "      <td>2015-10-07</td>\n",
              "      <td>Cairns</td>\n",
              "      <td>20.4</td>\n",
              "      <td>27.7</td>\n",
              "      <td>7.0</td>\n",
              "      <td>9.2</td>\n",
              "      <td>5.8</td>\n",
              "      <td>SE</td>\n",
              "      <td>57.0</td>\n",
              "      <td>SE</td>\n",
              "      <td>SE</td>\n",
              "      <td>35.0</td>\n",
              "      <td>30.0</td>\n",
              "      <td>66.0</td>\n",
              "      <td>59.0</td>\n",
              "      <td>1020.4</td>\n",
              "      <td>1018.4</td>\n",
              "      <td>4.0</td>\n",
              "      <td>7.0</td>\n",
              "      <td>25.9</td>\n",
              "      <td>25.9</td>\n",
              "      <td>Yes</td>\n",
              "      <td>No</td>\n",
              "      <td>2015</td>\n",
              "      <td>spring</td>\n",
              "    </tr>\n",
              "    <tr>\n",
              "      <th>21624</th>\n",
              "      <td>2010-05-21</td>\n",
              "      <td>NorfolkIsland</td>\n",
              "      <td>17.0</td>\n",
              "      <td>21.3</td>\n",
              "      <td>0.0</td>\n",
              "      <td>4.6</td>\n",
              "      <td>7.8</td>\n",
              "      <td>WSW</td>\n",
              "      <td>26.0</td>\n",
              "      <td>WSW</td>\n",
              "      <td>W</td>\n",
              "      <td>11.0</td>\n",
              "      <td>13.0</td>\n",
              "      <td>63.0</td>\n",
              "      <td>65.0</td>\n",
              "      <td>1020.0</td>\n",
              "      <td>1018.5</td>\n",
              "      <td>6.0</td>\n",
              "      <td>6.0</td>\n",
              "      <td>20.0</td>\n",
              "      <td>20.2</td>\n",
              "      <td>No</td>\n",
              "      <td>No</td>\n",
              "      <td>2010</td>\n",
              "      <td>autumn</td>\n",
              "    </tr>\n",
              "    <tr>\n",
              "      <th>140693</th>\n",
              "      <td>2012-11-29</td>\n",
              "      <td>Darwin</td>\n",
              "      <td>24.8</td>\n",
              "      <td>33.5</td>\n",
              "      <td>3.4</td>\n",
              "      <td>7.4</td>\n",
              "      <td>4.7</td>\n",
              "      <td>E</td>\n",
              "      <td>43.0</td>\n",
              "      <td>ENE</td>\n",
              "      <td>W</td>\n",
              "      <td>9.0</td>\n",
              "      <td>15.0</td>\n",
              "      <td>84.0</td>\n",
              "      <td>75.0</td>\n",
              "      <td>1010.8</td>\n",
              "      <td>1007.6</td>\n",
              "      <td>7.0</td>\n",
              "      <td>7.0</td>\n",
              "      <td>27.3</td>\n",
              "      <td>29.0</td>\n",
              "      <td>Yes</td>\n",
              "      <td>No</td>\n",
              "      <td>2012</td>\n",
              "      <td>spring</td>\n",
              "    </tr>\n",
              "    <tr>\n",
              "      <th>66960</th>\n",
              "      <td>2016-10-29</td>\n",
              "      <td>MelbourneAirport</td>\n",
              "      <td>6.9</td>\n",
              "      <td>24.4</td>\n",
              "      <td>0.0</td>\n",
              "      <td>4.6</td>\n",
              "      <td>9.5</td>\n",
              "      <td>NNE</td>\n",
              "      <td>41.0</td>\n",
              "      <td>NNW</td>\n",
              "      <td>NNE</td>\n",
              "      <td>6.0</td>\n",
              "      <td>30.0</td>\n",
              "      <td>81.0</td>\n",
              "      <td>32.0</td>\n",
              "      <td>1019.0</td>\n",
              "      <td>1013.0</td>\n",
              "      <td>7.0</td>\n",
              "      <td>1.0</td>\n",
              "      <td>11.6</td>\n",
              "      <td>23.3</td>\n",
              "      <td>No</td>\n",
              "      <td>No</td>\n",
              "      <td>2016</td>\n",
              "      <td>spring</td>\n",
              "    </tr>\n",
              "    <tr>\n",
              "      <th>88157</th>\n",
              "      <td>2011-08-15</td>\n",
              "      <td>Cairns</td>\n",
              "      <td>16.5</td>\n",
              "      <td>27.0</td>\n",
              "      <td>0.0</td>\n",
              "      <td>7.2</td>\n",
              "      <td>8.9</td>\n",
              "      <td>SE</td>\n",
              "      <td>41.0</td>\n",
              "      <td>S</td>\n",
              "      <td>SE</td>\n",
              "      <td>19.0</td>\n",
              "      <td>30.0</td>\n",
              "      <td>64.0</td>\n",
              "      <td>51.0</td>\n",
              "      <td>1019.2</td>\n",
              "      <td>1015.8</td>\n",
              "      <td>2.0</td>\n",
              "      <td>5.0</td>\n",
              "      <td>22.6</td>\n",
              "      <td>26.0</td>\n",
              "      <td>No</td>\n",
              "      <td>No</td>\n",
              "      <td>2011</td>\n",
              "      <td>winter</td>\n",
              "    </tr>\n",
              "    <tr>\n",
              "      <th>84172</th>\n",
              "      <td>2008-12-13</td>\n",
              "      <td>Brisbane</td>\n",
              "      <td>21.9</td>\n",
              "      <td>34.2</td>\n",
              "      <td>0.0</td>\n",
              "      <td>4.2</td>\n",
              "      <td>7.2</td>\n",
              "      <td>WNW</td>\n",
              "      <td>44.0</td>\n",
              "      <td>NNW</td>\n",
              "      <td>ENE</td>\n",
              "      <td>11.0</td>\n",
              "      <td>11.0</td>\n",
              "      <td>61.0</td>\n",
              "      <td>63.0</td>\n",
              "      <td>1006.5</td>\n",
              "      <td>1000.6</td>\n",
              "      <td>7.0</td>\n",
              "      <td>7.0</td>\n",
              "      <td>27.1</td>\n",
              "      <td>30.7</td>\n",
              "      <td>No</td>\n",
              "      <td>No</td>\n",
              "      <td>2008</td>\n",
              "      <td>summer</td>\n",
              "    </tr>\n",
              "    <tr>\n",
              "      <th>35430</th>\n",
              "      <td>2014-06-23</td>\n",
              "      <td>SydneyAirport</td>\n",
              "      <td>9.1</td>\n",
              "      <td>18.0</td>\n",
              "      <td>0.0</td>\n",
              "      <td>0.6</td>\n",
              "      <td>1.8</td>\n",
              "      <td>NNW</td>\n",
              "      <td>52.0</td>\n",
              "      <td>NNW</td>\n",
              "      <td>N</td>\n",
              "      <td>13.0</td>\n",
              "      <td>28.0</td>\n",
              "      <td>70.0</td>\n",
              "      <td>48.0</td>\n",
              "      <td>1014.8</td>\n",
              "      <td>1008.0</td>\n",
              "      <td>7.0</td>\n",
              "      <td>7.0</td>\n",
              "      <td>13.9</td>\n",
              "      <td>17.3</td>\n",
              "      <td>No</td>\n",
              "      <td>No</td>\n",
              "      <td>2014</td>\n",
              "      <td>winter</td>\n",
              "    </tr>\n",
              "  </tbody>\n",
              "</table>\n",
              "</div>"
            ],
            "text/plain": [
              "             Date          Location  MinTemp  MaxTemp  Rainfall  Evaporation  \\\n",
              "67743  2009-12-26         Melbourne     12.9     22.1       0.0          6.8   \n",
              "75750  2011-02-10          Portland     14.5     23.6       0.0          3.0   \n",
              "32275  2014-01-28            Sydney     19.6     26.5       0.0          9.4   \n",
              "67598  2009-08-03         Melbourne      8.8     15.4       3.2          3.6   \n",
              "117649 2009-01-21      PerthAirport     15.4     27.3       0.0         10.0   \n",
              "75986  2011-11-03          Portland     10.5     16.2       3.8          1.6   \n",
              "87682  2010-03-28            Cairns     23.9     28.4      44.4          4.4   \n",
              "13602  2013-06-13             Moree     13.2     17.2      15.6          4.0   \n",
              "123740 2017-03-27             Perth      8.3     23.3       0.2          6.2   \n",
              "104577 2014-10-15         Nuriootpa     -1.0     17.4       0.0          2.5   \n",
              "122988 2015-03-06             Perth     18.6     32.6       0.0          9.0   \n",
              "88988  2014-01-21            Cairns     22.9     30.5       0.0          6.8   \n",
              "117760 2009-05-12      PerthAirport     14.2     24.6       0.0          5.4   \n",
              "89612  2015-10-07            Cairns     20.4     27.7       7.0          9.2   \n",
              "21624  2010-05-21     NorfolkIsland     17.0     21.3       0.0          4.6   \n",
              "140693 2012-11-29            Darwin     24.8     33.5       3.4          7.4   \n",
              "66960  2016-10-29  MelbourneAirport      6.9     24.4       0.0          4.6   \n",
              "88157  2011-08-15            Cairns     16.5     27.0       0.0          7.2   \n",
              "84172  2008-12-13          Brisbane     21.9     34.2       0.0          4.2   \n",
              "35430  2014-06-23     SydneyAirport      9.1     18.0       0.0          0.6   \n",
              "\n",
              "        Sunshine WindGustDir  WindGustSpeed WindDir9am WindDir3pm  \\\n",
              "67743       13.0         SSE           46.0        SSE        SSE   \n",
              "75750        1.0         ENE           24.0          N          E   \n",
              "32275       13.0          NE           57.0        NNE         NE   \n",
              "67598        7.1           W           93.0          W         NW   \n",
              "117649      13.0         SSW           43.0        SSW         SW   \n",
              "75986        6.4           W           33.0         SW          W   \n",
              "87682        1.1          SE           50.0        SSE        ESE   \n",
              "13602        5.4         NNW           30.0         NW        WNW   \n",
              "123740      10.3         SSW           30.0         NE         SW   \n",
              "104577      12.2         SSW           33.0          N        WSW   \n",
              "122988      11.8         SSW           37.0          E        SSW   \n",
              "88988        7.0         ENE           28.0         SE         NE   \n",
              "117760       9.5           E           67.0          E        ESE   \n",
              "89612        5.8          SE           57.0         SE         SE   \n",
              "21624        7.8         WSW           26.0        WSW          W   \n",
              "140693       4.7           E           43.0        ENE          W   \n",
              "66960        9.5         NNE           41.0        NNW        NNE   \n",
              "88157        8.9          SE           41.0          S         SE   \n",
              "84172        7.2         WNW           44.0        NNW        ENE   \n",
              "35430        1.8         NNW           52.0        NNW          N   \n",
              "\n",
              "        WindSpeed9am  WindSpeed3pm  Humidity9am  Humidity3pm  Pressure9am  \\\n",
              "67743           22.0          28.0         51.0         49.0       1019.1   \n",
              "75750            9.0          11.0         88.0         71.0       1015.3   \n",
              "32275           17.0          28.0         45.0         56.0       1021.5   \n",
              "67598           20.0          13.0         65.0         35.0       1022.4   \n",
              "117649          17.0          30.0         63.0         42.0       1016.1   \n",
              "75986           13.0          24.0         89.0         70.0       1017.9   \n",
              "87682           20.0          22.0         85.0         91.0       1012.6   \n",
              "13602           17.0          17.0         86.0         65.0       1012.8   \n",
              "123740           7.0          17.0         62.0         36.0       1023.8   \n",
              "104577           4.0          17.0         66.0         35.0       1025.8   \n",
              "122988          11.0          15.0         52.0         38.0       1020.8   \n",
              "88988           11.0          17.0         68.0         64.0       1009.6   \n",
              "117760          17.0          20.0         61.0         29.0       1026.2   \n",
              "89612           35.0          30.0         66.0         59.0       1020.4   \n",
              "21624           11.0          13.0         63.0         65.0       1020.0   \n",
              "140693           9.0          15.0         84.0         75.0       1010.8   \n",
              "66960            6.0          30.0         81.0         32.0       1019.0   \n",
              "88157           19.0          30.0         64.0         51.0       1019.2   \n",
              "84172           11.0          11.0         61.0         63.0       1006.5   \n",
              "35430           13.0          28.0         70.0         48.0       1014.8   \n",
              "\n",
              "        Pressure3pm  Cloud9am  Cloud3pm  Temp9am  Temp3pm RainToday  \\\n",
              "67743        1017.7       2.0       0.0     17.1     20.2        No   \n",
              "75750        1012.3       8.0       8.0     18.5     22.8        No   \n",
              "32275        1018.4       1.0       1.0     24.7     25.5        No   \n",
              "67598        1021.9       1.0       6.0      9.9     14.8       Yes   \n",
              "117649       1013.5       1.0       4.0     20.1     26.6        No   \n",
              "75986        1018.8       7.0       6.0     12.4     15.1       Yes   \n",
              "87682        1009.5       8.0       8.0     25.6     25.1       Yes   \n",
              "13602        1010.5       3.0       7.0     14.6     16.4       Yes   \n",
              "123740       1019.7       1.0       5.0     16.5     22.5        No   \n",
              "104577       1022.1       2.0       2.0      9.2     16.6        No   \n",
              "122988       1016.7       0.0       1.0     24.5     29.8        No   \n",
              "88988        1006.7       3.0       4.0     28.9     29.4        No   \n",
              "117760       1023.6       1.0       1.0     16.5     24.1        No   \n",
              "89612        1018.4       4.0       7.0     25.9     25.9       Yes   \n",
              "21624        1018.5       6.0       6.0     20.0     20.2        No   \n",
              "140693       1007.6       7.0       7.0     27.3     29.0       Yes   \n",
              "66960        1013.0       7.0       1.0     11.6     23.3        No   \n",
              "88157        1015.8       2.0       5.0     22.6     26.0        No   \n",
              "84172        1000.6       7.0       7.0     27.1     30.7        No   \n",
              "35430        1008.0       7.0       7.0     13.9     17.3        No   \n",
              "\n",
              "       RainTomorrow  Year  season  \n",
              "67743            No  2009  summer  \n",
              "75750           Yes  2011  summer  \n",
              "32275            No  2014  summer  \n",
              "67598            No  2009  winter  \n",
              "117649           No  2009  summer  \n",
              "75986            No  2011  spring  \n",
              "87682           Yes  2010  autumn  \n",
              "13602            No  2013  winter  \n",
              "123740           No  2017  autumn  \n",
              "104577           No  2014  spring  \n",
              "122988           No  2015  autumn  \n",
              "88988            No  2014  summer  \n",
              "117760           No  2009  autumn  \n",
              "89612            No  2015  spring  \n",
              "21624            No  2010  autumn  \n",
              "140693           No  2012  spring  \n",
              "66960            No  2016  spring  \n",
              "88157            No  2011  winter  \n",
              "84172            No  2008  summer  \n",
              "35430            No  2014  winter  "
            ]
          },
          "execution_count": 90,
          "metadata": {},
          "output_type": "execute_result"
        }
      ],
      "source": [
        "data_inf"
      ]
    },
    {
      "cell_type": "code",
      "execution_count": 91,
      "metadata": {
        "id": "hWTBLzUsSU2b"
      },
      "outputs": [],
      "source": [
        "#reduksi cardinality kolom location\n",
        "data_inf2 = position(data_inf)"
      ]
    },
    {
      "cell_type": "code",
      "execution_count": 92,
      "metadata": {
        "id": "X1s7q2-USbRs"
      },
      "outputs": [],
      "source": [
        "#reduksi cardinality arah mata angin\n",
        "data_inf2 = direction_change(data_inf2)"
      ]
    },
    {
      "cell_type": "code",
      "execution_count": 93,
      "metadata": {
        "colab": {
          "base_uri": "https://localhost:8080/",
          "height": 676
        },
        "id": "7pEdJpEJI9iI",
        "outputId": "620649de-eaed-4754-fe68-8dbc56615d8a"
      },
      "outputs": [
        {
          "data": {
            "text/html": [
              "<div>\n",
              "<style scoped>\n",
              "    .dataframe tbody tr th:only-of-type {\n",
              "        vertical-align: middle;\n",
              "    }\n",
              "\n",
              "    .dataframe tbody tr th {\n",
              "        vertical-align: top;\n",
              "    }\n",
              "\n",
              "    .dataframe thead th {\n",
              "        text-align: right;\n",
              "    }\n",
              "</style>\n",
              "<table border=\"1\" class=\"dataframe\">\n",
              "  <thead>\n",
              "    <tr style=\"text-align: right;\">\n",
              "      <th></th>\n",
              "      <th>MinTemp</th>\n",
              "      <th>MaxTemp</th>\n",
              "      <th>WindGustSpeed</th>\n",
              "      <th>WindSpeed9am</th>\n",
              "      <th>WindSpeed3pm</th>\n",
              "      <th>Humidity9am</th>\n",
              "      <th>Humidity3pm</th>\n",
              "      <th>Pressure3pm</th>\n",
              "      <th>WindGustDir</th>\n",
              "      <th>WindDir9am</th>\n",
              "      <th>WindDir3pm</th>\n",
              "      <th>RainToday</th>\n",
              "      <th>season</th>\n",
              "      <th>position</th>\n",
              "    </tr>\n",
              "  </thead>\n",
              "  <tbody>\n",
              "    <tr>\n",
              "      <th>67743</th>\n",
              "      <td>12.9</td>\n",
              "      <td>22.1</td>\n",
              "      <td>46.0</td>\n",
              "      <td>22.0</td>\n",
              "      <td>28.0</td>\n",
              "      <td>51.0</td>\n",
              "      <td>49.0</td>\n",
              "      <td>1017.7</td>\n",
              "      <td>S</td>\n",
              "      <td>S</td>\n",
              "      <td>S</td>\n",
              "      <td>No</td>\n",
              "      <td>summer</td>\n",
              "      <td>bot</td>\n",
              "    </tr>\n",
              "    <tr>\n",
              "      <th>75750</th>\n",
              "      <td>14.5</td>\n",
              "      <td>23.6</td>\n",
              "      <td>24.0</td>\n",
              "      <td>9.0</td>\n",
              "      <td>11.0</td>\n",
              "      <td>88.0</td>\n",
              "      <td>71.0</td>\n",
              "      <td>1012.3</td>\n",
              "      <td>E</td>\n",
              "      <td>N</td>\n",
              "      <td>E</td>\n",
              "      <td>No</td>\n",
              "      <td>summer</td>\n",
              "      <td>bot</td>\n",
              "    </tr>\n",
              "    <tr>\n",
              "      <th>32275</th>\n",
              "      <td>19.6</td>\n",
              "      <td>26.5</td>\n",
              "      <td>57.0</td>\n",
              "      <td>17.0</td>\n",
              "      <td>28.0</td>\n",
              "      <td>45.0</td>\n",
              "      <td>56.0</td>\n",
              "      <td>1018.4</td>\n",
              "      <td>NE</td>\n",
              "      <td>N</td>\n",
              "      <td>NE</td>\n",
              "      <td>No</td>\n",
              "      <td>summer</td>\n",
              "      <td>bot</td>\n",
              "    </tr>\n",
              "    <tr>\n",
              "      <th>67598</th>\n",
              "      <td>8.8</td>\n",
              "      <td>15.4</td>\n",
              "      <td>93.0</td>\n",
              "      <td>20.0</td>\n",
              "      <td>13.0</td>\n",
              "      <td>65.0</td>\n",
              "      <td>35.0</td>\n",
              "      <td>1021.9</td>\n",
              "      <td>W</td>\n",
              "      <td>W</td>\n",
              "      <td>NW</td>\n",
              "      <td>Yes</td>\n",
              "      <td>winter</td>\n",
              "      <td>bot</td>\n",
              "    </tr>\n",
              "    <tr>\n",
              "      <th>117649</th>\n",
              "      <td>15.4</td>\n",
              "      <td>27.3</td>\n",
              "      <td>43.0</td>\n",
              "      <td>17.0</td>\n",
              "      <td>30.0</td>\n",
              "      <td>63.0</td>\n",
              "      <td>42.0</td>\n",
              "      <td>1013.5</td>\n",
              "      <td>S</td>\n",
              "      <td>S</td>\n",
              "      <td>SW</td>\n",
              "      <td>No</td>\n",
              "      <td>summer</td>\n",
              "      <td>bot</td>\n",
              "    </tr>\n",
              "    <tr>\n",
              "      <th>75986</th>\n",
              "      <td>10.5</td>\n",
              "      <td>16.2</td>\n",
              "      <td>33.0</td>\n",
              "      <td>13.0</td>\n",
              "      <td>24.0</td>\n",
              "      <td>89.0</td>\n",
              "      <td>70.0</td>\n",
              "      <td>1018.8</td>\n",
              "      <td>W</td>\n",
              "      <td>SW</td>\n",
              "      <td>W</td>\n",
              "      <td>Yes</td>\n",
              "      <td>spring</td>\n",
              "      <td>bot</td>\n",
              "    </tr>\n",
              "    <tr>\n",
              "      <th>87682</th>\n",
              "      <td>23.9</td>\n",
              "      <td>28.4</td>\n",
              "      <td>50.0</td>\n",
              "      <td>20.0</td>\n",
              "      <td>22.0</td>\n",
              "      <td>85.0</td>\n",
              "      <td>91.0</td>\n",
              "      <td>1009.5</td>\n",
              "      <td>SE</td>\n",
              "      <td>S</td>\n",
              "      <td>E</td>\n",
              "      <td>Yes</td>\n",
              "      <td>autumn</td>\n",
              "      <td>right</td>\n",
              "    </tr>\n",
              "    <tr>\n",
              "      <th>13602</th>\n",
              "      <td>13.2</td>\n",
              "      <td>17.2</td>\n",
              "      <td>30.0</td>\n",
              "      <td>17.0</td>\n",
              "      <td>17.0</td>\n",
              "      <td>86.0</td>\n",
              "      <td>65.0</td>\n",
              "      <td>1010.5</td>\n",
              "      <td>N</td>\n",
              "      <td>NW</td>\n",
              "      <td>W</td>\n",
              "      <td>Yes</td>\n",
              "      <td>winter</td>\n",
              "      <td>bot</td>\n",
              "    </tr>\n",
              "    <tr>\n",
              "      <th>123740</th>\n",
              "      <td>8.3</td>\n",
              "      <td>23.3</td>\n",
              "      <td>30.0</td>\n",
              "      <td>7.0</td>\n",
              "      <td>17.0</td>\n",
              "      <td>62.0</td>\n",
              "      <td>36.0</td>\n",
              "      <td>1019.7</td>\n",
              "      <td>S</td>\n",
              "      <td>NE</td>\n",
              "      <td>SW</td>\n",
              "      <td>No</td>\n",
              "      <td>autumn</td>\n",
              "      <td>left</td>\n",
              "    </tr>\n",
              "    <tr>\n",
              "      <th>104577</th>\n",
              "      <td>-1.0</td>\n",
              "      <td>17.4</td>\n",
              "      <td>33.0</td>\n",
              "      <td>4.0</td>\n",
              "      <td>17.0</td>\n",
              "      <td>66.0</td>\n",
              "      <td>35.0</td>\n",
              "      <td>1022.1</td>\n",
              "      <td>S</td>\n",
              "      <td>N</td>\n",
              "      <td>W</td>\n",
              "      <td>No</td>\n",
              "      <td>spring</td>\n",
              "      <td>bot</td>\n",
              "    </tr>\n",
              "    <tr>\n",
              "      <th>122988</th>\n",
              "      <td>18.6</td>\n",
              "      <td>32.6</td>\n",
              "      <td>37.0</td>\n",
              "      <td>11.0</td>\n",
              "      <td>15.0</td>\n",
              "      <td>52.0</td>\n",
              "      <td>38.0</td>\n",
              "      <td>1016.7</td>\n",
              "      <td>S</td>\n",
              "      <td>E</td>\n",
              "      <td>S</td>\n",
              "      <td>No</td>\n",
              "      <td>autumn</td>\n",
              "      <td>left</td>\n",
              "    </tr>\n",
              "    <tr>\n",
              "      <th>88988</th>\n",
              "      <td>22.9</td>\n",
              "      <td>30.5</td>\n",
              "      <td>28.0</td>\n",
              "      <td>11.0</td>\n",
              "      <td>17.0</td>\n",
              "      <td>68.0</td>\n",
              "      <td>64.0</td>\n",
              "      <td>1006.7</td>\n",
              "      <td>E</td>\n",
              "      <td>SE</td>\n",
              "      <td>NE</td>\n",
              "      <td>No</td>\n",
              "      <td>summer</td>\n",
              "      <td>right</td>\n",
              "    </tr>\n",
              "    <tr>\n",
              "      <th>117760</th>\n",
              "      <td>14.2</td>\n",
              "      <td>24.6</td>\n",
              "      <td>67.0</td>\n",
              "      <td>17.0</td>\n",
              "      <td>20.0</td>\n",
              "      <td>61.0</td>\n",
              "      <td>29.0</td>\n",
              "      <td>1023.6</td>\n",
              "      <td>E</td>\n",
              "      <td>E</td>\n",
              "      <td>E</td>\n",
              "      <td>No</td>\n",
              "      <td>autumn</td>\n",
              "      <td>bot</td>\n",
              "    </tr>\n",
              "    <tr>\n",
              "      <th>89612</th>\n",
              "      <td>20.4</td>\n",
              "      <td>27.7</td>\n",
              "      <td>57.0</td>\n",
              "      <td>35.0</td>\n",
              "      <td>30.0</td>\n",
              "      <td>66.0</td>\n",
              "      <td>59.0</td>\n",
              "      <td>1018.4</td>\n",
              "      <td>SE</td>\n",
              "      <td>SE</td>\n",
              "      <td>SE</td>\n",
              "      <td>Yes</td>\n",
              "      <td>spring</td>\n",
              "      <td>right</td>\n",
              "    </tr>\n",
              "    <tr>\n",
              "      <th>21624</th>\n",
              "      <td>17.0</td>\n",
              "      <td>21.3</td>\n",
              "      <td>26.0</td>\n",
              "      <td>11.0</td>\n",
              "      <td>13.0</td>\n",
              "      <td>63.0</td>\n",
              "      <td>65.0</td>\n",
              "      <td>1018.5</td>\n",
              "      <td>W</td>\n",
              "      <td>W</td>\n",
              "      <td>W</td>\n",
              "      <td>No</td>\n",
              "      <td>autumn</td>\n",
              "      <td>out</td>\n",
              "    </tr>\n",
              "    <tr>\n",
              "      <th>140693</th>\n",
              "      <td>24.8</td>\n",
              "      <td>33.5</td>\n",
              "      <td>43.0</td>\n",
              "      <td>9.0</td>\n",
              "      <td>15.0</td>\n",
              "      <td>84.0</td>\n",
              "      <td>75.0</td>\n",
              "      <td>1007.6</td>\n",
              "      <td>E</td>\n",
              "      <td>E</td>\n",
              "      <td>W</td>\n",
              "      <td>Yes</td>\n",
              "      <td>spring</td>\n",
              "      <td>top</td>\n",
              "    </tr>\n",
              "    <tr>\n",
              "      <th>66960</th>\n",
              "      <td>6.9</td>\n",
              "      <td>24.4</td>\n",
              "      <td>41.0</td>\n",
              "      <td>6.0</td>\n",
              "      <td>30.0</td>\n",
              "      <td>81.0</td>\n",
              "      <td>32.0</td>\n",
              "      <td>1013.0</td>\n",
              "      <td>N</td>\n",
              "      <td>N</td>\n",
              "      <td>N</td>\n",
              "      <td>No</td>\n",
              "      <td>spring</td>\n",
              "      <td>bot</td>\n",
              "    </tr>\n",
              "    <tr>\n",
              "      <th>88157</th>\n",
              "      <td>16.5</td>\n",
              "      <td>27.0</td>\n",
              "      <td>41.0</td>\n",
              "      <td>19.0</td>\n",
              "      <td>30.0</td>\n",
              "      <td>64.0</td>\n",
              "      <td>51.0</td>\n",
              "      <td>1015.8</td>\n",
              "      <td>SE</td>\n",
              "      <td>S</td>\n",
              "      <td>SE</td>\n",
              "      <td>No</td>\n",
              "      <td>winter</td>\n",
              "      <td>right</td>\n",
              "    </tr>\n",
              "    <tr>\n",
              "      <th>84172</th>\n",
              "      <td>21.9</td>\n",
              "      <td>34.2</td>\n",
              "      <td>44.0</td>\n",
              "      <td>11.0</td>\n",
              "      <td>11.0</td>\n",
              "      <td>61.0</td>\n",
              "      <td>63.0</td>\n",
              "      <td>1000.6</td>\n",
              "      <td>W</td>\n",
              "      <td>N</td>\n",
              "      <td>E</td>\n",
              "      <td>No</td>\n",
              "      <td>summer</td>\n",
              "      <td>bot</td>\n",
              "    </tr>\n",
              "    <tr>\n",
              "      <th>35430</th>\n",
              "      <td>9.1</td>\n",
              "      <td>18.0</td>\n",
              "      <td>52.0</td>\n",
              "      <td>13.0</td>\n",
              "      <td>28.0</td>\n",
              "      <td>70.0</td>\n",
              "      <td>48.0</td>\n",
              "      <td>1008.0</td>\n",
              "      <td>N</td>\n",
              "      <td>N</td>\n",
              "      <td>N</td>\n",
              "      <td>No</td>\n",
              "      <td>winter</td>\n",
              "      <td>bot</td>\n",
              "    </tr>\n",
              "  </tbody>\n",
              "</table>\n",
              "</div>"
            ],
            "text/plain": [
              "        MinTemp  MaxTemp  WindGustSpeed  WindSpeed9am  WindSpeed3pm  \\\n",
              "67743      12.9     22.1           46.0          22.0          28.0   \n",
              "75750      14.5     23.6           24.0           9.0          11.0   \n",
              "32275      19.6     26.5           57.0          17.0          28.0   \n",
              "67598       8.8     15.4           93.0          20.0          13.0   \n",
              "117649     15.4     27.3           43.0          17.0          30.0   \n",
              "75986      10.5     16.2           33.0          13.0          24.0   \n",
              "87682      23.9     28.4           50.0          20.0          22.0   \n",
              "13602      13.2     17.2           30.0          17.0          17.0   \n",
              "123740      8.3     23.3           30.0           7.0          17.0   \n",
              "104577     -1.0     17.4           33.0           4.0          17.0   \n",
              "122988     18.6     32.6           37.0          11.0          15.0   \n",
              "88988      22.9     30.5           28.0          11.0          17.0   \n",
              "117760     14.2     24.6           67.0          17.0          20.0   \n",
              "89612      20.4     27.7           57.0          35.0          30.0   \n",
              "21624      17.0     21.3           26.0          11.0          13.0   \n",
              "140693     24.8     33.5           43.0           9.0          15.0   \n",
              "66960       6.9     24.4           41.0           6.0          30.0   \n",
              "88157      16.5     27.0           41.0          19.0          30.0   \n",
              "84172      21.9     34.2           44.0          11.0          11.0   \n",
              "35430       9.1     18.0           52.0          13.0          28.0   \n",
              "\n",
              "        Humidity9am  Humidity3pm  Pressure3pm WindGustDir WindDir9am  \\\n",
              "67743          51.0         49.0       1017.7           S          S   \n",
              "75750          88.0         71.0       1012.3           E          N   \n",
              "32275          45.0         56.0       1018.4          NE          N   \n",
              "67598          65.0         35.0       1021.9           W          W   \n",
              "117649         63.0         42.0       1013.5           S          S   \n",
              "75986          89.0         70.0       1018.8           W         SW   \n",
              "87682          85.0         91.0       1009.5          SE          S   \n",
              "13602          86.0         65.0       1010.5           N         NW   \n",
              "123740         62.0         36.0       1019.7           S         NE   \n",
              "104577         66.0         35.0       1022.1           S          N   \n",
              "122988         52.0         38.0       1016.7           S          E   \n",
              "88988          68.0         64.0       1006.7           E         SE   \n",
              "117760         61.0         29.0       1023.6           E          E   \n",
              "89612          66.0         59.0       1018.4          SE         SE   \n",
              "21624          63.0         65.0       1018.5           W          W   \n",
              "140693         84.0         75.0       1007.6           E          E   \n",
              "66960          81.0         32.0       1013.0           N          N   \n",
              "88157          64.0         51.0       1015.8          SE          S   \n",
              "84172          61.0         63.0       1000.6           W          N   \n",
              "35430          70.0         48.0       1008.0           N          N   \n",
              "\n",
              "       WindDir3pm RainToday  season position  \n",
              "67743           S        No  summer      bot  \n",
              "75750           E        No  summer      bot  \n",
              "32275          NE        No  summer      bot  \n",
              "67598          NW       Yes  winter      bot  \n",
              "117649         SW        No  summer      bot  \n",
              "75986           W       Yes  spring      bot  \n",
              "87682           E       Yes  autumn    right  \n",
              "13602           W       Yes  winter      bot  \n",
              "123740         SW        No  autumn     left  \n",
              "104577          W        No  spring      bot  \n",
              "122988          S        No  autumn     left  \n",
              "88988          NE        No  summer    right  \n",
              "117760          E        No  autumn      bot  \n",
              "89612          SE       Yes  spring    right  \n",
              "21624           W        No  autumn      out  \n",
              "140693          W       Yes  spring      top  \n",
              "66960           N        No  spring      bot  \n",
              "88157          SE        No  winter    right  \n",
              "84172           E        No  summer      bot  \n",
              "35430           N        No  winter      bot  "
            ]
          },
          "execution_count": 93,
          "metadata": {},
          "output_type": "execute_result"
        }
      ],
      "source": [
        "data_inf2 = data_inf2[num_col+ohe_col]\n",
        "y_inf_real = data_inf['RainTomorrow']\n",
        "data_inf2.head(20)"
      ]
    },
    {
      "cell_type": "code",
      "execution_count": 94,
      "metadata": {
        "colab": {
          "base_uri": "https://localhost:8080/"
        },
        "id": "cG1qWbm3P3Jc",
        "outputId": "f48091ea-3eba-4ef7-b134-a23779a7dc77"
      },
      "outputs": [
        {
          "data": {
            "text/plain": [
              "(142173, 15)"
            ]
          },
          "execution_count": 94,
          "metadata": {},
          "output_type": "execute_result"
        }
      ],
      "source": [
        "new_data.shape"
      ]
    },
    {
      "cell_type": "code",
      "execution_count": 95,
      "metadata": {
        "id": "5a8pND7XJUg9"
      },
      "outputs": [],
      "source": [
        "#scaling data numerik\n",
        "data_inf_scaled = scaler.transform(data_inf2[num_col])"
      ]
    },
    {
      "cell_type": "code",
      "execution_count": 96,
      "metadata": {
        "id": "nDOUbrBpTmMj"
      },
      "outputs": [],
      "source": [
        "#encoding data kategorikal  \n",
        "data_inf_enc = ohe.transform(data_inf2[ohe_col]).toarray()"
      ]
    },
    {
      "cell_type": "code",
      "execution_count": 97,
      "metadata": {
        "id": "BF1UE2cpUdqQ"
      },
      "outputs": [],
      "source": [
        "data_inf_final = np.concatenate([data_inf_scaled, data_inf_enc], axis=1)"
      ]
    },
    {
      "cell_type": "markdown",
      "metadata": {
        "id": "CpFBCgBzp5b9"
      },
      "source": [
        "### a. Model Logistic Regression"
      ]
    },
    {
      "cell_type": "code",
      "execution_count": 98,
      "metadata": {
        "id": "r-oBB0ZlnBo5"
      },
      "outputs": [],
      "source": [
        "y_pred_inf = model.predict(data_inf_final)"
      ]
    },
    {
      "cell_type": "code",
      "execution_count": 99,
      "metadata": {
        "colab": {
          "base_uri": "https://localhost:8080/",
          "height": 676
        },
        "id": "W6CxnVPXnhmi",
        "outputId": "80de5ff4-bf23-4a3c-931e-722bc1c56162"
      },
      "outputs": [
        {
          "data": {
            "text/html": [
              "<div>\n",
              "<style scoped>\n",
              "    .dataframe tbody tr th:only-of-type {\n",
              "        vertical-align: middle;\n",
              "    }\n",
              "\n",
              "    .dataframe tbody tr th {\n",
              "        vertical-align: top;\n",
              "    }\n",
              "\n",
              "    .dataframe thead th {\n",
              "        text-align: right;\n",
              "    }\n",
              "</style>\n",
              "<table border=\"1\" class=\"dataframe\">\n",
              "  <thead>\n",
              "    <tr style=\"text-align: right;\">\n",
              "      <th></th>\n",
              "      <th>real</th>\n",
              "      <th>prediction</th>\n",
              "    </tr>\n",
              "  </thead>\n",
              "  <tbody>\n",
              "    <tr>\n",
              "      <th>0</th>\n",
              "      <td>No</td>\n",
              "      <td>No</td>\n",
              "    </tr>\n",
              "    <tr>\n",
              "      <th>1</th>\n",
              "      <td>Yes</td>\n",
              "      <td>No</td>\n",
              "    </tr>\n",
              "    <tr>\n",
              "      <th>2</th>\n",
              "      <td>No</td>\n",
              "      <td>No</td>\n",
              "    </tr>\n",
              "    <tr>\n",
              "      <th>3</th>\n",
              "      <td>No</td>\n",
              "      <td>Yes</td>\n",
              "    </tr>\n",
              "    <tr>\n",
              "      <th>4</th>\n",
              "      <td>No</td>\n",
              "      <td>No</td>\n",
              "    </tr>\n",
              "    <tr>\n",
              "      <th>5</th>\n",
              "      <td>No</td>\n",
              "      <td>No</td>\n",
              "    </tr>\n",
              "    <tr>\n",
              "      <th>6</th>\n",
              "      <td>Yes</td>\n",
              "      <td>Yes</td>\n",
              "    </tr>\n",
              "    <tr>\n",
              "      <th>7</th>\n",
              "      <td>No</td>\n",
              "      <td>No</td>\n",
              "    </tr>\n",
              "    <tr>\n",
              "      <th>8</th>\n",
              "      <td>No</td>\n",
              "      <td>No</td>\n",
              "    </tr>\n",
              "    <tr>\n",
              "      <th>9</th>\n",
              "      <td>No</td>\n",
              "      <td>No</td>\n",
              "    </tr>\n",
              "    <tr>\n",
              "      <th>10</th>\n",
              "      <td>No</td>\n",
              "      <td>No</td>\n",
              "    </tr>\n",
              "    <tr>\n",
              "      <th>11</th>\n",
              "      <td>No</td>\n",
              "      <td>No</td>\n",
              "    </tr>\n",
              "    <tr>\n",
              "      <th>12</th>\n",
              "      <td>No</td>\n",
              "      <td>No</td>\n",
              "    </tr>\n",
              "    <tr>\n",
              "      <th>13</th>\n",
              "      <td>No</td>\n",
              "      <td>No</td>\n",
              "    </tr>\n",
              "    <tr>\n",
              "      <th>14</th>\n",
              "      <td>No</td>\n",
              "      <td>No</td>\n",
              "    </tr>\n",
              "    <tr>\n",
              "      <th>15</th>\n",
              "      <td>No</td>\n",
              "      <td>Yes</td>\n",
              "    </tr>\n",
              "    <tr>\n",
              "      <th>16</th>\n",
              "      <td>No</td>\n",
              "      <td>No</td>\n",
              "    </tr>\n",
              "    <tr>\n",
              "      <th>17</th>\n",
              "      <td>No</td>\n",
              "      <td>No</td>\n",
              "    </tr>\n",
              "    <tr>\n",
              "      <th>18</th>\n",
              "      <td>No</td>\n",
              "      <td>Yes</td>\n",
              "    </tr>\n",
              "    <tr>\n",
              "      <th>19</th>\n",
              "      <td>No</td>\n",
              "      <td>No</td>\n",
              "    </tr>\n",
              "  </tbody>\n",
              "</table>\n",
              "</div>"
            ],
            "text/plain": [
              "   real prediction\n",
              "0    No         No\n",
              "1   Yes         No\n",
              "2    No         No\n",
              "3    No        Yes\n",
              "4    No         No\n",
              "5    No         No\n",
              "6   Yes        Yes\n",
              "7    No         No\n",
              "8    No         No\n",
              "9    No         No\n",
              "10   No         No\n",
              "11   No         No\n",
              "12   No         No\n",
              "13   No         No\n",
              "14   No         No\n",
              "15   No        Yes\n",
              "16   No         No\n",
              "17   No         No\n",
              "18   No        Yes\n",
              "19   No         No"
            ]
          },
          "execution_count": 99,
          "metadata": {},
          "output_type": "execute_result"
        }
      ],
      "source": [
        "real_pred = pd.DataFrame({'real': list(y_inf_real), 'prediction': list(le.inverse_transform(y_pred_inf))})\n",
        "real_pred"
      ]
    },
    {
      "cell_type": "markdown",
      "metadata": {
        "id": "fNAZeZl-ewPl"
      },
      "source": [
        "### b. Model SVM"
      ]
    },
    {
      "cell_type": "code",
      "execution_count": 100,
      "metadata": {
        "id": "khdmNST-e0ip"
      },
      "outputs": [],
      "source": [
        "y_pred_inf_svc = model2.predict(data_inf_final)"
      ]
    },
    {
      "cell_type": "code",
      "execution_count": 101,
      "metadata": {
        "colab": {
          "base_uri": "https://localhost:8080/",
          "height": 676
        },
        "id": "kbshfLz-e6XT",
        "outputId": "0d29871a-85cb-429d-e673-ea2270dbde25"
      },
      "outputs": [
        {
          "data": {
            "text/html": [
              "<div>\n",
              "<style scoped>\n",
              "    .dataframe tbody tr th:only-of-type {\n",
              "        vertical-align: middle;\n",
              "    }\n",
              "\n",
              "    .dataframe tbody tr th {\n",
              "        vertical-align: top;\n",
              "    }\n",
              "\n",
              "    .dataframe thead th {\n",
              "        text-align: right;\n",
              "    }\n",
              "</style>\n",
              "<table border=\"1\" class=\"dataframe\">\n",
              "  <thead>\n",
              "    <tr style=\"text-align: right;\">\n",
              "      <th></th>\n",
              "      <th>real</th>\n",
              "      <th>prediction</th>\n",
              "    </tr>\n",
              "  </thead>\n",
              "  <tbody>\n",
              "    <tr>\n",
              "      <th>0</th>\n",
              "      <td>No</td>\n",
              "      <td>No</td>\n",
              "    </tr>\n",
              "    <tr>\n",
              "      <th>1</th>\n",
              "      <td>Yes</td>\n",
              "      <td>No</td>\n",
              "    </tr>\n",
              "    <tr>\n",
              "      <th>2</th>\n",
              "      <td>No</td>\n",
              "      <td>No</td>\n",
              "    </tr>\n",
              "    <tr>\n",
              "      <th>3</th>\n",
              "      <td>No</td>\n",
              "      <td>No</td>\n",
              "    </tr>\n",
              "    <tr>\n",
              "      <th>4</th>\n",
              "      <td>No</td>\n",
              "      <td>No</td>\n",
              "    </tr>\n",
              "    <tr>\n",
              "      <th>5</th>\n",
              "      <td>No</td>\n",
              "      <td>No</td>\n",
              "    </tr>\n",
              "    <tr>\n",
              "      <th>6</th>\n",
              "      <td>Yes</td>\n",
              "      <td>Yes</td>\n",
              "    </tr>\n",
              "    <tr>\n",
              "      <th>7</th>\n",
              "      <td>No</td>\n",
              "      <td>No</td>\n",
              "    </tr>\n",
              "    <tr>\n",
              "      <th>8</th>\n",
              "      <td>No</td>\n",
              "      <td>No</td>\n",
              "    </tr>\n",
              "    <tr>\n",
              "      <th>9</th>\n",
              "      <td>No</td>\n",
              "      <td>No</td>\n",
              "    </tr>\n",
              "    <tr>\n",
              "      <th>10</th>\n",
              "      <td>No</td>\n",
              "      <td>No</td>\n",
              "    </tr>\n",
              "    <tr>\n",
              "      <th>11</th>\n",
              "      <td>No</td>\n",
              "      <td>No</td>\n",
              "    </tr>\n",
              "    <tr>\n",
              "      <th>12</th>\n",
              "      <td>No</td>\n",
              "      <td>No</td>\n",
              "    </tr>\n",
              "    <tr>\n",
              "      <th>13</th>\n",
              "      <td>No</td>\n",
              "      <td>No</td>\n",
              "    </tr>\n",
              "    <tr>\n",
              "      <th>14</th>\n",
              "      <td>No</td>\n",
              "      <td>No</td>\n",
              "    </tr>\n",
              "    <tr>\n",
              "      <th>15</th>\n",
              "      <td>No</td>\n",
              "      <td>Yes</td>\n",
              "    </tr>\n",
              "    <tr>\n",
              "      <th>16</th>\n",
              "      <td>No</td>\n",
              "      <td>No</td>\n",
              "    </tr>\n",
              "    <tr>\n",
              "      <th>17</th>\n",
              "      <td>No</td>\n",
              "      <td>No</td>\n",
              "    </tr>\n",
              "    <tr>\n",
              "      <th>18</th>\n",
              "      <td>No</td>\n",
              "      <td>No</td>\n",
              "    </tr>\n",
              "    <tr>\n",
              "      <th>19</th>\n",
              "      <td>No</td>\n",
              "      <td>No</td>\n",
              "    </tr>\n",
              "  </tbody>\n",
              "</table>\n",
              "</div>"
            ],
            "text/plain": [
              "   real prediction\n",
              "0    No         No\n",
              "1   Yes         No\n",
              "2    No         No\n",
              "3    No         No\n",
              "4    No         No\n",
              "5    No         No\n",
              "6   Yes        Yes\n",
              "7    No         No\n",
              "8    No         No\n",
              "9    No         No\n",
              "10   No         No\n",
              "11   No         No\n",
              "12   No         No\n",
              "13   No         No\n",
              "14   No         No\n",
              "15   No        Yes\n",
              "16   No         No\n",
              "17   No         No\n",
              "18   No         No\n",
              "19   No         No"
            ]
          },
          "execution_count": 101,
          "metadata": {},
          "output_type": "execute_result"
        }
      ],
      "source": [
        "real_pred2 = pd.DataFrame({'real': list(y_inf_real), 'prediction': list(le.inverse_transform(y_pred_inf_svc))})\n",
        "real_pred2"
      ]
    },
    {
      "cell_type": "markdown",
      "metadata": {
        "id": "bC6DGQLOZyDE"
      },
      "source": [
        "## 10. Pengambilan Kesimpulan"
      ]
    },
    {
      "cell_type": "markdown",
      "metadata": {},
      "source": [
        "* secara garis besar jika dilihat menggunakan accuracy score kedua model baik svm maupun logistic regression sudah cukup baik yaitu dengan accuracy score untuk logistic regression adalah kisaran 0.83 sedangkan untuk svm lebih unggul dikisaran 0.85\n",
        "* kabar buruknya adalah untuk kasus prediksi cuaca (hujan), nilai metric recall sangat penting dalam kasus ini dan kedua model memberikan score yang buruk. recall untuk kedua model berada di rentang angka 0.47. ini berarti akan banyak hari yang seharusnya hujan namun model memprediksi tidak hujan, dan ini akan sangat merugikan bagi sebagian orang."
      ]
    }
  ],
  "metadata": {
    "colab": {
      "collapsed_sections": [
        "dc4f7kc5ZyCy",
        "2Foe4NinZyCz",
        "V9bjAs5DZyC1",
        "lfex0pu1ZyDA",
        "o9QVbQZcZyDB"
      ],
      "name": "h8dsft_P1W1LGSVM_kevin_boy_gunawan.ipynb",
      "provenance": []
    },
    "interpreter": {
      "hash": "6f49874e70d65f3ad41d30fdc4564a87c0f9ee1662c3c57c6ddd6b2e48d08ee9"
    },
    "kernelspec": {
      "display_name": "Python 3.8.1 64-bit",
      "language": "python",
      "name": "python3"
    },
    "language_info": {
      "codemirror_mode": {
        "name": "ipython",
        "version": 3
      },
      "file_extension": ".py",
      "mimetype": "text/x-python",
      "name": "python",
      "nbconvert_exporter": "python",
      "pygments_lexer": "ipython3",
      "version": "3.8.1"
    }
  },
  "nbformat": 4,
  "nbformat_minor": 0
}
